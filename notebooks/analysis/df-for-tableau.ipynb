{
 "cells": [
  {
   "cell_type": "code",
   "execution_count": 4,
   "id": "2ce973fe-fe4f-4eb9-b001-da7a43251b96",
   "metadata": {},
   "outputs": [],
   "source": [
    "import pandas as pd\n",
    "import os"
   ]
  },
  {
   "cell_type": "code",
   "execution_count": 3,
   "id": "d6ae0deb-b1b7-461b-a206-581164cb9f22",
   "metadata": {},
   "outputs": [],
   "source": [
    "data_path = \"../../../../data/output/complete/\""
   ]
  },
  {
   "cell_type": "code",
   "execution_count": 5,
   "id": "276591f3-27d6-488f-98b2-2bff264615fe",
   "metadata": {},
   "outputs": [],
   "source": [
    "files = os.listdir(data_path)"
   ]
  },
  {
   "cell_type": "code",
   "execution_count": 10,
   "id": "322063da-fc2c-4dc3-b427-422587b45a12",
   "metadata": {},
   "outputs": [],
   "source": [
    "dfs = []\n",
    "for f in files:\n",
    "    if f.startswith('part-'):\n",
    "        tmp = pd.read_csv(f\"{data_path}{f}\", low_memory=False)\n",
    "        dfs.append(tmp)"
   ]
  },
  {
   "cell_type": "code",
   "execution_count": 11,
   "id": "f093b4ec-390a-4930-bf82-cbd577d2622a",
   "metadata": {},
   "outputs": [],
   "source": [
    "df = pd.concat(dfs, ignore_index=True)"
   ]
  },
  {
   "cell_type": "code",
   "execution_count": 16,
   "id": "8109d99b-556a-46a8-b31c-d6831a74c35c",
   "metadata": {},
   "outputs": [],
   "source": [
    "df.to_csv('data/london.csv', index=None)"
   ]
  },
  {
   "cell_type": "code",
   "execution_count": null,
   "id": "b3e7ed42-b5ee-43ea-b1c3-516c65173f62",
   "metadata": {},
   "outputs": [],
   "source": []
  }
 ],
 "metadata": {
  "kernelspec": {
   "display_name": "Python 3 (ipykernel)",
   "language": "python",
   "name": "python3"
  },
  "language_info": {
   "codemirror_mode": {
    "name": "ipython",
    "version": 3
   },
   "file_extension": ".py",
   "mimetype": "text/x-python",
   "name": "python",
   "nbconvert_exporter": "python",
   "pygments_lexer": "ipython3",
   "version": "3.11.6"
  }
 },
 "nbformat": 4,
 "nbformat_minor": 5
}
