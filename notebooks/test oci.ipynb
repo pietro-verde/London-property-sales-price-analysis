{
 "cells": [
  {
   "cell_type": "code",
   "execution_count": 11,
   "id": "7dc65546-23f3-4fc0-b5f0-f6c89d071da4",
   "metadata": {},
   "outputs": [],
   "source": [
    "from pyspark.sql import SparkSession\n",
    "import pyspark.sql.functions as F"
   ]
  },
  {
   "cell_type": "code",
   "execution_count": 3,
   "id": "b091286d-d44f-4146-9af8-c1afbf398248",
   "metadata": {},
   "outputs": [],
   "source": [
    "OCI_ACCESS_KEY_ID = \"f12a940090e79f11b9c8686f50d1f9abc357307f\"\n",
    "OCI_SECRET_ACCESS_KEY = \"UOs9CI56ZvGIETioUV9ijqxKgtKU1a/fT7jg4Qvkq8c=\"\n",
    "OCI_REGION = 'uk-london-1'\n",
    "OCI_NAMESPACE = 'lrqgbz9z6zlj'\n",
    "BUCKET_NAME = 'london-property-sales-price'"
   ]
  },
  {
   "cell_type": "code",
   "execution_count": 19,
   "id": "41e7ddca-f061-473a-8a68-42fc8a3bb335",
   "metadata": {},
   "outputs": [],
   "source": [
    "db_url = \"jdbc:postgresql://pgdatabase:5432/prova\"\n",
    "db_properties = {\n",
    "    \"user\": \"root\",\n",
    "    \"password\": \"root\",\n",
    "    \"driver\": \"org.postgresql.Driver\"\n",
    "}"
   ]
  },
  {
   "cell_type": "code",
   "execution_count": 4,
   "id": "b9d2d00d-f998-4ea8-870c-19c988910872",
   "metadata": {},
   "outputs": [],
   "source": [
    "spark = SparkSession.builder \\\n",
    "    .master(\"local[*]\") \\\n",
    "    .appName('PySparkOCIConnection') \\\n",
    "    .config('spark.jars.packages', 'org.apache.hadoop:hadoop-aws:3.3.4,com.amazonaws:aws-java-sdk-bundle:1.12.506') \\\n",
    "    .config('spark.hadoop.fs.s3a.endpoint', f'https://{OCI_NAMESPACE}.compat.objectstorage.{OCI_REGION}.oraclecloud.com') \\\n",
    "    .config('spark.hadoop.fs.s3a.access.key', OCI_ACCESS_KEY_ID) \\\n",
    "    .config('spark.hadoop.fs.s3a.secret.key', OCI_SECRET_ACCESS_KEY) \\\n",
    "    .config('spark.hadoop.fs.s3a.impl', 'org.apache.hadoop.fs.s3a.S3AFileSystem') \\\n",
    "    .config('spark.hadoop.fs.s3a.path.style.access', 'true') \\\n",
    "    .config('spark.hadoop.fs.s3a.connection.ssl.enabled', 'true') \\\n",
    "    .config(\"spark.jars\", \"/opt/spark/jars/postgresql-42.7.4.jar\") \\\n",
    "    .getOrCreate()"
   ]
  },
  {
   "cell_type": "code",
   "execution_count": 5,
   "id": "26f8bc34-93c9-4fb8-928d-df1f55f2b29f",
   "metadata": {},
   "outputs": [],
   "source": [
    "file_path = f's3a://{BUCKET_NAME}/chunks/*.parquet'\n",
    "\n",
    "df = spark.read.parquet(file_path, header=True, inferSchema=True)"
   ]
  },
  {
   "cell_type": "code",
   "execution_count": 17,
   "id": "be610f22-c2f6-4dbd-ab45-1792f9a26e7e",
   "metadata": {},
   "outputs": [],
   "source": [
    "grouped = df.groupby(F.col('DISTRICT')).agg(F.sum('PRICE').alias('somma'))"
   ]
  },
  {
   "cell_type": "code",
   "execution_count": 20,
   "id": "2bf63cb8-012c-4a5b-9aad-b26e72553609",
   "metadata": {},
   "outputs": [],
   "source": [
    "grouped.write.jdbc(url=db_url, table=\"prova1\", mode=\"overwrite\", properties=db_properties)\n"
   ]
  },
  {
   "cell_type": "code",
   "execution_count": 7,
   "id": "908084ed-ceac-4672-8403-5138dfaf0f60",
   "metadata": {},
   "outputs": [],
   "source": [
    "spark.stop()"
   ]
  }
 ],
 "metadata": {
  "kernelspec": {
   "display_name": "Python 3 (ipykernel)",
   "language": "python",
   "name": "python3"
  },
  "language_info": {
   "codemirror_mode": {
    "name": "ipython",
    "version": 3
   },
   "file_extension": ".py",
   "mimetype": "text/x-python",
   "name": "python",
   "nbconvert_exporter": "python",
   "pygments_lexer": "ipython3",
   "version": "3.11.6"
  }
 },
 "nbformat": 4,
 "nbformat_minor": 5
}
