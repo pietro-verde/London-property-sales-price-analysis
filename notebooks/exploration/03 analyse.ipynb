{
 "cells": [
  {
   "cell_type": "code",
   "execution_count": null,
   "id": "f31efea8-c7c1-4d01-bc67-9a9086524673",
   "metadata": {},
   "outputs": [],
   "source": [
    "import pandas as pd\n",
    "import os"
   ]
  },
  {
   "cell_type": "code",
   "execution_count": null,
   "id": "c174e1c4-365f-4ab2-b811-f17f5fbe5540",
   "metadata": {},
   "outputs": [],
   "source": [
    "ppd_folder = \"ppd/\"\n",
    "files = os.listdir(ppd_folder)\n",
    "\n",
    "dfs = []\n",
    "for f in files:\n",
    "    tmp = pd.read_parquet(ppd_folder+f)\n",
    "    dfs.append(tmp)\n",
    "ppd = pd.concat(dfs, ignore_index=True)"
   ]
  },
  {
   "cell_type": "code",
   "execution_count": null,
   "id": "10dc70d0-cfdd-4809-b2f9-e9aaf6b0b704",
   "metadata": {},
   "outputs": [],
   "source": [
    "ppd"
   ]
  },
  {
   "cell_type": "code",
   "execution_count": 7,
   "id": "080e04d0-81ac-42c1-9720-028efea224e7",
   "metadata": {},
   "outputs": [],
   "source": [
    "from datetime import date"
   ]
  },
  {
   "cell_type": "code",
   "execution_count": 1,
   "id": "ee2f47fa-b7cc-4ff8-8504-8de71b532b66",
   "metadata": {},
   "outputs": [],
   "source": [
    "import pandas as pd\n",
    "\n",
    "\n",
    "csv_url = \"http://prod.publicdata.landregistry.gov.uk.s3-website-eu-west-1.amazonaws.com/pp-complete.csv\"\n",
    "\n",
    "\n",
    "\n",
    "header = ['TRANSACTION_UNIQUE_IDENTIFIER','PRICE',\n",
    "        'DATE_OF_TRANSFER','POSTCODE','PROPERTY_TYPE',\n",
    "        'OLD_NEW','DURATION','PAON','SAON','STREET',\n",
    "        'LOCALITY','TOWN_CITY','DISTRICT','COUNTY',\n",
    "        'PPD_CATEGORY_TYPE','RECORD_STATUS_MONTHLY_FILE_ONLY']\n",
    "\n",
    "chunk_size = 100\n",
    "\n",
    "df_iter = pd.read_csv(csv_url, iterator=True, chunksize=chunk_size, header=None, names=header)\n"
   ]
  },
  {
   "cell_type": "code",
   "execution_count": 18,
   "id": "4da1ea14-7276-40c5-a702-283f80b5821a",
   "metadata": {},
   "outputs": [],
   "source": [
    "df_prova = next(df_iter)"
   ]
  },
  {
   "cell_type": "code",
   "execution_count": 19,
   "id": "cd8299c8-82a9-4464-b2c6-ffe0fdcea7a9",
   "metadata": {},
   "outputs": [
    {
     "data": {
      "text/plain": [
       "TRANSACTION_UNIQUE_IDENTIFIER      object\n",
       "PRICE                               int64\n",
       "DATE_OF_TRANSFER                   object\n",
       "POSTCODE                           object\n",
       "PROPERTY_TYPE                      object\n",
       "OLD_NEW                            object\n",
       "DURATION                           object\n",
       "PAON                               object\n",
       "SAON                               object\n",
       "STREET                             object\n",
       "LOCALITY                           object\n",
       "TOWN_CITY                          object\n",
       "DISTRICT                           object\n",
       "COUNTY                             object\n",
       "PPD_CATEGORY_TYPE                  object\n",
       "RECORD_STATUS_MONTHLY_FILE_ONLY    object\n",
       "dtype: object"
      ]
     },
     "execution_count": 19,
     "metadata": {},
     "output_type": "execute_result"
    }
   ],
   "source": [
    "df_prova.dtypes"
   ]
  },
  {
   "cell_type": "code",
   "execution_count": 21,
   "id": "214f0837-be94-485e-ac93-db1987fa8e6d",
   "metadata": {},
   "outputs": [
    {
     "data": {
      "text/html": [
       "<div>\n",
       "<style scoped>\n",
       "    .dataframe tbody tr th:only-of-type {\n",
       "        vertical-align: middle;\n",
       "    }\n",
       "\n",
       "    .dataframe tbody tr th {\n",
       "        vertical-align: top;\n",
       "    }\n",
       "\n",
       "    .dataframe thead th {\n",
       "        text-align: right;\n",
       "    }\n",
       "</style>\n",
       "<table border=\"1\" class=\"dataframe\">\n",
       "  <thead>\n",
       "    <tr style=\"text-align: right;\">\n",
       "      <th></th>\n",
       "      <th>TRANSACTION_UNIQUE_IDENTIFIER</th>\n",
       "      <th>PRICE</th>\n",
       "      <th>DATE_OF_TRANSFER</th>\n",
       "      <th>POSTCODE</th>\n",
       "      <th>PROPERTY_TYPE</th>\n",
       "      <th>OLD_NEW</th>\n",
       "      <th>DURATION</th>\n",
       "      <th>PAON</th>\n",
       "      <th>SAON</th>\n",
       "      <th>STREET</th>\n",
       "      <th>LOCALITY</th>\n",
       "      <th>TOWN_CITY</th>\n",
       "      <th>DISTRICT</th>\n",
       "      <th>COUNTY</th>\n",
       "      <th>PPD_CATEGORY_TYPE</th>\n",
       "      <th>RECORD_STATUS_MONTHLY_FILE_ONLY</th>\n",
       "    </tr>\n",
       "  </thead>\n",
       "  <tbody>\n",
       "    <tr>\n",
       "      <th>110</th>\n",
       "      <td>{3639489A-69D0-4872-A19D-91F63E5CA203}</td>\n",
       "      <td>200500</td>\n",
       "      <td>1995-11-20 00:00</td>\n",
       "      <td>SE23 2QA</td>\n",
       "      <td>D</td>\n",
       "      <td>N</td>\n",
       "      <td>F</td>\n",
       "      <td>40</td>\n",
       "      <td>NaN</td>\n",
       "      <td>SUNDERLAND ROAD</td>\n",
       "      <td>LONDON</td>\n",
       "      <td>LONDON</td>\n",
       "      <td>LEWISHAM</td>\n",
       "      <td>GREATER LONDON</td>\n",
       "      <td>A</td>\n",
       "      <td>A</td>\n",
       "    </tr>\n",
       "    <tr>\n",
       "      <th>159</th>\n",
       "      <td>{5B71326C-4F5F-48DC-BC21-91F6E807D94B}</td>\n",
       "      <td>87950</td>\n",
       "      <td>1995-11-30 00:00</td>\n",
       "      <td>SE18 4PR</td>\n",
       "      <td>F</td>\n",
       "      <td>N</td>\n",
       "      <td>L</td>\n",
       "      <td>ROBERTSON HOUSE</td>\n",
       "      <td>FLAT 5</td>\n",
       "      <td>ROYAL HERBERT PAVILIONS</td>\n",
       "      <td>LONDON</td>\n",
       "      <td>LONDON</td>\n",
       "      <td>GREENWICH</td>\n",
       "      <td>GREATER LONDON</td>\n",
       "      <td>A</td>\n",
       "      <td>A</td>\n",
       "    </tr>\n",
       "  </tbody>\n",
       "</table>\n",
       "</div>"
      ],
      "text/plain": [
       "              TRANSACTION_UNIQUE_IDENTIFIER   PRICE  DATE_OF_TRANSFER  \\\n",
       "110  {3639489A-69D0-4872-A19D-91F63E5CA203}  200500  1995-11-20 00:00   \n",
       "159  {5B71326C-4F5F-48DC-BC21-91F6E807D94B}   87950  1995-11-30 00:00   \n",
       "\n",
       "     POSTCODE PROPERTY_TYPE OLD_NEW DURATION             PAON    SAON  \\\n",
       "110  SE23 2QA             D       N        F               40     NaN   \n",
       "159  SE18 4PR             F       N        L  ROBERTSON HOUSE  FLAT 5   \n",
       "\n",
       "                      STREET LOCALITY TOWN_CITY   DISTRICT          COUNTY  \\\n",
       "110          SUNDERLAND ROAD   LONDON    LONDON   LEWISHAM  GREATER LONDON   \n",
       "159  ROYAL HERBERT PAVILIONS   LONDON    LONDON  GREENWICH  GREATER LONDON   \n",
       "\n",
       "    PPD_CATEGORY_TYPE RECORD_STATUS_MONTHLY_FILE_ONLY  \n",
       "110                 A                               A  \n",
       "159                 A                               A  "
      ]
     },
     "execution_count": 21,
     "metadata": {},
     "output_type": "execute_result"
    }
   ],
   "source": [
    "df_prova[\n",
    "    (df_prova['COUNTY'] == 'GREATER LONDON')\n",
    "    &(df_prova[\"DATE_OF_TRANSFER\"]>'1995-11-01')\n",
    "]"
   ]
  },
  {
   "cell_type": "code",
   "execution_count": 35,
   "id": "9c7dc8f4-40bc-4935-9228-f6d5a9666e18",
   "metadata": {},
   "outputs": [],
   "source": [
    "def transform(df):    \n",
    "    df = df[\n",
    "        (df['COUNTY'] == 'GREATER LONDON')\n",
    "        &(df[\"DATE_OF_TRANSFER\"]>'1995-11-01')\n",
    "    ]\n",
    "    return df"
   ]
  },
  {
   "cell_type": "code",
   "execution_count": 36,
   "id": "5aa766fb-3a76-4fa6-ac6c-8adf470086a7",
   "metadata": {},
   "outputs": [],
   "source": [
    "df_transformed = transform(df_prova)"
   ]
  },
  {
   "cell_type": "code",
   "execution_count": 39,
   "id": "a2cf326f-89b5-4419-b80c-cb210a73796b",
   "metadata": {},
   "outputs": [
    {
     "data": {
      "text/plain": [
       "2"
      ]
     },
     "execution_count": 39,
     "metadata": {},
     "output_type": "execute_result"
    }
   ],
   "source": [
    "len(df_transformed)"
   ]
  },
  {
   "cell_type": "code",
   "execution_count": 8,
   "id": "d7a2c5ea-2668-4b62-b503-61e03ff80117",
   "metadata": {},
   "outputs": [
    {
     "data": {
      "text/html": [
       "<div>\n",
       "<style scoped>\n",
       "    .dataframe tbody tr th:only-of-type {\n",
       "        vertical-align: middle;\n",
       "    }\n",
       "\n",
       "    .dataframe tbody tr th {\n",
       "        vertical-align: top;\n",
       "    }\n",
       "\n",
       "    .dataframe thead th {\n",
       "        text-align: right;\n",
       "    }\n",
       "</style>\n",
       "<table border=\"1\" class=\"dataframe\">\n",
       "  <thead>\n",
       "    <tr style=\"text-align: right;\">\n",
       "      <th></th>\n",
       "      <th>TRANSACTION_UNIQUE_IDENTIFIER</th>\n",
       "      <th>PRICE</th>\n",
       "      <th>DATE_OF_TRANSFER</th>\n",
       "      <th>POSTCODE</th>\n",
       "      <th>PROPERTY_TYPE</th>\n",
       "      <th>OLD_NEW</th>\n",
       "      <th>DURATION</th>\n",
       "      <th>PAON</th>\n",
       "      <th>SAON</th>\n",
       "      <th>STREET</th>\n",
       "      <th>LOCALITY</th>\n",
       "      <th>TOWN_CITY</th>\n",
       "      <th>DISTRICT</th>\n",
       "      <th>COUNTY</th>\n",
       "      <th>PPD_CATEGORY_TYPE</th>\n",
       "      <th>RECORD_STATUS_MONTHLY_FILE_ONLY</th>\n",
       "    </tr>\n",
       "  </thead>\n",
       "  <tbody>\n",
       "    <tr>\n",
       "      <th>0</th>\n",
       "      <td>{5BBE9CB3-6332-4EB0-9CD3-8737CEA4A65A}</td>\n",
       "      <td>42000</td>\n",
       "      <td>1995-12-21 00:00</td>\n",
       "      <td>NE4 9DN</td>\n",
       "      <td>S</td>\n",
       "      <td>N</td>\n",
       "      <td>F</td>\n",
       "      <td>8</td>\n",
       "      <td>NaN</td>\n",
       "      <td>MATFEN PLACE</td>\n",
       "      <td>FENHAM</td>\n",
       "      <td>NEWCASTLE UPON TYNE</td>\n",
       "      <td>NEWCASTLE UPON TYNE</td>\n",
       "      <td>TYNE AND WEAR</td>\n",
       "      <td>A</td>\n",
       "      <td>A</td>\n",
       "    </tr>\n",
       "    <tr>\n",
       "      <th>8</th>\n",
       "      <td>{F7A5CAE4-BDD3-4911-897C-8AC393B97281}</td>\n",
       "      <td>43000</td>\n",
       "      <td>1995-12-01 00:00</td>\n",
       "      <td>LA6 3DQ</td>\n",
       "      <td>T</td>\n",
       "      <td>N</td>\n",
       "      <td>F</td>\n",
       "      <td>90</td>\n",
       "      <td>NaN</td>\n",
       "      <td>NEW VILLAGE</td>\n",
       "      <td>INGLETON</td>\n",
       "      <td>CARNFORTH</td>\n",
       "      <td>CRAVEN</td>\n",
       "      <td>NORTH YORKSHIRE</td>\n",
       "      <td>A</td>\n",
       "      <td>A</td>\n",
       "    </tr>\n",
       "    <tr>\n",
       "      <th>75</th>\n",
       "      <td>{5D4952FA-5C76-405F-8F82-8738E6E28A4E}</td>\n",
       "      <td>54000</td>\n",
       "      <td>1995-12-20 00:00</td>\n",
       "      <td>MK18 3QZ</td>\n",
       "      <td>T</td>\n",
       "      <td>N</td>\n",
       "      <td>F</td>\n",
       "      <td>7</td>\n",
       "      <td>NaN</td>\n",
       "      <td>RUDDS CLOSE</td>\n",
       "      <td>WINSLOW</td>\n",
       "      <td>BUCKINGHAM</td>\n",
       "      <td>AYLESBURY VALE</td>\n",
       "      <td>BUCKINGHAMSHIRE</td>\n",
       "      <td>A</td>\n",
       "      <td>A</td>\n",
       "    </tr>\n",
       "    <tr>\n",
       "      <th>92</th>\n",
       "      <td>{B07FDFED-3E8D-4BAF-A933-8739608D7590}</td>\n",
       "      <td>60000</td>\n",
       "      <td>1995-12-18 00:00</td>\n",
       "      <td>SM5 3DY</td>\n",
       "      <td>S</td>\n",
       "      <td>N</td>\n",
       "      <td>F</td>\n",
       "      <td>21</td>\n",
       "      <td>NaN</td>\n",
       "      <td>PARK LANE</td>\n",
       "      <td>CARSHALTON</td>\n",
       "      <td>CARSHALTON</td>\n",
       "      <td>SUTTON</td>\n",
       "      <td>GREATER LONDON</td>\n",
       "      <td>A</td>\n",
       "      <td>A</td>\n",
       "    </tr>\n",
       "  </tbody>\n",
       "</table>\n",
       "</div>"
      ],
      "text/plain": [
       "             TRANSACTION_UNIQUE_IDENTIFIER  PRICE  DATE_OF_TRANSFER  POSTCODE  \\\n",
       "0   {5BBE9CB3-6332-4EB0-9CD3-8737CEA4A65A}  42000  1995-12-21 00:00   NE4 9DN   \n",
       "8   {F7A5CAE4-BDD3-4911-897C-8AC393B97281}  43000  1995-12-01 00:00   LA6 3DQ   \n",
       "75  {5D4952FA-5C76-405F-8F82-8738E6E28A4E}  54000  1995-12-20 00:00  MK18 3QZ   \n",
       "92  {B07FDFED-3E8D-4BAF-A933-8739608D7590}  60000  1995-12-18 00:00   SM5 3DY   \n",
       "\n",
       "   PROPERTY_TYPE OLD_NEW DURATION PAON SAON        STREET    LOCALITY  \\\n",
       "0              S       N        F    8  NaN  MATFEN PLACE      FENHAM   \n",
       "8              T       N        F   90  NaN   NEW VILLAGE    INGLETON   \n",
       "75             T       N        F    7  NaN   RUDDS CLOSE     WINSLOW   \n",
       "92             S       N        F   21  NaN     PARK LANE  CARSHALTON   \n",
       "\n",
       "              TOWN_CITY             DISTRICT           COUNTY  \\\n",
       "0   NEWCASTLE UPON TYNE  NEWCASTLE UPON TYNE    TYNE AND WEAR   \n",
       "8             CARNFORTH               CRAVEN  NORTH YORKSHIRE   \n",
       "75           BUCKINGHAM       AYLESBURY VALE  BUCKINGHAMSHIRE   \n",
       "92           CARSHALTON               SUTTON   GREATER LONDON   \n",
       "\n",
       "   PPD_CATEGORY_TYPE RECORD_STATUS_MONTHLY_FILE_ONLY  \n",
       "0                  A                               A  \n",
       "8                  A                               A  \n",
       "75                 A                               A  \n",
       "92                 A                               A  "
      ]
     },
     "execution_count": 8,
     "metadata": {},
     "output_type": "execute_result"
    }
   ],
   "source": []
  },
  {
   "cell_type": "code",
   "execution_count": 4,
   "id": "e98ab59c-dc8e-4cd4-a0d7-a857487b8b0e",
   "metadata": {},
   "outputs": [],
   "source": [
    "df_prova.to_parquet(\"notrans.parquet\")"
   ]
  },
  {
   "cell_type": "code",
   "execution_count": 50,
   "id": "64e2020a-889f-4f36-83fa-6173647d1979",
   "metadata": {},
   "outputs": [],
   "source": [
    "df_prova['DATE_OF_TRANSFER'] = pd.to_datetime(df_prova['DATE_OF_TRANSFER'])"
   ]
  },
  {
   "cell_type": "code",
   "execution_count": 52,
   "id": "4d045d78-107c-42c2-a903-c40a140b1637",
   "metadata": {},
   "outputs": [],
   "source": [
    "transformed = df_prova[df_prova['DATE_OF_TRANSFER'].dt.date >= date(1995,5,1)]"
   ]
  },
  {
   "cell_type": "code",
   "execution_count": 59,
   "id": "4e64d81d-ddac-41c0-87ea-19c27bc016aa",
   "metadata": {},
   "outputs": [
    {
     "name": "stderr",
     "output_type": "stream",
     "text": [
      "/tmp/ipykernel_122997/2999378639.py:1: SettingWithCopyWarning: \n",
      "A value is trying to be set on a copy of a slice from a DataFrame.\n",
      "Try using .loc[row_indexer,col_indexer] = value instead\n",
      "\n",
      "See the caveats in the documentation: https://pandas.pydata.org/pandas-docs/stable/user_guide/indexing.html#returning-a-view-versus-a-copy\n",
      "  transformed['DATE_OF_TRANSFER'] = transformed['DATE_OF_TRANSFER'].astype(str)\n"
     ]
    }
   ],
   "source": [
    "transformed['DATE_OF_TRANSFER'] = transformed['DATE_OF_TRANSFER'].astype(str)"
   ]
  },
  {
   "cell_type": "code",
   "execution_count": 44,
   "id": "1be2f8c1-bfef-4076-9fd2-7e887027c076",
   "metadata": {},
   "outputs": [],
   "source": [
    "transformed = df_prova[df_prova['DATE_OF_TRANSFER'] >= '1995-11-01']"
   ]
  },
  {
   "cell_type": "code",
   "execution_count": 60,
   "id": "e9e7f39d-3836-43bc-8fc2-b6ee08df2954",
   "metadata": {},
   "outputs": [],
   "source": [
    "transformed.to_parquet(\"trans.parquet\")"
   ]
  },
  {
   "cell_type": "code",
   "execution_count": null,
   "id": "710057bf-c94c-4cbb-916b-824beb854b28",
   "metadata": {},
   "outputs": [],
   "source": []
  },
  {
   "cell_type": "code",
   "execution_count": 46,
   "id": "f1153411-9165-4a5b-905c-9b9e94055c2e",
   "metadata": {},
   "outputs": [],
   "source": [
    "from pyspark.sql import SparkSession\n",
    "from pyspark.sql import functions as F"
   ]
  },
  {
   "cell_type": "code",
   "execution_count": 47,
   "id": "51bd1fb1-b40a-4fe6-9f7a-25cd60b5b677",
   "metadata": {},
   "outputs": [],
   "source": [
    "session = SparkSession.builder.getOrCreate()"
   ]
  },
  {
   "cell_type": "code",
   "execution_count": 61,
   "id": "79184f25-084b-4b36-85d9-4892edf92cec",
   "metadata": {},
   "outputs": [],
   "source": [
    "df = session.read.parquet(\"trans.parquet\")"
   ]
  },
  {
   "cell_type": "code",
   "execution_count": 62,
   "id": "29c55dad-60f0-4747-b045-95e4a43ae0a1",
   "metadata": {},
   "outputs": [
    {
     "name": "stdout",
     "output_type": "stream",
     "text": [
      "+-----------------------------+------+-------------------+--------+-------------+-------+--------+------------+--------+-------------------+----------------+---------------+--------------------+------------------+-----------------+-------------------------------+-----------------+\n",
      "|TRANSACTION_UNIQUE_IDENTIFIER| PRICE|   DATE_OF_TRANSFER|POSTCODE|PROPERTY_TYPE|OLD_NEW|DURATION|        PAON|    SAON|             STREET|        LOCALITY|      TOWN_CITY|            DISTRICT|            COUNTY|PPD_CATEGORY_TYPE|RECORD_STATUS_MONTHLY_FILE_ONLY|__index_level_0__|\n",
      "+-----------------------------+------+-------------------+--------+-------------+-------+--------+------------+--------+-------------------+----------------+---------------+--------------------+------------------+-----------------+-------------------------------+-----------------+\n",
      "|         {611A9774-3EFE-4C...| 50000|1995-06-30 00:00:00| WF8 2EY|            S|      N|       F|          12|    NULL|        PRAIL CLOSE|      PONTEFRACT|     PONTEFRACT|           WAKEFIELD|    WEST YORKSHIRE|                A|                              A|            10000|\n",
      "|         {CE832DC9-8F9A-48...| 63000|1995-06-16 00:00:00| LN4 1LH|            D|      N|       F|          76|    NULL|       STATION ROAD|        BRANSTON|        LINCOLN|      NORTH KESTEVEN|      LINCOLNSHIRE|                A|                              A|            10002|\n",
      "|         {D7CEF211-69B9-46...| 27500|1995-05-26 00:00:00| M40 9DN|            S|      N|       F|          20|    NULL|     BRENDON AVENUE|      MANCHESTER|     MANCHESTER|          MANCHESTER|GREATER MANCHESTER|                A|                              A|            10003|\n",
      "|         {157F4B1F-A2B8-42...| 27000|1995-08-18 00:00:00|SA73 2JF|            S|      N|       F|     BROMLEY|    NULL|     STRATFORD ROAD|   MILFORD HAVEN|  MILFORD HAVEN|PRESELI PEMBROKES...|             DYFED|                A|                              A|            10005|\n",
      "|         {DA1CE587-D9E4-46...| 57500|1995-05-19 00:00:00|MK40 4QG|            T|      Y|       F|          14|    NULL|         WOOD CLOSE|       BIDDENHAM|        BEDFORD|  NORTH BEDFORDSHIRE|      BEDFORDSHIRE|                A|                              A|            10006|\n",
      "|         {E8097A29-F030-44...| 75000|1995-12-15 00:00:00| CH7 4PZ|            D|      N|       F|           7|    NULL|           MAES IAL|LLANARMON YN IAL|           MOLD|             GLYNDWR|             CLWYD|                A|                              A|            10007|\n",
      "|         {9A6BA7EA-0F87-44...| 72500|1995-07-25 00:00:00|SS15 6JZ|            S|      N|       F|          19|    NULL|         FORD CLOSE|         LAINDON|       BASILDON|            BASILDON|             ESSEX|                A|                              A|            10008|\n",
      "|         {0DBC7386-17E2-4F...| 55000|1995-08-31 00:00:00| TN4 9JB|            S|      N|       F|          1A|    NULL|    SILVERDALE ROAD|            NULL|TUNBRIDGE WELLS|     TUNBRIDGE WELLS|              KENT|                A|                              A|            10009|\n",
      "|         {31E4C7EE-967E-47...| 92500|1995-06-09 00:00:00|TR26 3DW|            D|      N|       F|           1|    NULL|          RIVERSIDE|          LELANT|       ST. IVES|             PENWITH|          CORNWALL|                A|                              A|            10010|\n",
      "|         {AD82814C-DE73-4E...| 62000|1995-11-15 00:00:00|DY10 4JQ|            T|      N|       F|           6|    NULL|     BRAMBLING RISE|   KIDDERMINSTER|  KIDDERMINSTER|         WYRE FOREST|    WORCESTERSHIRE|                A|                              A|            10011|\n",
      "|         {AD3CCF6B-6657-4D...| 60000|1995-09-13 00:00:00|DN11 9JF|            D|      N|       F|          54|    NULL|       DADSLEY ROAD|        TICKHILL|      DONCASTER|           DONCASTER|   SOUTH YORKSHIRE|                A|                              A|            10012|\n",
      "|         {AD90CCB3-2394-42...|220000|1995-07-21 00:00:00|EN10 7JA|            D|      Y|       F|          11|    NULL|BROXBOURNEBURY MEWS|      BROXBOURNE|     BROXBOURNE|          BROXBOURNE|     HERTFORDSHIRE|                A|                              A|            10013|\n",
      "|         {0AAF5976-DF4D-41...| 73000|1995-10-30 00:00:00| SM2 6TH|            F|      N|       L|      ORMSBY|       5|        GRANGE ROAD|          SUTTON|         SUTTON|              SUTTON|    GREATER LONDON|                A|                              A|            10014|\n",
      "|         {4B117D39-BE53-44...| 17000|1995-08-04 00:00:00|GL51 6QB|            F|      N|       F|   ABLINGTON|TOP FLAT|      LANSDOWN ROAD|      CHELTENHAM|     CHELTENHAM|          CHELTENHAM|   GLOUCESTERSHIRE|                A|                              A|            10015|\n",
      "|         {7C4E51C9-BF12-47...| 58000|1995-06-30 00:00:00| EN8 8AT|            T|      N|       F|          21|    NULL|    HEDWORTH AVENUE|   WALTHAM CROSS|  WALTHAM CROSS|          BROXBOURNE|     HERTFORDSHIRE|                A|                              A|            10016|\n",
      "|         {2A494799-FCD7-41...|157750|1995-05-05 00:00:00| NW4 2AD|            S|      Y|       F|         42B|    NULL|          BELL LANE|          LONDON|         LONDON|              BARNET|    GREATER LONDON|                A|                              A|            10017|\n",
      "|         {21C95AAE-E10A-42...| 68500|1995-12-08 00:00:00|NR11 8SP|            D|      N|       F|FLINT CORNER|    NULL|  OLD TURNPIKE ROAD|        ROUGHTON|        NORWICH|       NORTH NORFOLK|           NORFOLK|                A|                              A|            10018|\n",
      "|         {10C7B896-5A98-4B...| 50000|1995-10-23 00:00:00| RG2 7TW|            T|      N|       F|         239|    NULL|     NEWCASTLE ROAD|         READING|        READING|             READING|           READING|                A|                              A|            10020|\n",
      "|         {DA3B77F9-1500-44...| 85000|1995-08-25 00:00:00| GU2 9NQ|            S|      N|       F|          48|    NULL|         MANOR ROAD|       GUILDFORD|      GUILDFORD|           GUILDFORD|            SURREY|                A|                              A|            10021|\n",
      "|         {12A04755-1177-4F...| 69000|1995-07-28 00:00:00| OX5 1QP|            S|      N|       F|          26|    NULL|      BERNARD CLOSE|         YARNTON|     KIDLINGTON|            CHERWELL|       OXFORDSHIRE|                A|                              A|            10022|\n",
      "+-----------------------------+------+-------------------+--------+-------------+-------+--------+------------+--------+-------------------+----------------+---------------+--------------------+------------------+-----------------+-------------------------------+-----------------+\n",
      "only showing top 20 rows\n",
      "\n"
     ]
    }
   ],
   "source": [
    "df.show()"
   ]
  },
  {
   "cell_type": "code",
   "execution_count": null,
   "id": "ff0054a7-85e9-4031-a37c-cd53ef4aeda7",
   "metadata": {},
   "outputs": [],
   "source": []
  },
  {
   "cell_type": "code",
   "execution_count": null,
   "id": "6ef3e27d-a3e9-4aaf-91e3-4b21b96883e7",
   "metadata": {},
   "outputs": [],
   "source": [
    "ppd_folder = \"ppd/\"\n",
    "files = os.listdir(ppd_folder)"
   ]
  },
  {
   "cell_type": "code",
   "execution_count": null,
   "id": "be300c84-f87d-4421-839f-9a63dbeb932e",
   "metadata": {},
   "outputs": [],
   "source": []
  },
  {
   "cell_type": "code",
   "execution_count": null,
   "id": "0f743388-ad5e-464b-94f4-283b31cb6885",
   "metadata": {},
   "outputs": [],
   "source": [
    "df = session.read.parquet(ppd_folder+files[0])"
   ]
  },
  {
   "cell_type": "code",
   "execution_count": 48,
   "id": "4eec34d2-254f-4910-90f2-de43bdf8e719",
   "metadata": {},
   "outputs": [],
   "source": [
    "# import pandas as pd\n",
    "# import os\n",
    "# import oci\n",
    "\n",
    "# config = oci.config.from_file(\"/config/oci/config\", \"DEFAULT\")\n",
    "# object_storage_client = oci.object_storage.ObjectStorageClient(config)"
   ]
  },
  {
   "cell_type": "code",
   "execution_count": 49,
   "id": "957284c2-baa6-470b-ae03-8718998dcb42",
   "metadata": {},
   "outputs": [],
   "source": [
    "OCI_ACCESS_KEY_ID = os.environ['OCI_ACCESS_KEY_ID']\n",
    "OCI_SECRET_ACCESS_KEY = os.environ['OCI_SECRET_ACCESS_KEY']"
   ]
  },
  {
   "cell_type": "code",
   "execution_count": null,
   "id": "e6e41606-b65b-48aa-a577-2c36a89bd7a0",
   "metadata": {},
   "outputs": [],
   "source": [
    "if len(chunk)>0:\n",
    "    chunk.to_parquet(local_file_path)\n",
    "    bucket_file_path = f\"{bucket_folder}{file_name}\"\n",
    "    with open(local_file_path, 'rb') as file:\n",
    "        object_storage_client.put_object(namespace, bucket_name, bucket_file_path, file)\n",
    "        print('transfer')\n",
    "    os.remove(local_file_path)"
   ]
  },
  {
   "cell_type": "code",
   "execution_count": 51,
   "id": "21327385-f6fb-4354-93d0-57b6e9b4c73d",
   "metadata": {},
   "outputs": [
    {
     "ename": "ModuleNotFoundError",
     "evalue": "No module named 'boto3'",
     "output_type": "error",
     "traceback": [
      "\u001b[0;31m---------------------------------------------------------------------------\u001b[0m",
      "\u001b[0;31mModuleNotFoundError\u001b[0m                       Traceback (most recent call last)",
      "Cell \u001b[0;32mIn[51], line 1\u001b[0m\n\u001b[0;32m----> 1\u001b[0m \u001b[38;5;28;01mimport\u001b[39;00m \u001b[38;5;21;01mboto3\u001b[39;00m\n",
      "\u001b[0;31mModuleNotFoundError\u001b[0m: No module named 'boto3'"
     ]
    }
   ],
   "source": [
    "import boto3"
   ]
  },
  {
   "cell_type": "code",
   "execution_count": 52,
   "id": "f8f302f1-d4bb-434f-9875-6e1f4c40e26e",
   "metadata": {},
   "outputs": [
    {
     "name": "stdout",
     "output_type": "stream",
     "text": [
      "Collecting boto3\n",
      "  Downloading boto3-1.35.46-py3-none-any.whl.metadata (6.7 kB)\n",
      "Collecting botocore<1.36.0,>=1.35.46 (from boto3)\n",
      "  Downloading botocore-1.35.46-py3-none-any.whl.metadata (5.7 kB)\n",
      "Collecting jmespath<2.0.0,>=0.7.1 (from boto3)\n",
      "  Downloading jmespath-1.0.1-py3-none-any.whl.metadata (7.6 kB)\n",
      "Collecting s3transfer<0.11.0,>=0.10.0 (from boto3)\n",
      "  Downloading s3transfer-0.10.3-py3-none-any.whl.metadata (1.7 kB)\n",
      "Requirement already satisfied: python-dateutil<3.0.0,>=2.1 in /opt/conda/lib/python3.11/site-packages (from botocore<1.36.0,>=1.35.46->boto3) (2.8.2)\n",
      "Requirement already satisfied: urllib3!=2.2.0,<3,>=1.25.4 in /opt/conda/lib/python3.11/site-packages (from botocore<1.36.0,>=1.35.46->boto3) (2.0.7)\n",
      "Requirement already satisfied: six>=1.5 in /opt/conda/lib/python3.11/site-packages (from python-dateutil<3.0.0,>=2.1->botocore<1.36.0,>=1.35.46->boto3) (1.16.0)\n",
      "Downloading boto3-1.35.46-py3-none-any.whl (139 kB)\n",
      "\u001b[2K   \u001b[90m━━━━━━━━━━━━━━━━━━━━━━━━━━━━━━━━━━━━━━━━\u001b[0m \u001b[32m139.2/139.2 kB\u001b[0m \u001b[31m8.2 MB/s\u001b[0m eta \u001b[36m0:00:00\u001b[0m\n",
      "\u001b[?25hDownloading botocore-1.35.46-py3-none-any.whl (12.6 MB)\n",
      "\u001b[2K   \u001b[90m━━━━━━━━━━━━━━━━━━━━━━━━━━━━━━━━━━━━━━━━\u001b[0m \u001b[32m12.6/12.6 MB\u001b[0m \u001b[31m49.5 MB/s\u001b[0m eta \u001b[36m0:00:00\u001b[0m00:01\u001b[0m0:01\u001b[0m\n",
      "\u001b[?25hDownloading jmespath-1.0.1-py3-none-any.whl (20 kB)\n",
      "Downloading s3transfer-0.10.3-py3-none-any.whl (82 kB)\n",
      "\u001b[2K   \u001b[90m━━━━━━━━━━━━━━━━━━━━━━━━━━━━━━━━━━━━━━━━\u001b[0m \u001b[32m82.6/82.6 kB\u001b[0m \u001b[31m11.1 MB/s\u001b[0m eta \u001b[36m0:00:00\u001b[0m\n",
      "\u001b[?25hInstalling collected packages: jmespath, botocore, s3transfer, boto3\n",
      "Successfully installed boto3-1.35.46 botocore-1.35.46 jmespath-1.0.1 s3transfer-0.10.3\n"
     ]
    }
   ],
   "source": [
    "!pip install boto3"
   ]
  }
 ],
 "metadata": {
  "kernelspec": {
   "display_name": "Python 3 (ipykernel)",
   "language": "python",
   "name": "python3"
  },
  "language_info": {
   "codemirror_mode": {
    "name": "ipython",
    "version": 3
   },
   "file_extension": ".py",
   "mimetype": "text/x-python",
   "name": "python",
   "nbconvert_exporter": "python",
   "pygments_lexer": "ipython3",
   "version": "3.11.6"
  }
 },
 "nbformat": 4,
 "nbformat_minor": 5
}
