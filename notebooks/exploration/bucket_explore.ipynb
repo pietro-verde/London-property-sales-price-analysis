{
 "cells": [
  {
   "cell_type": "code",
   "execution_count": 5,
   "id": "9c9ec1b3-6ad0-4db7-8c48-76289faf91d4",
   "metadata": {},
   "outputs": [],
   "source": [
    "from bucket_utils import Bucket\n",
    "\n",
    "OCI_REGION ='uk-london-1'\n",
    "OCI_NAMESPACE = 'lrqgbz9z6zlj'\n",
    "bucket_name = 'london-property-sales-price'\n",
    "\n",
    "bucket_session = Bucket(OCI_REGION, OCI_NAMESPACE, bucket_name)"
   ]
  },
  {
   "cell_type": "code",
   "execution_count": 7,
   "id": "c9373c18-f8a6-4345-8193-a86322cf87f7",
   "metadata": {},
   "outputs": [],
   "source": [
    "objects = bucket_session.list_objects()"
   ]
  },
  {
   "cell_type": "code",
   "execution_count": 8,
   "id": "825ea65e-968b-4433-be72-5b7c84067af1",
   "metadata": {},
   "outputs": [],
   "source": [
    "bucket_session.close()"
   ]
  }
 ],
 "metadata": {
  "kernelspec": {
   "display_name": "Python 3 (ipykernel)",
   "language": "python",
   "name": "python3"
  },
  "language_info": {
   "codemirror_mode": {
    "name": "ipython",
    "version": 3
   },
   "file_extension": ".py",
   "mimetype": "text/x-python",
   "name": "python",
   "nbconvert_exporter": "python",
   "pygments_lexer": "ipython3",
   "version": "3.11.6"
  }
 },
 "nbformat": 4,
 "nbformat_minor": 5
}
