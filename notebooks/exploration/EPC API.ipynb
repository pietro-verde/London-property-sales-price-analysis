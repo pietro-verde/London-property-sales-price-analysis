{
 "cells": [
  {
   "cell_type": "code",
   "execution_count": 3,
   "id": "0a25dd28-b66c-4dd2-8dd7-f641700c031d",
   "metadata": {},
   "outputs": [],
   "source": [
    "import urllib.request\n",
    "from urllib.parse import urlencode\n",
    "import os\n",
    "\n",
    "query_size = 5000\n",
    "part_n = 0\n",
    "token = os.environ['EPC_TOKEN']\n",
    "\n",
    "base_url = 'https://epc.opendatacommunities.org/api/v1/domestic/search'\n",
    "query_params = {\n",
    "    'address':'london',\n",
    "    'size': query_size\n",
    "}\n",
    "\n",
    "headers = {\n",
    "\t'Accept': 'text/csv',\n",
    "\t'Authorization': f'Basic {token}'\n",
    "}\n",
    "first_request = True\n",
    "next_page = None\n",
    "\n",
    "while next_page != None or first_request:\n",
    "    if not first_request:\n",
    "        query_params[\"search-after\"] = next_page\n",
    "    \n",
    "    encoded_params = urlencode(query_params)\n",
    "    \n",
    "    url = f\"{base_url}?{encoded_params}\"\n",
    "    \n",
    "    response = urllib.request.urlopen(urllib.request.Request(url, headers=headers))\n",
    "    \n",
    "    response_body = response.read()\n",
    "    data = response_body.decode()    \n",
    "    next_page = response.getheader('X-Next-Search-After')\n",
    "    \n",
    "    part_n+= 1\n",
    "    \n",
    "    output_file = f'output/f{part_n}.csv'\n",
    "    with open(output_file, \"w\") as f:\n",
    "        f.write(data)\n",
    "        \n",
    "    first_request = False"
   ]
  },
  {
   "cell_type": "code",
   "execution_count": null,
   "id": "9a4b1428-eac3-489f-9214-40204bbd49f1",
   "metadata": {},
   "outputs": [],
   "source": []
  },
  {
   "cell_type": "code",
   "execution_count": null,
   "id": "ed5d82c6-d8f5-4197-b81f-3130b7ea32db",
   "metadata": {},
   "outputs": [],
   "source": [
    "import pandas as pd\n",
    "import os\n",
    "\n",
    "files = os.listdir(\"output/\")\n",
    "files.remove(\".ipynb_checkpoints\")\n",
    "\n",
    "dfs = []\n",
    "for f in files:\n",
    "    tmp = pd.read_csv(\"output/\"+f)\n",
    "    dfs.append(tmp)\n",
    "\n",
    "df = pd.concat(dfs,ignore_index=True)\n",
    "\n",
    "pr = df[df['postcode'].str.contains('SE10')]\n",
    "\n",
    "pr[pr['postcode'].str.contains('8')]"
   ]
  },
  {
   "cell_type": "code",
   "execution_count": 15,
   "id": "86d38941-8190-43fe-b7ad-09861518af2a",
   "metadata": {},
   "outputs": [
    {
     "data": {
      "text/plain": [
       "Index(['lmk-key', 'address1', 'address2', 'address3', 'postcode',\n",
       "       'building-reference-number', 'current-energy-rating',\n",
       "       'potential-energy-rating', 'current-energy-efficiency',\n",
       "       'potential-energy-efficiency', 'property-type', 'built-form',\n",
       "       'inspection-date', 'local-authority', 'constituency', 'county',\n",
       "       'lodgement-date', 'transaction-type', 'environment-impact-current',\n",
       "       'environment-impact-potential', 'energy-consumption-current',\n",
       "       'energy-consumption-potential', 'co2-emissions-current',\n",
       "       'co2-emiss-curr-per-floor-area', 'co2-emissions-potential',\n",
       "       'lighting-cost-current', 'lighting-cost-potential',\n",
       "       'heating-cost-current', 'heating-cost-potential',\n",
       "       'hot-water-cost-current', 'hot-water-cost-potential',\n",
       "       'total-floor-area', 'energy-tariff', 'mains-gas-flag', 'floor-level',\n",
       "       'flat-top-storey', 'flat-storey-count', 'main-heating-controls',\n",
       "       'multi-glaze-proportion', 'glazed-type', 'glazed-area',\n",
       "       'extension-count', 'number-habitable-rooms', 'number-heated-rooms',\n",
       "       'low-energy-lighting', 'number-open-fireplaces', 'hotwater-description',\n",
       "       'hot-water-energy-eff', 'hot-water-env-eff', 'floor-description',\n",
       "       'floor-energy-eff', 'floor-env-eff', 'windows-description',\n",
       "       'windows-energy-eff', 'windows-env-eff', 'walls-description',\n",
       "       'walls-energy-eff', 'walls-env-eff', 'secondheat-description',\n",
       "       'sheating-energy-eff', 'sheating-env-eff', 'roof-description',\n",
       "       'roof-energy-eff', 'roof-env-eff', 'mainheat-description',\n",
       "       'mainheat-energy-eff', 'mainheat-env-eff', 'mainheatcont-description',\n",
       "       'mainheatc-energy-eff', 'mainheatc-env-eff', 'lighting-description',\n",
       "       'lighting-energy-eff', 'lighting-env-eff', 'main-fuel',\n",
       "       'wind-turbine-count', 'heat-loss-corridor', 'unheated-corridor-length',\n",
       "       'floor-height', 'photo-supply', 'solar-water-heating-flag',\n",
       "       'mechanical-ventilation', 'address', 'local-authority-label',\n",
       "       'constituency-label', 'posttown', 'construction-age-band',\n",
       "       'lodgement-datetime', 'tenure', 'fixed-lighting-outlets-count',\n",
       "       'low-energy-fixed-light-count', 'uprn', 'uprn-source'],\n",
       "      dtype='object')"
      ]
     },
     "execution_count": 15,
     "metadata": {},
     "output_type": "execute_result"
    }
   ],
   "source": [
    "df.columns"
   ]
  }
 ],
 "metadata": {
  "kernelspec": {
   "display_name": "Python 3 (ipykernel)",
   "language": "python",
   "name": "python3"
  },
  "language_info": {
   "codemirror_mode": {
    "name": "ipython",
    "version": 3
   },
   "file_extension": ".py",
   "mimetype": "text/x-python",
   "name": "python",
   "nbconvert_exporter": "python",
   "pygments_lexer": "ipython3",
   "version": "3.11.6"
  }
 },
 "nbformat": 4,
 "nbformat_minor": 5
}
