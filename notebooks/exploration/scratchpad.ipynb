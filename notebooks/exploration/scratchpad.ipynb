{
 "cells": [
  {
   "cell_type": "code",
   "execution_count": 4,
   "id": "bc703a4e-ecb1-443e-b715-79c675ff8644",
   "metadata": {},
   "outputs": [],
   "source": [
    "DWH_USER = os.environ[\"DWH_USER\"]\n",
    "DWH_PASSWORD = os.environ[\"DWH_PASSWORD\"]\n",
    "DWH_DB = os.environ[\"DWH_DB\"]\n",
    "\n"
   ]
  }
 ],
 "metadata": {
  "kernelspec": {
   "display_name": "Python 3 (ipykernel)",
   "language": "python",
   "name": "python3"
  },
  "language_info": {
   "codemirror_mode": {
    "name": "ipython",
    "version": 3
   },
   "file_extension": ".py",
   "mimetype": "text/x-python",
   "name": "python",
   "nbconvert_exporter": "python",
   "pygments_lexer": "ipython3",
   "version": "3.11.6"
  }
 },
 "nbformat": 4,
 "nbformat_minor": 5
}
