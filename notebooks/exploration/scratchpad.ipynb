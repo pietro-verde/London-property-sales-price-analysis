{
 "cells": [
  {
   "cell_type": "code",
   "execution_count": null,
   "id": "c59fb0c7-6b54-4e41-b9c3-a6e7400941dd",
   "metadata": {},
   "outputs": [],
   "source": [
    "import warnings\n",
    "warnings.filterwarnings('ignore')"
   ]
  },
  {
   "cell_type": "code",
   "execution_count": null,
   "id": "b9ec5e75-9e5f-4f3a-9639-c98cc26253e7",
   "metadata": {},
   "outputs": [],
   "source": [
    "import requests\n",
    "import zipfile\n",
    "import pandas as pd\n",
    "import os\n",
    "import pickle\n",
    "\n",
    "token = os.environ['EPC_TOKEN']"
   ]
  },
  {
   "cell_type": "code",
   "execution_count": null,
   "id": "a280a6c9-2e6a-4c0b-b7e7-4de018de2e02",
   "metadata": {},
   "outputs": [],
   "source": []
  },
  {
   "cell_type": "code",
   "execution_count": null,
   "id": "5fd86b9b-0641-4e9d-8a90-f447399e26b6",
   "metadata": {},
   "outputs": [],
   "source": [
    "import requests\n",
    "import os\n",
    "import pickle\n",
    "# import configs\n",
    "\n",
    "epc_file_path = \"../../../../data/epc-files.pkl\"\n",
    "with open(epc_file_path, \"rb\") as f:\n",
    "    epc_files = pickle.load(f)\n",
    "    \n",
    "token = os.environ['EPC_TOKEN']\n",
    "\n",
    "def download_epc_file(local_folder, file, chunk_size):\n",
    "\n",
    "    if not os.path.exists(local_folder):\n",
    "        os.makedirs(local_folder)\n",
    "\n",
    "    output_file = f\"{local_folder}/{file}\"\n",
    "    url = f\"https://epc.opendatacommunities.org/api/v1/files/{file}\"\n",
    "    headers = {\n",
    "        \"Authorization\": f\"Basic {token}\"\n",
    "    }\n",
    "    \n",
    "    try:\n",
    "        response = requests.get(url, headers=headers, stream=True)\n",
    "        response.raise_for_status()\n",
    "    \n",
    "        with open(output_file, \"wb\") as out_file:\n",
    "            for chunk in response.iter_content(chunk_size):\n",
    "                out_file.write(chunk)\n",
    "        print(f\"{file} downloaded.\")\n",
    "    except requests.exceptions.RequestException as e:\n",
    "        print(f\"Error: {e}\")\n",
    "\n",
    "\n",
    "def download_epc_file_list(local_folder, file_list, chunk_size):\n",
    "    for file in file_list:\n",
    "        download_epc_file(local_folder, file, chunk_size)"
   ]
  },
  {
   "cell_type": "code",
   "execution_count": null,
   "id": "7ee3444b-0a4a-4e22-b488-2fe47a1fd897",
   "metadata": {},
   "outputs": [],
   "source": [
    "# epc_files = epc_files[:3]\n",
    "# epc_files"
   ]
  },
  {
   "cell_type": "code",
   "execution_count": null,
   "id": "4fee464a-a6e6-4b2c-b774-1fef0b413c24",
   "metadata": {},
   "outputs": [],
   "source": [
    "local_folder = 'prova_epc/'\n",
    "chunk_size = 100_000\n",
    "\n",
    "download_epc_file_list(local_folder, epc_files, chunk_size)"
   ]
  },
  {
   "cell_type": "code",
   "execution_count": null,
   "id": "24808225-b8e6-4bde-a21f-acc02ac8032f",
   "metadata": {},
   "outputs": [],
   "source": []
  },
  {
   "cell_type": "code",
   "execution_count": null,
   "id": "346843fd-2d9b-46c6-a1df-e7aa6eed918d",
   "metadata": {},
   "outputs": [],
   "source": []
  },
  {
   "cell_type": "code",
   "execution_count": null,
   "id": "958de431-a3f6-4ae3-8724-be3947fe9b04",
   "metadata": {},
   "outputs": [],
   "source": []
  },
  {
   "cell_type": "code",
   "execution_count": null,
   "id": "98e6c964-e709-40ac-8f36-64b6319b3a6f",
   "metadata": {},
   "outputs": [],
   "source": [
    "import zipfile\n",
    "import os\n",
    "\n",
    "def extract_file(local_folder, file):\n",
    "    zipped_file = f\"{local_folder}{file}\"\n",
    "    extract_to = f\"{zipped_file}\"[:-4]\n",
    "    try:\n",
    "        with zipfile.ZipFile(zipped_file, 'r') as zip_ref:\n",
    "            zip_ref.extractall(extract_to)\n",
    "    except Exception as e:\n",
    "        print(f\"Error: {e}\")\n",
    "\n",
    "def extract_file_list(local_folder, file_list):\n",
    "    for file in file_list:\n",
    "        extract_file(local_folder, file)\n",
    "        os.remove(f\"{local_folder}{file}\")"
   ]
  },
  {
   "cell_type": "code",
   "execution_count": null,
   "id": "8ed54a51-8e42-472a-a94d-f9772257b0a1",
   "metadata": {},
   "outputs": [],
   "source": [
    "extract_to = f\"{zipped_file}\"[:-4]\n",
    "\n",
    "extract_to"
   ]
  },
  {
   "cell_type": "code",
   "execution_count": null,
   "id": "9765586e-bb90-4aef-9fb0-4c9edfed1059",
   "metadata": {},
   "outputs": [],
   "source": [
    "!rm -rf prova"
   ]
  },
  {
   "cell_type": "code",
   "execution_count": 62,
   "id": "0f491057-6a1c-44a7-b8de-6e50bdd0921d",
   "metadata": {},
   "outputs": [],
   "source": [
    "import pandas as pd\n",
    "from bucket_utils import Bucket\n",
    "import pickle\n",
    "import os\n",
    "\n",
    "   \n",
    "london_local_authorities_path = \"../../../../data/london-local-authorities.csv\"\n",
    "london_authorities = list(\n",
    "    pd.read_csv(london_local_authorities_path)\\\n",
    "    ['Code']\n",
    ")\n",
    "\n",
    "# epc_columns_path = \"../../../../data/epc-columns.pkl\"\n",
    "# with open(epc_columns_path, \"rb\") as f:\n",
    "#     columns = pickle.load(f)\n",
    "# columns_set = set(columns) \n",
    "columns = [\"ADDRESS\",\"POSTCODE\",\"TOTAL_FLOOR_AREA\"]\n",
    "columns_set = set(columns)\n",
    "\n",
    "def transform(df):\n",
    "    df = df[df['LOCAL_AUTHORITY'].isin(london_authorities)]\n",
    "    cols_in_file_set = set(df.columns)\n",
    "    missing_cols = columns_set - cols_in_file_set\n",
    "    for col in missing_cols:\n",
    "        df.loc[:,col] = None\n",
    "    for col in columns:\n",
    "        df = df[df[col].notnull()]\n",
    "    for col in columns:\n",
    "        df[col] = df[col].astype(str)\n",
    "    df = df[columns]\n",
    "    return df\n",
    "    \n",
    "\n",
    "def stream_file_to_bucket(bucket_session,\n",
    "                          local_folder, \n",
    "                          local_filename,\n",
    "                          destination_folder,\n",
    "                          chunk_size):\n",
    "\n",
    "    df_iter = pd.read_csv(f\"{local_folder}{local_filename}\", iterator=True, chunksize=chunk_size,low_memory=False)\n",
    "\n",
    "    for i, chunk in enumerate(df_iter):\n",
    "        chunk_file_name = f\"{local_filename[:-4]}_{i}.parquet\"\n",
    "        local_file_path = f\"{local_folder}{chunk_file_name}\"\n",
    "        chunk = transform(chunk)\n",
    "        if len(chunk)>0:\n",
    "            chunk.to_parquet(local_file_path)\n",
    "            with open(local_file_path, 'rb') as file:\n",
    "                bucket_session.put_object(local_folder, chunk_file_name, \n",
    "                                          destination_folder, chunk_file_name)\n",
    "            os.remove(local_file_path)\n",
    "\n",
    "def stream_epc_files_to_bucket(file_list, \n",
    "                               region, \n",
    "                               namespace, \n",
    "                               bucket_name,\n",
    "                               epc_local_folder,\n",
    "                               epc_bucket_folder,\n",
    "                               chunk_size):\n",
    "\n",
    "    bucket_session = Bucket(region, namespace, bucket_name)\n",
    "    \n",
    "    for file in file_list:\n",
    "        file = file[:-4]\n",
    "        epc_unzipped_file_folder = file+\"/\"\n",
    "        local_folder = f\"{epc_local_folder}{epc_unzipped_file_folder}\"\n",
    "        stream_file_to_bucket(bucket_session = bucket_session,\n",
    "                              local_folder = local_folder, \n",
    "                              local_filename = 'certificates.csv',\n",
    "                              destination_folder = f\"{epc_bucket_folder}{local_folder.split('/')[1]}/\",\n",
    "                              chunk_size=chunk_size)\n",
    "\n",
    "    bucket_session.close()"
   ]
  },
  {
   "cell_type": "code",
   "execution_count": 435,
   "id": "28eaa877-e8e9-4dfe-aed8-12a35e176f4d",
   "metadata": {},
   "outputs": [
    {
     "data": {
      "text/plain": [
       "'domestic-2023'"
      ]
     },
     "execution_count": 435,
     "metadata": {},
     "output_type": "execute_result"
    }
   ],
   "source": [
    "\"domestic-2023.zip\"[:-4]"
   ]
  },
  {
   "cell_type": "code",
   "execution_count": null,
   "id": "1a313e9c-0413-45e6-932b-ee651c53a634",
   "metadata": {},
   "outputs": [],
   "source": [
    "No such file or directory: 'epc-download-chunks/domestic-2023.zip/certificates.csv'"
   ]
  },
  {
   "cell_type": "code",
   "execution_count": 63,
   "id": "e4f5d454-e893-4793-ba91-b43761cdc626",
   "metadata": {},
   "outputs": [],
   "source": [
    "file_list = ['display-2024-03', 'domestic-2021','domestic-2023']\n",
    "\n",
    "OCI_REGION ='uk-london-1'\n",
    "OCI_NAMESPACE = 'lrqgbz9z6zlj'\n",
    "bucket_name = 'london-property-sales-price'\n",
    "epc_local_folder = \"prova/\"\n",
    "epc_bucket_folder = \"epc-download-chunks/\"\n",
    "chunk_size = 100_000\n",
    "\n",
    "stream_epc_files_to_bucket(file_list, \n",
    "                            OCI_REGION, \n",
    "                            OCI_NAMESPACE, \n",
    "                            bucket_name,\n",
    "                            epc_local_folder,\n",
    "                            epc_bucket_folder,\n",
    "                            chunk_size)"
   ]
  },
  {
   "cell_type": "code",
   "execution_count": null,
   "id": "6dd728d7-524b-4b9c-b76e-876f1cf2f6bc",
   "metadata": {},
   "outputs": [],
   "source": [
    "# stream_file_to_bucket(bucket_session = bucket_session,\n",
    "#                       local_folder = local_folder, \n",
    "#                       local_filename = 'certificates.csv',\n",
    "#                       destination_folder = f\"{epc_bucket_folder}{local_folder.split('/')[1]}/\",\n",
    "#                       chunk_size=chunk_size)"
   ]
  },
  {
   "cell_type": "code",
   "execution_count": null,
   "id": "0cf6830a-aa47-48d8-9f19-756f6566a86b",
   "metadata": {},
   "outputs": [],
   "source": []
  },
  {
   "cell_type": "code",
   "execution_count": 481,
   "id": "c76daee2-e74b-458c-9c1c-6a9723ff0fd0",
   "metadata": {},
   "outputs": [],
   "source": [
    "from bucket_utils import Bucket\n",
    "\n",
    "OCI_REGION ='uk-london-1'\n",
    "OCI_NAMESPACE = 'lrqgbz9z6zlj'\n",
    "bucket_name = 'london-property-sales-price'\n",
    "\n",
    "bucket_session = Bucket(OCI_REGION, OCI_NAMESPACE, bucket_name)"
   ]
  },
  {
   "cell_type": "code",
   "execution_count": 487,
   "id": "e39c648e-523a-4de0-88a8-d32bde015fa5",
   "metadata": {},
   "outputs": [
    {
     "data": {
      "text/plain": [
       "['epc-download-chunks/display-2023/certificates_0.parquet',\n",
       " 'epc-download-chunks/domestic-2023/certificates_0.parquet',\n",
       " 'epc-download-chunks/domestic-2023/certificates_1.parquet',\n",
       " 'epc-download-chunks/domestic-2023/certificates_10.parquet',\n",
       " 'epc-download-chunks/domestic-2023/certificates_11.parquet',\n",
       " 'epc-download-chunks/domestic-2023/certificates_12.parquet',\n",
       " 'epc-download-chunks/domestic-2023/certificates_13.parquet',\n",
       " 'epc-download-chunks/domestic-2023/certificates_14.parquet',\n",
       " 'epc-download-chunks/domestic-2023/certificates_15.parquet',\n",
       " 'epc-download-chunks/domestic-2023/certificates_16.parquet',\n",
       " 'epc-download-chunks/domestic-2023/certificates_2.parquet',\n",
       " 'epc-download-chunks/domestic-2023/certificates_3.parquet',\n",
       " 'epc-download-chunks/domestic-2023/certificates_4.parquet',\n",
       " 'epc-download-chunks/domestic-2023/certificates_5.parquet',\n",
       " 'epc-download-chunks/domestic-2023/certificates_6.parquet',\n",
       " 'epc-download-chunks/domestic-2023/certificates_7.parquet',\n",
       " 'epc-download-chunks/domestic-2023/certificates_8.parquet',\n",
       " 'epc-download-chunks/domestic-2023/certificates_9.parquet',\n",
       " 'ppd-download-chunks/chunk_1.parquet']"
      ]
     },
     "execution_count": 487,
     "metadata": {},
     "output_type": "execute_result"
    }
   ],
   "source": [
    "bucket_session.list_objects()"
   ]
  },
  {
   "cell_type": "code",
   "execution_count": 61,
   "id": "01187588-8345-448d-ad24-8cf4a9578390",
   "metadata": {},
   "outputs": [
    {
     "name": "stdout",
     "output_type": "stream",
     "text": [
      "All objects in the folder 'epc-download-chunks' have been deleted.\n"
     ]
    }
   ],
   "source": [
    "bucket_session.delete_folder_content(\"epc-download-chunks\")"
   ]
  },
  {
   "cell_type": "code",
   "execution_count": null,
   "id": "c2db0482-af0b-40c9-af59-27e7808e3ff6",
   "metadata": {},
   "outputs": [],
   "source": []
  },
  {
   "cell_type": "code",
   "execution_count": null,
   "id": "de8b589c-7b35-4312-b70b-b814f2e193bb",
   "metadata": {},
   "outputs": [],
   "source": [
    "cols_epc = [\"ADDRESS\",\"POSTCODE\",\"TOTAL_FLOOR_AREA\"]\n",
    "\n",
    "## Merging PP data with EPC data\n",
    "# The two datasets are merged by simply using the address fields, which is formatted in both datasets before being processed.\n",
    "\n",
    "def transform(df, cols:list):\n",
    "    transformed_cols = []\n",
    "    for c in cols:\n",
    "        newc = c+\"_fmt\"\n",
    "        df[newc] = df[c].str.strip()\n",
    "        df[newc] = df[newc].str.lower()\n",
    "        df[newc] = df[newc].str.replace(\" \",\"\")\n",
    "        df[newc] = df[newc].str.replace(\",\",\"\")\n",
    "        transformed_cols.append(newc)\n",
    "    return transformed_cols\n",
    "\n",
    "pp_cols = [\"SAON\", \"PAON\", \"STREET\",\"POSTCODE\"]\n",
    "\n",
    "transformed_cols_pp = transform(pp_london, pp_cols)\n",
    "\n",
    "pp_london[\"address_match_string\"] = pp_london[transformed_cols_pp].fillna(\"\").astype(str).agg(lambda x:''.join(x), axis=1)\n",
    "\n",
    "\n",
    "epc_cols = ['ADDRESS', 'POSTCODE']\n",
    "transformed_cols_epc = transform(london_epc, epc_cols)\n",
    "\n",
    "london_epc[\"address_match_string\"] = london_epc[transformed_cols_epc].fillna(\"\").astype(str).agg(lambda x:''.join(x), axis=1)"
   ]
  },
  {
   "cell_type": "code",
   "execution_count": 488,
   "id": "48ae11e3-f601-45f0-820b-f7f8e22f39e7",
   "metadata": {},
   "outputs": [],
   "source": [
    "#### MERGE PPD TO EPC\n",
    "\n",
    "\n",
    "### variables\n",
    "\n",
    "region ='uk-london-1'\n",
    "namespace = 'lrqgbz9z6zlj'\n",
    "bucket_name = 'london-property-sales-price'\n",
    "\n",
    "ppd_download_bucket_folder = 'ppd-download-chunks/'\n",
    "epc_download_bucket_folder = 'epc-download-chunks/'\n",
    "save_as_table_name = \"london\"\n",
    "write_mode = \"overwrite\""
   ]
  },
  {
   "cell_type": "code",
   "execution_count": 492,
   "id": "051210ef-46c0-4158-b038-1855dd219375",
   "metadata": {},
   "outputs": [],
   "source": [
    "from pyspark.sql import SparkSession\n",
    "import pyspark.sql.functions as F\n",
    "import os\n",
    "from pyspark.sql import types\n",
    "from bucket_utils import Bucket\n",
    "from datetime import datetime\n",
    "\n",
    "\n",
    "def bucket_to_dwh(region,\n",
    "                  namespace, \n",
    "                  bucket_name,\n",
    "                  ppd_download_bucket_folder,\n",
    "                  epc_download_bucket_folder,\n",
    "                  save_as_table_name,\n",
    "                  write_mode):\n",
    "\n",
    "    match_rate_path = \"../../../../data/match_rate_log.txt\"\n",
    "    \n",
    "    OCI_ACCESS_KEY_ID = os.environ['OCI_ACCESS_KEY_ID']\n",
    "    OCI_SECRET_ACCESS_KEY = os.environ['OCI_SECRET_ACCESS_KEY']\n",
    "    OCI_REGION = region\n",
    "    OCI_NAMESPACE = namespace\n",
    "    BUCKET_NAME = bucket_name\n",
    "    \n",
    "    db_url = \"jdbc:postgresql://pgwarehouse:5432/london\"\n",
    "    db_properties = {\n",
    "        \"user\": \"root\",\n",
    "        \"password\": \"root\",\n",
    "        \"driver\": \"org.postgresql.Driver\"\n",
    "    }\n",
    "    \n",
    "    spark = SparkSession.builder \\\n",
    "        .master(\"local[*]\") \\\n",
    "        .appName('Transform') \\\n",
    "        .config('spark.jars.packages', 'org.apache.hadoop:hadoop-aws:3.3.4,com.amazonaws:aws-java-sdk-bundle:1.12.506') \\\n",
    "        .config('spark.hadoop.fs.s3a.endpoint', f'https://{OCI_NAMESPACE}.compat.objectstorage.{OCI_REGION}.oraclecloud.com') \\\n",
    "        .config('spark.hadoop.fs.s3a.access.key', OCI_ACCESS_KEY_ID) \\\n",
    "        .config('spark.hadoop.fs.s3a.secret.key', OCI_SECRET_ACCESS_KEY) \\\n",
    "        .config('spark.hadoop.fs.s3a.impl', 'org.apache.hadoop.fs.s3a.S3AFileSystem') \\\n",
    "        .config('spark.hadoop.fs.s3a.path.style.access', 'true') \\\n",
    "        .config('spark.hadoop.fs.s3a.connection.ssl.enabled', 'true') \\\n",
    "        .config(\"spark.jars\", \"/opt/spark/jars/postgresql-42.7.4.jar\") \\\n",
    "        .getOrCreate()\n",
    "\n",
    "\n",
    "    ppd_path = f's3a://{BUCKET_NAME}/{ppd_download_bucket_folder}/*.parquet'\n",
    "    ppd = spark.read.parquet(ppd_path, header=True, inferSchema=True)\n",
    "    \n",
    "    bucket_session = Bucket(OCI_REGION, OCI_NAMESPACE, bucket_name)\n",
    "    objects = bucket_session.list_objects()\n",
    "    \n",
    "    folders = [x for x in objects if epc_download_bucket_folder in x]\n",
    "    \n",
    "    folders = set([x.split(\"/\")[1] for x in folders])\n",
    "    \n",
    "    epc_path = f\"s3a://{BUCKET_NAME}/\"\n",
    "    \n",
    "    epc_file_paths = [f\"{epc_path}/{epc_download_bucket_folder}/{folder}/*.parquet\" for folder in folders]\n",
    "    \n",
    "    epc = spark.read.parquet(*epc_file_paths)\n",
    "    \n",
    "    epc = epc.withColumn(\"TOTAL_FLOOR_AREA\", F.col(\"TOTAL_FLOOR_AREA\").cast(types.IntegerType()))\n",
    "    epc = epc.na.fill({\"TOTAL_FLOOR_AREA\": 0})\n",
    "    \n",
    "    def create_key(df, column_list):\n",
    "        new_cols = []\n",
    "        for col in column_list:\n",
    "            new_col = col+\"_fmt\"\n",
    "            df = df.withColumn(new_col, F.nvl(col, F.lit(\"\")))\n",
    "            df = df.withColumn(new_col, F.trim(new_col))\n",
    "            df = df.withColumn(new_col, F.lower(new_col))\n",
    "            df = df.withColumn(new_col, F.regexp_replace(new_col,\" \", \"\"))\n",
    "            df = df.withColumn(new_col, F.regexp_replace(new_col,\",\", \"\"))\n",
    "            new_cols.append(new_col)\n",
    "        df = df.withColumn(\"KEY\", F.concat(*new_cols))\n",
    "        df = df.na.fill({\"KEY\": \"\"})\n",
    "        df = df.drop(*new_cols)\n",
    "        return df\n",
    "    \n",
    "    ppd_cols_keys = [\"SAON\", \"PAON\", \"STREET\",\"POSTCODE\"]\n",
    "    ppd = create_key(ppd, ppd_cols_keys)\n",
    "    \n",
    "    epc_cols_keys = ['ADDRESS', 'POSTCODE']\n",
    "    epc = create_key(epc, epc_cols_keys)\n",
    "    \n",
    "    # DEDUPE EPC\n",
    "    # For addresses that have multiple values for \"TOTAL_FLOOR_AREA\", keep only the highest.\n",
    "    max_floor_area = epc.groupby('key').agg(F.max(\"TOTAL_FLOOR_AREA\").alias(\"TOTAL_FLOOR_AREA\"))\n",
    "    epc = epc.join(max_floor_area, on=['key', 'TOTAL_FLOOR_AREA'])[['key', 'TOTAL_FLOOR_AREA']].distinct()\n",
    "    \n",
    "    data = ppd.join(epc, how='left', on='key')\n",
    "    \n",
    "    match_agg = data.groupby(data['TOTAL_FLOOR_AREA'].isNotNull().alias(\"is_match\")).count()\n",
    "    cnt_match = match_agg[match_agg[\"is_match\"]==True].collect()[0][1]\n",
    "    cnt_tot = data.count()\n",
    "    match_rate = cnt_match/cnt_tot\n",
    "    \n",
    "    timestamp = str(datetime.today()).split(\".\")[0]\n",
    "    with open(match_rate_path, \"a\") as f:\n",
    "        f.write(f\"\\n{timestamp}|{match_rate:.2f}\")\n",
    "    \n",
    "    data = data.withColumn(\"PARTIAL_POSTCODE\", F.split_part(F.col('postcode'), F.lit(' '), F.lit(1)))\n",
    "    \n",
    "    data = data.withColumn(\n",
    "        \"PROPERTY_TYPE\",\n",
    "        F.when(data[\"PROPERTY_TYPE\"] == \"D\", \"Detached\")\n",
    "         .when(data[\"PROPERTY_TYPE\"] == \"S\", \"Semi-Detached\")\n",
    "         .when(data[\"PROPERTY_TYPE\"] == \"T\", \"Terraced\")\n",
    "         .when(data[\"PROPERTY_TYPE\"] == \"F\", \"Flats/Maisonettes\")\n",
    "         .when(data[\"PROPERTY_TYPE\"] == \"O\", \"Other\")\n",
    "         .otherwise(data[\"PROPERTY_TYPE\"])\n",
    "    )\n",
    "    \n",
    "    data = data.withColumn(\n",
    "        \"OLD_NEW\",\n",
    "        F.when(data[\"OLD_NEW\"] == \"Y\", \"newly built\")\n",
    "         .when(data[\"OLD_NEW\"] == \"N\", \"old\")\n",
    "         .otherwise(data[\"OLD_NEW\"])\n",
    "    )\n",
    "    \n",
    "    data = data.withColumn(\n",
    "        \"DURATION\",\n",
    "        F.when(data[\"DURATION\"] == \"F\", \"Freehold\")\n",
    "         .when(data[\"DURATION\"] == \"L\", \"Leasehold\")\n",
    "         .otherwise(data[\"DURATION\"])\n",
    "    )\n",
    "    \n",
    "    data = data.drop('key')\n",
    "    \n",
    "    data = data.na.fill({\"TOTAL_FLOOR_AREA\": 0})\n",
    "    \n",
    "    data = data.withColumn('DATE_OF_TRANSFER',F.col('DATE_OF_TRANSFER').cast(types.DateType()))\n",
    "    \n",
    "    data.write.jdbc(url=db_url, table=save_as_table_name, mode=write_mode, properties=db_properties)\n",
    "    \n",
    "    spark.stop()"
   ]
  },
  {
   "cell_type": "code",
   "execution_count": 493,
   "id": "8157f895-70a2-4891-a86f-41208c71b69d",
   "metadata": {},
   "outputs": [],
   "source": [
    "bucket_to_dwh(region,\n",
    "                  namespace, \n",
    "                  bucket_name,\n",
    "                  ppd_download_bucket_folder,\n",
    "                  epc_download_bucket_folder,\n",
    "                  save_as_table_name,\n",
    "                  write_mode)"
   ]
  },
  {
   "cell_type": "code",
   "execution_count": null,
   "id": "8548e82c-5f94-4e14-8877-bbb397ffbb2c",
   "metadata": {},
   "outputs": [],
   "source": []
  },
  {
   "cell_type": "code",
   "execution_count": 430,
   "id": "c585a1d0-d4fa-464b-8ab1-6a879320b504",
   "metadata": {},
   "outputs": [],
   "source": [
    "table_name = \"london\"\n",
    "local_save_path = \"../../../../data/output/london-sales-price.csv\""
   ]
  },
  {
   "cell_type": "code",
   "execution_count": 461,
   "id": "2bc42c14-0deb-424a-a098-0e1cdbc88d99",
   "metadata": {},
   "outputs": [
    {
     "data": {
      "text/plain": [
       "'../../../../data/output'"
      ]
     },
     "execution_count": 461,
     "metadata": {},
     "output_type": "execute_result"
    }
   ],
   "source": [
    "os.path.dirname(local_save_path)"
   ]
  },
  {
   "cell_type": "code",
   "execution_count": null,
   "id": "62cb2202-3774-4b89-a131-21887ca629ce",
   "metadata": {},
   "outputs": [],
   "source": [
    "from pyspark.sql import SparkSession\n",
    "import pyspark.sql.functions as F\n",
    "\n",
    "\n",
    "def save_csv(table_name, local_save_path):\n",
    "    db_url = \"jdbc:postgresql://pgwarehouse:5432/london\"\n",
    "    db_properties = {\n",
    "        \"user\": \"root\",\n",
    "        \"password\": \"root\",\n",
    "        \"driver\": \"org.postgresql.Driver\"\n",
    "    }\n",
    "    \n",
    "    spark = SparkSession.builder \\\n",
    "        .master(\"local[*]\") \\\n",
    "        .appName('ReadAndSave') \\\n",
    "        .config(\"spark.jars\", \"/opt/spark/jars/postgresql-42.7.4.jar\") \\\n",
    "        .getOrCreate()\n",
    "    \n",
    "    data = spark.read.jdbc(url=db_url, table=table_name, properties=db_properties)\n",
    "    \n",
    "    data.coalesce(1).write.mode(\"overwrite\").csv(local_save_path, header=True)\n",
    "    \n",
    "    spark.stop()"
   ]
  },
  {
   "cell_type": "code",
   "execution_count": 434,
   "id": "7fcf7922-5269-4e6d-95a4-d984ea70d1c0",
   "metadata": {},
   "outputs": [],
   "source": []
  },
  {
   "cell_type": "code",
   "execution_count": 475,
   "id": "c3995a3a-29d4-409c-87fd-62cbc1f29b70",
   "metadata": {},
   "outputs": [],
   "source": [
    "from pyspark.sql import SparkSession\n",
    "import pyspark.sql.functions as F\n",
    "\n",
    "\n",
    "# def save_csv(table_name, local_save_path):\n",
    "db_url = \"jdbc:postgresql://pgwarehouse:5432/london\"\n",
    "db_properties = {\n",
    "    \"user\": \"root\",\n",
    "    \"password\": \"root\",\n",
    "    \"driver\": \"org.postgresql.Driver\"\n",
    "}\n",
    "\n",
    "spark = SparkSession.builder \\\n",
    "    .master(\"local[*]\") \\\n",
    "    .appName('ReadAndSave') \\\n",
    "    .config(\"spark.jars\", \"/opt/spark/jars/postgresql-42.7.4.jar\") \\\n",
    "    .getOrCreate()\n",
    "\n",
    "data = spark.read.jdbc(url=db_url, table=table_name, properties=db_properties)\n",
    "\n"
   ]
  },
  {
   "cell_type": "code",
   "execution_count": 468,
   "id": "af4178c0-7ed8-4bfd-b432-04e14cf2fe72",
   "metadata": {},
   "outputs": [],
   "source": [
    "folder = os.path.dirname(local_save_path)\n",
    "if not os.path.exists(folder):\n",
    "    os.makedirs(folder, mode=0o777)"
   ]
  },
  {
   "cell_type": "code",
   "execution_count": 467,
   "id": "56f6b620-1e9c-4edd-9621-59611911a42e",
   "metadata": {},
   "outputs": [
    {
     "data": {
      "text/plain": [
       "'../../../../data/output/london-sales-price.csv'"
      ]
     },
     "execution_count": 467,
     "metadata": {},
     "output_type": "execute_result"
    }
   ],
   "source": [
    "local_save_path"
   ]
  },
  {
   "cell_type": "code",
   "execution_count": 476,
   "id": "8c8e958e-1cc9-40e0-82fb-6c5580d7bcd1",
   "metadata": {},
   "outputs": [],
   "source": [
    "data.toPandas().to_csv(local_save_path,index=None)"
   ]
  },
  {
   "cell_type": "code",
   "execution_count": 474,
   "id": "d3b3c323-4ed2-448e-b504-375b713f7148",
   "metadata": {},
   "outputs": [],
   "source": [
    "spark.stop()"
   ]
  },
  {
   "cell_type": "code",
   "execution_count": 438,
   "id": "d0d54847-8b98-4450-b097-dc2144d359cc",
   "metadata": {},
   "outputs": [
    {
     "name": "stdout",
     "output_type": "stream",
     "text": [
      "\n"
     ]
    }
   ],
   "source": [
    "import subprocess\n",
    "\n",
    "subprocess.run(['rm', '-r', 'ciao'], capture_output=True, text=True)\n",
    "\n",
    "# Print the output\n",
    "# print(result.stdout)\n"
   ]
  },
  {
   "cell_type": "code",
   "execution_count": 443,
   "id": "49d6ac21-08a8-43e3-af63-ccaa240010e2",
   "metadata": {},
   "outputs": [],
   "source": [
    "!mkdir fol"
   ]
  },
  {
   "cell_type": "code",
   "execution_count": 480,
   "id": "af9a0bb6-fea7-4315-bb3a-bf586fdcd721",
   "metadata": {},
   "outputs": [],
   "source": [
    "!rm -rf prova"
   ]
  },
  {
   "cell_type": "code",
   "execution_count": 444,
   "id": "ddee13ed-b124-4252-b475-ea9a1edb9b2a",
   "metadata": {},
   "outputs": [],
   "source": [
    "! echo ok > ciao1/cia/f2"
   ]
  },
  {
   "cell_type": "code",
   "execution_count": null,
   "id": "f4aa6d59-56c7-4adf-82a1-04c11fb2d736",
   "metadata": {},
   "outputs": [],
   "source": [
    "!"
   ]
  }
 ],
 "metadata": {
  "kernelspec": {
   "display_name": "Python 3 (ipykernel)",
   "language": "python",
   "name": "python3"
  },
  "language_info": {
   "codemirror_mode": {
    "name": "ipython",
    "version": 3
   },
   "file_extension": ".py",
   "mimetype": "text/x-python",
   "name": "python",
   "nbconvert_exporter": "python",
   "pygments_lexer": "ipython3",
   "version": "3.11.6"
  }
 },
 "nbformat": 4,
 "nbformat_minor": 5
}
