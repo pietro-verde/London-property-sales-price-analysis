{
 "cells": [
  {
   "cell_type": "code",
   "execution_count": 34,
   "id": "eccef7e7-feb0-48a0-ae8b-3b5f86453386",
   "metadata": {},
   "outputs": [],
   "source": [
    "import urllib.request\n",
    "from urllib.parse import urlencode\n",
    "import json\n",
    "import os\n",
    "import pickle\n",
    "\n",
    "token = os.environ['EPC_TOKEN']"
   ]
  },
  {
   "cell_type": "code",
   "execution_count": 35,
   "id": "5c18031e-a7cc-4dae-ab89-0dbfc2fa5053",
   "metadata": {},
   "outputs": [],
   "source": [
    "url = \"https://epc.opendatacommunities.org/api/v1/files\"\n",
    "\n",
    "headers = {\n",
    "    'Authorization': f'Basic {token}'\n",
    "}\n",
    "\n",
    "response = urllib.request.urlopen(urllib.request.Request(url, headers=headers))\n",
    "\n",
    "response_body = response.read()\n",
    "data = response_body.decode() \n",
    "\n",
    "data = json.loads(data)\n",
    "\n",
    "data = data[\"files\"]"
   ]
  },
  {
   "cell_type": "code",
   "execution_count": 36,
   "id": "21955f60-97f2-4c21-b131-fd0def1c46c4",
   "metadata": {},
   "outputs": [
    {
     "data": {
      "text/plain": [
       "['domestic-2023.zip', 'non-domestic-2023.zip', 'display-2023.zip']"
      ]
     },
     "execution_count": 36,
     "metadata": {},
     "output_type": "execute_result"
    }
   ],
   "source": [
    "[x for x in data if '2023' in x]"
   ]
  },
  {
   "cell_type": "code",
   "execution_count": 37,
   "id": "003b6697-ec9f-4b03-b875-ac1c2139370a",
   "metadata": {},
   "outputs": [],
   "source": [
    "year_files = [x for x in data if '-20' in x]\n",
    "\n",
    "year_files_to_use = []\n",
    "for file in year_files:\n",
    "    f = file\n",
    "    f = f.replace('non-', 'non')\n",
    "    f = f[:-4]\n",
    "    year = int(f.split(\"-\")[1])\n",
    "    if year >= 2010:\n",
    "        year_files_to_use.append(file)"
   ]
  },
  {
   "cell_type": "code",
   "execution_count": 38,
   "id": "126a7596-c422-4310-9f07-6aa6bdff9834",
   "metadata": {},
   "outputs": [],
   "source": [
    "with open(\"../../../../data/epc-files.pkl\", \"wb\") as f:\n",
    "    pickle.dump(year_files_to_use, f)"
   ]
  },
  {
   "cell_type": "code",
   "execution_count": 39,
   "id": "97ca3fa2-68ed-4b82-8536-7fbb97c2e8e0",
   "metadata": {},
   "outputs": [],
   "source": [
    "response.close()"
   ]
  }
 ],
 "metadata": {
  "kernelspec": {
   "display_name": "Python 3 (ipykernel)",
   "language": "python",
   "name": "python3"
  },
  "language_info": {
   "codemirror_mode": {
    "name": "ipython",
    "version": 3
   },
   "file_extension": ".py",
   "mimetype": "text/x-python",
   "name": "python",
   "nbconvert_exporter": "python",
   "pygments_lexer": "ipython3",
   "version": "3.11.6"
  }
 },
 "nbformat": 4,
 "nbformat_minor": 5
}
