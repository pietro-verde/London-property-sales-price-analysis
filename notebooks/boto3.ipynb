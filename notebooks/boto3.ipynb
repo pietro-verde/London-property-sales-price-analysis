{
 "cells": [
  {
   "cell_type": "code",
   "execution_count": 54,
   "id": "0bb4b82c-1bc9-4fbd-898a-536c47574340",
   "metadata": {},
   "outputs": [],
   "source": [
    "import boto3\n",
    "import os\n",
    "\n",
    "\n",
    "class Bucket:\n",
    "    def __init__(self, region, namespace, bucket_name):\n",
    "        self.region = region,\n",
    "        self.namespace = namespace,\n",
    "        self.bucket_name = bucket_name\n",
    "\n",
    "        OCI_ACCESS_KEY_ID = os.environ['OCI_ACCESS_KEY_ID']\n",
    "        OCI_SECRET_ACCESS_KEY = os.environ['OCI_SECRET_ACCESS_KEY']\n",
    "        OCI_REGION = region\n",
    "        OCI_NAMESPACE = namespace\n",
    "\n",
    "        session = boto3.session.Session()\n",
    "\n",
    "        self.s3_client = session.client(\n",
    "            's3',\n",
    "            region_name=OCI_REGION,\n",
    "            endpoint_url=f'https://{OCI_NAMESPACE}.compat.objectstorage.{OCI_REGION}.oraclecloud.com',\n",
    "            aws_access_key_id=OCI_ACCESS_KEY_ID,\n",
    "            aws_secret_access_key=OCI_SECRET_ACCESS_KEY\n",
    "        )\n",
    "    \n",
    "    def delete_folder_content(self, bucket_folder):\n",
    "        folder_prefix = bucket_folder\n",
    "\n",
    "        delete_objects = []\n",
    "\n",
    "        while True:\n",
    "            response = self.s3_client.list_objects_v2(Bucket=self.bucket_name, Prefix=folder_prefix)\n",
    "            \n",
    "            if 'Contents' in response:\n",
    "                delete_objects.extend([{'Key': obj['Key']} for obj in response['Contents']])\n",
    "                \n",
    "                # Delete in batches of 1000\n",
    "                while len(delete_objects) >= 1000:\n",
    "                    self.s3_client.delete_objects(Bucket=self.bucket_name, Delete={'Objects': delete_objects[:1000]})\n",
    "                    delete_objects = delete_objects[1000:]\n",
    "                \n",
    "                # Check if there's more data to paginate\n",
    "                if response.get('IsTruncated'):\n",
    "                    continuation_token = response.get('NextContinuationToken')\n",
    "                    response = self.s3_client.list_objects_v2(Bucket=self.bucket_name, Prefix=folder_prefix, ContinuationToken=continuation_token)\n",
    "                else:\n",
    "                    break\n",
    "            else:\n",
    "                break\n",
    "\n",
    "        # Delete remaining objects (less than 1000)\n",
    "        if delete_objects:\n",
    "            self.s3_client.delete_objects(Bucket=self.bucket_name, Delete={'Objects': delete_objects})\n",
    "\n",
    "        print(f\"All objects in the folder '{folder_prefix}' have been deleted.\")\n",
    "\n",
    "\n",
    "    def list_objects(self):\n",
    "        response = self.s3_client.list_objects_v2(Bucket=self.bucket_name)\n",
    "        try:\n",
    "            for obj in response[\"Contents\"]:\n",
    "                print(obj['Key'])\n",
    "        except KeyError as e:\n",
    "            print(\"No content to list.\")\n",
    "\n",
    "    def put_object(self, \n",
    "                   local_folder, \n",
    "                   local_filename, \n",
    "                   destination_folder,\n",
    "                   destination_filename):\n",
    "        \"\"\"\n",
    "        local_folder \n",
    "        local_filename \n",
    "        destination_folder\n",
    "        destination_filename\n",
    "        \"\"\"\n",
    "        with open(f\"{local_folder}{local_filename}\", \"rb\") as file:\n",
    "            self.s3_client.put_object(Body=file, \n",
    "                                      Key=f\"{destination_folder}{destination_filename}\",\n",
    "                                      Bucket=self.bucket_name)\n",
    "            \n",
    "        \n",
    "    def close(self):\n",
    "        self.s3_client.close()"
   ]
  },
  {
   "cell_type": "code",
   "execution_count": 45,
   "id": "773e4492-0939-4b12-8da5-af5396f7b2ad",
   "metadata": {},
   "outputs": [],
   "source": [
    "OCI_REGION ='uk-london-1'\n",
    "OCI_NAMESPACE = 'lrqgbz9z6zlj'\n",
    "bucket_name = 'london-property-sales-price'\n",
    "\n",
    "bucket = Bucket(OCI_REGION, OCI_NAMESPACE, bucket_name)"
   ]
  },
  {
   "cell_type": "code",
   "execution_count": 59,
   "id": "92789c60-0873-4e9a-bc38-3bb5a6907fb7",
   "metadata": {},
   "outputs": [
    {
     "name": "stdout",
     "output_type": "stream",
     "text": [
      "No content to list.\n"
     ]
    }
   ],
   "source": [
    "bucket.list_objects()"
   ]
  },
  {
   "cell_type": "code",
   "execution_count": 58,
   "id": "2cf23f01-6d17-4717-b81c-ccb74eaa1624",
   "metadata": {},
   "outputs": [
    {
     "name": "stdout",
     "output_type": "stream",
     "text": [
      "All objects in the folder 'ciaofolder' have been deleted.\n"
     ]
    }
   ],
   "source": [
    "bucket.delete_folder_content(\"ciaofolder\")"
   ]
  },
  {
   "cell_type": "code",
   "execution_count": 56,
   "id": "f2dac9fc-5b5a-4d16-83dd-88e2fe3b9c38",
   "metadata": {},
   "outputs": [],
   "source": [
    "bucket.put_object(local_folder = 'prova/',\n",
    "                  local_filename = 'provafile.txt',\n",
    "                  destination_folder = 'ciaofolder/',\n",
    "                  destination_filename = 'provafile.txt'\n",
    ")"
   ]
  },
  {
   "cell_type": "code",
   "execution_count": 60,
   "id": "0a7c2aec-2199-4282-b6b6-1605921f0e2a",
   "metadata": {},
   "outputs": [],
   "source": [
    "bucket.close()"
   ]
  },
  {
   "cell_type": "code",
   "execution_count": 22,
   "id": "26d5a142-7ee1-4163-9ce0-ba6e49be0267",
   "metadata": {},
   "outputs": [],
   "source": [
    "def clear_buckets(region,\n",
    "                  namespace, \n",
    "                  bucket_name,\n",
    "                  bucket_folder_list):\n",
    "\n",
    "    bucket = Bucket(region, namespace, bucket_name)\n",
    "    \n",
    "    for folder in bucket_folder_list:\n",
    "        bucket.delete_folder_content(folder)\n",
    "\n",
    "    bucket.close()"
   ]
  },
  {
   "cell_type": "code",
   "execution_count": 24,
   "id": "43659238-ae68-45ee-aa66-4b2400af57a6",
   "metadata": {},
   "outputs": [
    {
     "name": "stdout",
     "output_type": "stream",
     "text": [
      "All objects in the folder 'ppd-download-chunks/' have been deleted.\n",
      "All objects in the folder 'epc-download-chunks/' have been deleted.\n"
     ]
    }
   ],
   "source": [
    "bucket_folder_list = [\"ppd-download-chunks/\", \"epc-download-chunks/\"]\n",
    "\n",
    "clear_buckets(OCI_REGION, OCI_NAMESPACE, bucket_name, bucket_folder_list)"
   ]
  },
  {
   "cell_type": "code",
   "execution_count": null,
   "id": "880efa04-71cb-439b-8704-db96568c30c1",
   "metadata": {},
   "outputs": [],
   "source": []
  },
  {
   "cell_type": "code",
   "execution_count": null,
   "id": "2d739790-f2af-4be2-8291-30f517817527",
   "metadata": {},
   "outputs": [],
   "source": []
  },
  {
   "cell_type": "code",
   "execution_count": 61,
   "id": "d0ade921-64b5-468f-8bad-1b51dccabfd7",
   "metadata": {},
   "outputs": [],
   "source": [
    "!rm -rf prova/"
   ]
  },
  {
   "cell_type": "code",
   "execution_count": 31,
   "id": "06be6eac-685a-4907-9fbb-e30efd5be4af",
   "metadata": {},
   "outputs": [],
   "source": [
    "OCI_ACCESS_KEY_ID = os.environ['OCI_ACCESS_KEY_ID']\n",
    "OCI_SECRET_ACCESS_KEY = os.environ['OCI_SECRET_ACCESS_KEY']\n",
    "OCI_REGION = 'uk-london-1'\n",
    "OCI_NAMESPACE = 'lrqgbz9z6zlj'\n",
    "bucket_name = 'london-property-sales-price'\n",
    "\n",
    "\n",
    "session = boto3.session.Session()\n",
    "\n",
    "s3_client = session.client(\n",
    "    's3',\n",
    "    region_name=OCI_REGION,\n",
    "    endpoint_url=f'https://{OCI_NAMESPACE}.compat.objectstorage.{OCI_REGION}.oraclecloud.com',\n",
    "    aws_access_key_id=OCI_ACCESS_KEY_ID,\n",
    "    aws_secret_access_key=OCI_SECRET_ACCESS_KEY\n",
    ")"
   ]
  },
  {
   "cell_type": "code",
   "execution_count": 41,
   "id": "d9bffb68-b4a1-4f41-adab-ae6d1a5a3af6",
   "metadata": {},
   "outputs": [
    {
     "name": "stdout",
     "output_type": "stream",
     "text": [
      "prova/provafile.txt\n",
      "prova1/provafile.txt\n",
      "prova2/provafile.txt\n"
     ]
    }
   ],
   "source": [
    "response = s3_client.list_objects_v2(Bucket=bucket_name)\n",
    "try:\n",
    "    for obj in response[\"Contents\"]:\n",
    "        print(obj['Key'])\n",
    "except KeyError as e:\n",
    "    print(\"No content to list.\")"
   ]
  },
  {
   "cell_type": "code",
   "execution_count": 42,
   "id": "527db375-54c7-48c4-b3c4-ad6c0dec74a0",
   "metadata": {},
   "outputs": [],
   "source": [
    "# with open(\"prova/provafile.txt\", \"rb\") as file:\n",
    "#     s3_client.put_object(Body=file,Key=\"prova3/provafile.txt\", Bucket=bucket_name)"
   ]
  },
  {
   "cell_type": "code",
   "execution_count": 43,
   "id": "9e9a9869-4b72-441e-a27b-5890c765936e",
   "metadata": {},
   "outputs": [],
   "source": [
    "s3_client.close()"
   ]
  }
 ],
 "metadata": {
  "kernelspec": {
   "display_name": "Python 3 (ipykernel)",
   "language": "python",
   "name": "python3"
  },
  "language_info": {
   "codemirror_mode": {
    "name": "ipython",
    "version": 3
   },
   "file_extension": ".py",
   "mimetype": "text/x-python",
   "name": "python",
   "nbconvert_exporter": "python",
   "pygments_lexer": "ipython3",
   "version": "3.11.6"
  }
 },
 "nbformat": 4,
 "nbformat_minor": 5
}
