{
 "cells": [
  {
   "cell_type": "code",
   "execution_count": 1,
   "id": "10de081c-9c8b-4a20-ad44-677b802fe6c0",
   "metadata": {},
   "outputs": [],
   "source": [
    "from pyspark.sql import SparkSession"
   ]
  },
  {
   "cell_type": "code",
   "execution_count": 2,
   "id": "f6281eb9-108d-4ac5-bbfd-70e68566ec9d",
   "metadata": {},
   "outputs": [],
   "source": [
    "spark = SparkSession.builder \\\n",
    "    .appName(\"PostgresLoader\") \\\n",
    "    .config(\"spark.jars\", \"/opt/spark/jars/postgresql-42.7.4.jar\") \\\n",
    "    .getOrCreate()"
   ]
  },
  {
   "cell_type": "code",
   "execution_count": 3,
   "id": "a50881d5-0dcb-4cc6-a8d7-7597208b222d",
   "metadata": {},
   "outputs": [],
   "source": [
    "data = [(\"Alice\", 34), (\"Bob\", 45), (\"Cathy\", 29)]\n",
    "df = spark.createDataFrame(data, [\"Name\", \"Age\"])"
   ]
  },
  {
   "cell_type": "code",
   "execution_count": 5,
   "id": "0aba79d4-e5a8-45a9-b882-e61bb8a2e6c7",
   "metadata": {},
   "outputs": [],
   "source": [
    "db_url = \"jdbc:postgresql://pgdatabase:5432/prova\"\n",
    "db_properties = {\n",
    "    \"user\": \"root\",\n",
    "    \"password\": \"root\",\n",
    "    \"driver\": \"org.postgresql.Driver\"\n",
    "}\n",
    "\n",
    "# Write the DataFrame to PostgreSQL (replace \"my_table\" with your desired table name)\n",
    "df.write.jdbc(url=db_url, table=\"my_table\", mode=\"overwrite\", properties=db_properties)\n"
   ]
  },
  {
   "cell_type": "code",
   "execution_count": 6,
   "id": "7f214a72-3943-422f-b945-c07ca280c55f",
   "metadata": {},
   "outputs": [],
   "source": [
    "spark.stop()"
   ]
  }
 ],
 "metadata": {
  "kernelspec": {
   "display_name": "Python 3 (ipykernel)",
   "language": "python",
   "name": "python3"
  },
  "language_info": {
   "codemirror_mode": {
    "name": "ipython",
    "version": 3
   },
   "file_extension": ".py",
   "mimetype": "text/x-python",
   "name": "python",
   "nbconvert_exporter": "python",
   "pygments_lexer": "ipython3",
   "version": "3.11.6"
  }
 },
 "nbformat": 4,
 "nbformat_minor": 5
}
