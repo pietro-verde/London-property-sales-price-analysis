{
 "cells": [
  {
   "cell_type": "code",
   "execution_count": 1,
   "id": "fa7c78f2-0902-46cf-a1f1-7e12e5f72bbb",
   "metadata": {},
   "outputs": [],
   "source": [
    "from pyspark.sql import SparkSession\n",
    "import pyspark.sql.functions as F\n",
    "import os"
   ]
  },
  {
   "cell_type": "code",
   "execution_count": 2,
   "id": "e3eccdbf-fdda-4b44-a9ba-817fd32a0607",
   "metadata": {},
   "outputs": [],
   "source": [
    "OCI_ACCESS_KEY_ID = os.environ['OCI_ACCESS_KEY_ID']\n",
    "OCI_SECRET_ACCESS_KEY = os.environ['OCI_SECRET_ACCESS_KEY']\n",
    "OCI_REGION = 'uk-london-1'\n",
    "OCI_NAMESPACE = 'lrqgbz9z6zlj'\n",
    "BUCKET_NAME = 'london-property-sales-price'\n",
    "\n",
    "db_url = \"jdbc:postgresql://pgwarehouse:5432/london\"\n",
    "db_properties = {\n",
    "    \"user\": os.environ['POSTGRES_USER'],\n",
    "    \"password\": os.environ['POSTGRES_PASSWORD'],\n",
    "    \"driver\": \"org.postgresql.Driver\"\n",
    "}"
   ]
  },
  {
   "cell_type": "code",
   "execution_count": 3,
   "id": "a36c964d-408b-412d-ba63-e9feb5eae768",
   "metadata": {},
   "outputs": [],
   "source": [
    "spark = SparkSession.builder \\\n",
    "    .master(\"local[*]\") \\\n",
    "    .appName('PySparkOCIConnection') \\\n",
    "    .config('spark.jars.packages', 'org.apache.hadoop:hadoop-aws:3.3.4,com.amazonaws:aws-java-sdk-bundle:1.12.506') \\\n",
    "    .config('spark.hadoop.fs.s3a.endpoint', f'https://{OCI_NAMESPACE}.compat.objectstorage.{OCI_REGION}.oraclecloud.com') \\\n",
    "    .config('spark.hadoop.fs.s3a.access.key', OCI_ACCESS_KEY_ID) \\\n",
    "    .config('spark.hadoop.fs.s3a.secret.key', OCI_SECRET_ACCESS_KEY) \\\n",
    "    .config('spark.hadoop.fs.s3a.impl', 'org.apache.hadoop.fs.s3a.S3AFileSystem') \\\n",
    "    .config('spark.hadoop.fs.s3a.path.style.access', 'true') \\\n",
    "    .config('spark.hadoop.fs.s3a.connection.ssl.enabled', 'true') \\\n",
    "    .config(\"spark.jars\", \"/opt/spark/jars/postgresql-42.7.4.jar\") \\\n",
    "    .getOrCreate()"
   ]
  },
  {
   "cell_type": "code",
   "execution_count": 37,
   "id": "6e52a21b-49ce-4fdf-be48-c327ad37fc8c",
   "metadata": {},
   "outputs": [],
   "source": [
    "file_path = f's3a://{BUCKET_NAME}/chunks/*.parquet'\n",
    "\n",
    "df = spark.read.parquet(file_path, header=True, inferSchema=True)\n",
    "\n",
    "df = df.withColumn('DATE_OF_TRANSFER', F.col(\"DATE_OF_TRANSFER\").cast('date'))\n",
    "\n",
    "df_london = df[\n",
    "    (df['COUNTY'] == 'GREATER LONDON')\n",
    "    & (df['DATE_OF_TRANSFER'] >= '2010-01-01')\n",
    "    & (df[\"POSTCODE\"].isNotNull())\n",
    "]"
   ]
  },
  {
   "cell_type": "code",
   "execution_count": 38,
   "id": "36235eb9-a5c9-4b7f-adb6-9a5a7d4cdbef",
   "metadata": {},
   "outputs": [
    {
     "name": "stdout",
     "output_type": "stream",
     "text": [
      "+-----------------------------+-------+----------------+--------+-------------+-------+--------+--------------------+--------------------+--------------------+-----------+---------+--------------------+--------------+-----------------+-------------------------------+\n",
      "|TRANSACTION_UNIQUE_IDENTIFIER|  PRICE|DATE_OF_TRANSFER|POSTCODE|PROPERTY_TYPE|OLD_NEW|DURATION|                PAON|                SAON|              STREET|   LOCALITY|TOWN_CITY|            DISTRICT|        COUNTY|PPD_CATEGORY_TYPE|RECORD_STATUS_MONTHLY_FILE_ONLY|\n",
      "+-----------------------------+-------+----------------+--------+-------------+-------+--------+--------------------+--------------------+--------------------+-----------+---------+--------------------+--------------+-----------------+-------------------------------+\n",
      "|         {2131FCF6-BEA7-86...| 165000|      2021-05-25|TW13 4JE|            F|      N|       L|                  28|                NULL|        ROSE GARDENS|       NULL|  FELTHAM|            HOUNSLOW|GREATER LONDON|                B|                              A|\n",
      "|         {2131FCF6-BEB9-86...| 260000|      2021-06-29| TW5 0UZ|            F|      N|       L|  ROTHWELL HOUSE, 17|                  48|        BISCOE CLOSE|       NULL| HOUNSLOW|            HOUNSLOW|GREATER LONDON|                B|                              A|\n",
      "|         {2131FCF6-BEC6-86...|  65000|      2021-12-10|  N1 1RA|            O|      N|       L|                149A|                NULL|        UPPER STREET|       NULL|   LONDON|           ISLINGTON|GREATER LONDON|                B|                              A|\n",
      "|         {2131FCF6-BEDE-86...|   1000|      2021-06-30| E17 4NB|            O|      N|       L|                 538|                NULL|         FOREST ROAD|WALTHAMSTOW|   LONDON|      WALTHAM FOREST|GREATER LONDON|                B|                              A|\n",
      "|         {2131FCF6-BEE2-86...|  30000|      2021-12-16|  E5 0RN|            O|      N|       L|                  74|                NULL|  LOWER CLAPTON ROAD|       NULL|   LONDON|             HACKNEY|GREATER LONDON|                B|                              A|\n",
      "|         {2131FCF6-BF53-86...| 490000|      2021-04-30| UB1 1FR|            F|      Y|       L|      ARBER HOUSE, 2|             FLAT 32|      GREENLEAF WALK|       NULL| SOUTHALL|              EALING|GREATER LONDON|                B|                              A|\n",
      "|         {2131FCF6-BF85-86...| 570000|      2021-12-31| NW7 1SP|            F|      Y|       L|    FELLOW HOUSE, 12|              FLAT 8|MAURICE BROWNE AV...|       NULL|   LONDON|              BARNET|GREATER LONDON|                B|                              A|\n",
      "|         {2131FCF6-BFF3-86...|3090000|      2021-11-15| W1H 5YQ|            F|      Y|       L|                  25|       APARTMENT 603|       NUTFORD PLACE|       NULL|   LONDON| CITY OF WESTMINSTER|GREATER LONDON|                B|                              A|\n",
      "|         {2131FCF6-BFF4-86...|3096900|      2021-12-22| W1H 5YQ|            F|      Y|       L|                  25|       APARTMENT 602|       NUTFORD PLACE|       NULL|   LONDON| CITY OF WESTMINSTER|GREATER LONDON|                B|                              A|\n",
      "|         {2131FCF6-C102-86...|  22274|      2021-05-25| IG5 0QP|            O|      N|       L|     HEATHCOTE COURT|           GARAGE 10|    HEATHCOTE AVENUE|       NULL|   ILFORD|           REDBRIDGE|GREATER LONDON|                B|                              A|\n",
      "|         {2131FCF6-CCB6-86...| 500000|      2021-02-16| IG3 9AD|            T|      N|       F|                 151|                NULL|    SOUTH PARK DRIVE|       NULL|   ILFORD|           REDBRIDGE|GREATER LONDON|                B|                              A|\n",
      "|         {2131FCF6-D482-86...| 335000|      2021-12-03| DA8 1JL|            O|      N|       F|                   4|                NULL|        BECTON PLACE|       NULL|    ERITH|              BEXLEY|GREATER LONDON|                B|                              A|\n",
      "|         {2131FCF6-DD2D-86...| 462027|      2021-08-09|TW13 5BS|            S|      N|       F|                  72|                NULL|       HEREFORD ROAD|       NULL|  FELTHAM|            HOUNSLOW|GREATER LONDON|                B|                              A|\n",
      "|         {2131FCF6-DEAD-86...|1350000|      2021-09-24|SW1W 9TB|            F|      N|       L|CONSORT RISE HOUS...|        APARTMENT 36|BUCKINGHAM PALACE...|       NULL|   LONDON| CITY OF WESTMINSTER|GREATER LONDON|                B|                              A|\n",
      "|         {2131FCF6-DED9-86...| 627500|      2021-03-31| NW6 4RU|            O|      N|       L|                  54|                NULL|        DOBSON CLOSE|       NULL|   LONDON|              CAMDEN|GREATER LONDON|                B|                              A|\n",
      "|         {2131FCF6-DEDB-86...| 450000|      2021-09-24|WC1H 9SA|            F|      N|       L|   KNOLLYS HOUSE, 39|              FLAT 7|     TAVISTOCK PLACE|       NULL|   LONDON|              CAMDEN|GREATER LONDON|                B|                              A|\n",
      "|         {2131FCF6-E506-86...| 326000|      2021-10-28| KT6 6HA|            O|      N|       L|           126 - 130|GROUND FLOOR COMM...|          EWELL ROAD|       NULL| SURBITON|KINGSTON UPON THAMES|GREATER LONDON|                B|                              A|\n",
      "|         {2131FCF6-E558-86...| 550000|      2021-01-20|SW20 8EL|            F|      N|       L|                 91A|              FLAT 1|         DORIEN ROAD|       NULL|   LONDON|              MERTON|GREATER LONDON|                B|                              A|\n",
      "|         {2131FCF6-E559-86...| 400000|      2021-01-20|SW20 8EL|            F|      N|       L|                 91A|              FLAT 2|         DORIEN ROAD|       NULL|   LONDON|              MERTON|GREATER LONDON|                B|                              A|\n",
      "|         {2131FCF6-E55A-86...| 350000|      2021-01-20|SW20 8EL|            F|      N|       L|                 91A|              FLAT 3|         DORIEN ROAD|       NULL|   LONDON|              MERTON|GREATER LONDON|                B|                              A|\n",
      "+-----------------------------+-------+----------------+--------+-------------+-------+--------+--------------------+--------------------+--------------------+-----------+---------+--------------------+--------------+-----------------+-------------------------------+\n",
      "only showing top 20 rows\n",
      "\n"
     ]
    }
   ],
   "source": [
    "df_london.show()"
   ]
  },
  {
   "cell_type": "code",
   "execution_count": null,
   "id": "979422a6-026e-4ce2-be61-ef46ab607ffe",
   "metadata": {},
   "outputs": [],
   "source": [
    "#     df = df[\n",
    "#         (df['COUNTY'] == 'GREATER LONDON')\n",
    "#         &(df[df['DATE_OF_TRANSFER'].dt.date == date(2010,1,1)])\n",
    "#         ]\n",
    "    "
   ]
  },
  {
   "cell_type": "code",
   "execution_count": 5,
   "id": "7dac7140-3e64-4c49-a6a5-ce0f0fadc670",
   "metadata": {},
   "outputs": [
    {
     "name": "stdout",
     "output_type": "stream",
     "text": [
      "+-----------------------------+------+----------------+--------+-------------+-------+--------+--------------------+----+-----------------+----------+-------------+----------+-----------+-----------------+-------------------------------+\n",
      "|TRANSACTION_UNIQUE_IDENTIFIER| PRICE|DATE_OF_TRANSFER|POSTCODE|PROPERTY_TYPE|OLD_NEW|DURATION|                PAON|SAON|           STREET|  LOCALITY|    TOWN_CITY|  DISTRICT|     COUNTY|PPD_CATEGORY_TYPE|RECORD_STATUS_MONTHLY_FILE_ONLY|\n",
      "+-----------------------------+------+----------------+--------+-------------+-------+--------+--------------------+----+-----------------+----------+-------------+----------+-----------+-----------------+-------------------------------+\n",
      "|         {2131FCF6-AC4A-86...|174000|2021-08-18 00:00|PO20 0FL|            S|      N|       F|                  12|NULL|      HALLEY VIEW|    SELSEY|   CHICHESTER|CHICHESTER|WEST SUSSEX|                A|                              A|\n",
      "|         {2131FCF6-AC59-86...|385250|2021-01-22 00:00|RH14 9ZS|            D|      Y|       F|                  16|NULL|       HILLYFIELD|      NULL|BILLINGSHURST|   HORSHAM|WEST SUSSEX|                A|                              A|\n",
      "|         {2131FCF6-AC65-86...|580000|2021-09-30 00:00|RH14 9ZD|            D|      Y|       F|                  10|NULL|        BECKS WAY|      NULL|BILLINGSHURST|   HORSHAM|WEST SUSSEX|                A|                              A|\n",
      "|         {2131FCF6-AC7F-86...|665000|2021-09-28 00:00|RH10 3FQ|            D|      Y|       F|                  12|NULL|      BERRY CLOSE| COPTHORNE|      CRAWLEY|MID SUSSEX|WEST SUSSEX|                A|                              A|\n",
      "|         {2131FCF6-AC91-86...|107500|2021-10-19 00:00|RH10 1DF|            F|      Y|       L|GERAINT THOMAS HO...|  78|    THE BOULEVARD|      NULL|      CRAWLEY|   CRAWLEY|WEST SUSSEX|                A|                              A|\n",
      "|         {2131FCF6-ACAC-86...|269995|2021-11-05 00:00|PO19 7DE|            F|      Y|       L|BARTHOLOMEWS TERRACE|   3|  CHATSWORTH ROAD|      NULL|   CHICHESTER|CHICHESTER|WEST SUSSEX|                A|                              A|\n",
      "|         {2131FCF6-ACCD-86...|381293|2021-04-29 00:00|RH12 0BT|            S|      Y|       F|                   1|NULL|       CROWS WOOD|   FAYGATE|      HORSHAM|   HORSHAM|WEST SUSSEX|                A|                              A|\n",
      "|         {2131FCF6-AE40-86...|143000|2021-09-30 00:00|SN15 1NX|            F|      N|       L|   QUEENSFIELD COURT|   5|       PARKFIELDS|      NULL|   CHIPPENHAM| WILTSHIRE|  WILTSHIRE|                A|                              A|\n",
      "|         {2131FCF6-AE41-86...|187000|2021-04-05 00:00| SP2 9PD|            T|      N|       F|                  16|NULL|     LUMLEY CLOSE|      NULL|    SALISBURY| WILTSHIRE|  WILTSHIRE|                A|                              A|\n",
      "|         {2131FCF6-B019-86...| 66250|2021-02-22 00:00|SN10 2FB|            F|      N|       L|                  89|NULL|     HILLIER ROAD|      NULL|      DEVIZES| WILTSHIRE|  WILTSHIRE|                A|                              A|\n",
      "|         {2131FCF6-B01D-86...|514995|2021-08-06 00:00|SN13 0FR|            D|      Y|       F|                   3|NULL|  BARTHOLOMEW WAY|      NULL|      CORSHAM| WILTSHIRE|  WILTSHIRE|                A|                              A|\n",
      "|         {2131FCF6-B023-86...|110000|2021-05-21 00:00|SN14 0YX|            S|      N|       L|                   6|NULL| LANCASHIRE DRIVE|      NULL|   CHIPPENHAM| WILTSHIRE|  WILTSHIRE|                A|                              A|\n",
      "|         {2131FCF6-B03B-86...|235000|2021-10-29 00:00|SN12 6YN|            T|      Y|       F|                  21|NULL|       MINT GROVE|      NULL|     MELKSHAM| WILTSHIRE|  WILTSHIRE|                A|                              A|\n",
      "|         {2131FCF6-B04A-86...|487495|2021-08-06 00:00| SP2 8FT|            D|      Y|       F|                   6|NULL|      MAPLE CLOSE|      NULL|    SALISBURY| WILTSHIRE|  WILTSHIRE|                A|                              A|\n",
      "|         {2131FCF6-B079-86...|535000|2021-04-19 00:00| SN4 7RN|            D|      N|       F|         MISSY LODGE|NULL|             NULL|BROAD TOWN|      SWINDON| WILTSHIRE|  WILTSHIRE|                A|                              A|\n",
      "|         {2131FCF6-B086-86...|230000|2021-05-28 00:00|SN15 1UH|            S|      Y|       F|                 142|NULL|   GAINEY GARDENS|      NULL|   CHIPPENHAM| WILTSHIRE|  WILTSHIRE|                A|                              A|\n",
      "|         {2131FCF6-B093-86...|440000|2021-06-18 00:00|SN15 1GJ|            D|      Y|       F|                   1|NULL|      VINES CLOSE|      NULL|   CHIPPENHAM| WILTSHIRE|  WILTSHIRE|                A|                              A|\n",
      "|         {2131FCF6-B09B-86...|270000|2021-10-29 00:00|BA14 0FT|            T|      Y|       F|                   4|NULL|YARNBROOK GARDENS|      NULL|   TROWBRIDGE| WILTSHIRE|  WILTSHIRE|                A|                              A|\n",
      "|         {2131FCF6-B0B0-86...|338000|2021-12-17 00:00|SN15 1GR|            S|      Y|       F|                  15|NULL|      WITTS GROVE|      NULL|   CHIPPENHAM| WILTSHIRE|  WILTSHIRE|                A|                              A|\n",
      "|         {2131FCF6-B0B8-86...|264995|2021-10-29 00:00|SN15 1UW|            S|      Y|       F|                   1|NULL| SCOTT ASHE CLOSE|      NULL|   CHIPPENHAM| WILTSHIRE|  WILTSHIRE|                A|                              A|\n",
      "+-----------------------------+------+----------------+--------+-------------+-------+--------+--------------------+----+-----------------+----------+-------------+----------+-----------+-----------------+-------------------------------+\n",
      "only showing top 20 rows\n",
      "\n"
     ]
    }
   ],
   "source": [
    "df.show()"
   ]
  },
  {
   "cell_type": "code",
   "execution_count": null,
   "id": "d2abca11-a36e-4ffd-bed2-8384f3bbe644",
   "metadata": {},
   "outputs": [],
   "source": [
    "\n",
    "grouped = df.groupby(F.col('DISTRICT')).agg(F.sum('PRICE').alias('somma'))"
   ]
  },
  {
   "cell_type": "code",
   "execution_count": null,
   "id": "f7be1b4b-3ba5-4d42-8012-24277b027578",
   "metadata": {},
   "outputs": [],
   "source": [
    "grouped.toPandas()"
   ]
  },
  {
   "cell_type": "code",
   "execution_count": null,
   "id": "23c3257d-56e6-4325-88c3-73c061ce6dff",
   "metadata": {},
   "outputs": [],
   "source": [
    "grouped.write.jdbc(url=db_url, table=\"prova123\", mode=\"overwrite\", properties=db_properties)"
   ]
  },
  {
   "cell_type": "code",
   "execution_count": null,
   "id": "35797384-2bf8-4903-a75f-f309143b8583",
   "metadata": {},
   "outputs": [],
   "source": [
    "spark.stop()"
   ]
  }
 ],
 "metadata": {
  "kernelspec": {
   "display_name": "Python 3 (ipykernel)",
   "language": "python",
   "name": "python3"
  },
  "language_info": {
   "codemirror_mode": {
    "name": "ipython",
    "version": 3
   },
   "file_extension": ".py",
   "mimetype": "text/x-python",
   "name": "python",
   "nbconvert_exporter": "python",
   "pygments_lexer": "ipython3",
   "version": "3.11.6"
  }
 },
 "nbformat": 4,
 "nbformat_minor": 5
}
