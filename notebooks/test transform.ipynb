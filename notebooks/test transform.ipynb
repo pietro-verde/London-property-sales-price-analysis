{
 "cells": [
  {
   "cell_type": "code",
   "execution_count": 1,
   "id": "fa7c78f2-0902-46cf-a1f1-7e12e5f72bbb",
   "metadata": {},
   "outputs": [],
   "source": [
    "from pyspark.sql import SparkSession"
   ]
  },
  {
   "cell_type": "code",
   "execution_count": 2,
   "id": "e3eccdbf-fdda-4b44-a9ba-817fd32a0607",
   "metadata": {},
   "outputs": [],
   "source": [
    "# OCI_ACCESS_KEY_ID = \"f12a940090e79f11b9c8686f50d1f9abc357307f\"\n",
    "# OCI_SECRET_ACCESS_KEY = \"UOs9CI56ZvGIETioUV9ijqxKgtKU1a/fT7jg4Qvkq8c=\"\n",
    "OCI_REGION = 'uk-london-1'\n",
    "OCI_NAMESPACE = 'lrqgbz9z6zlj'\n",
    "BUCKET_NAME = 'london-property-sales-price'"
   ]
  },
  {
   "cell_type": "code",
   "execution_count": null,
   "id": "a36c964d-408b-412d-ba63-e9feb5eae768",
   "metadata": {},
   "outputs": [],
   "source": [
    "spark = SparkSession.builder \\\n",
    "    .master(\"local[*]\") \\\n",
    "    .appName('Transform') \\\n",
    "    .config('spark.jars.packages', 'org.apache.hadoop:hadoop-aws:3.3.4,com.amazonaws:aws-java-sdk-bundle:1.12.506') \\\n",
    "    .config('spark.hadoop.fs.s3a.endpoint', f'https://{OCI_NAMESPACE}.compat.objectstorage.{OCI_REGION}.oraclecloud.com') \\\n",
    "    .config('spark.hadoop.fs.s3a.access.key', OCI_ACCESS_KEY_ID) \\\n",
    "    .config('spark.hadoop.fs.s3a.secret.key', OCI_SECRET_ACCESS_KEY) \\\n",
    "    .config('spark.hadoop.fs.s3a.impl', 'org.apache.hadoop.fs.s3a.S3AFileSystem') \\\n",
    "    .config('spark.hadoop.fs.s3a.path.style.access', 'true') \\\n",
    "    .config('spark.hadoop.fs.s3a.connection.ssl.enabled', 'true') \\\n",
    "    .getOrCreate()"
   ]
  }
 ],
 "metadata": {
  "kernelspec": {
   "display_name": "Python 3 (ipykernel)",
   "language": "python",
   "name": "python3"
  },
  "language_info": {
   "codemirror_mode": {
    "name": "ipython",
    "version": 3
   },
   "file_extension": ".py",
   "mimetype": "text/x-python",
   "name": "python",
   "nbconvert_exporter": "python",
   "pygments_lexer": "ipython3",
   "version": "3.11.6"
  }
 },
 "nbformat": 4,
 "nbformat_minor": 5
}
