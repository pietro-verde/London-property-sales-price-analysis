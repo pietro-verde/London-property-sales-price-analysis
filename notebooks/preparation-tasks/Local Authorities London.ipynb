{
 "cells": [
  {
   "attachments": {},
   "cell_type": "markdown",
   "id": "67ffd68d-ab3e-4564-a8b0-93177afb7d0d",
   "metadata": {},
   "source": [
    "The EPC data is available in files divided by district (local authorities).\n",
    "\n",
    "https://epc.opendatacommunities.org/docs/api/domestic#downloads\n",
    "\n",
    "Wikipedia can be used to lookup a list of local authorities for London. "
   ]
  },
  {
   "cell_type": "code",
   "execution_count": 1,
   "id": "6a4391cc-bbcc-458d-91f2-5468a13f86d9",
   "metadata": {},
   "outputs": [],
   "source": [
    "import pandas as pd\n",
    "import requests\n",
    "from bs4 import BeautifulSoup\n",
    "import warnings\n",
    "warnings.filterwarnings('ignore')"
   ]
  },
  {
   "cell_type": "code",
   "execution_count": 2,
   "id": "da0ba0fa-3d08-4c40-9cba-9a6817472a21",
   "metadata": {},
   "outputs": [],
   "source": [
    "url = \"https://en.wikipedia.org/wiki/List_of_London_boroughs\"\n",
    "response = requests.get(url)\n",
    "\n",
    "soup = BeautifulSoup(response.content, 'html.parser')\n",
    "\n",
    "element = soup.find('table')\n",
    "\n",
    "rows = element.find_all('tr')\n",
    "\n",
    "headers = [header.text for header in rows[0].find_all('th')]\n",
    "\n",
    "data = []\n",
    "for row in rows[1:]:\n",
    "    data.append([col.text for col in row.find_all('td')])\n",
    "\n",
    "boroughs_list = []\n",
    "for row in data:\n",
    "    item = row[0].split('[')[0].replace(\"\\n\",\"\")\n",
    "    boroughs_list.append(item)\n",
    "    \n",
    "london_boroughs = pd.DataFrame(columns=['Borough'], data=boroughs_list)"
   ]
  },
  {
   "cell_type": "code",
   "execution_count": 3,
   "id": "8182d59d-5213-453b-b246-2a87e278fb72",
   "metadata": {},
   "outputs": [],
   "source": [
    "local_authorities = pd.read_csv(\"local-authority-map.csv\")"
   ]
  },
  {
   "cell_type": "code",
   "execution_count": 4,
   "id": "6fd92c4d-d15c-463e-8b8a-8c3a0e5e130d",
   "metadata": {},
   "outputs": [],
   "source": [
    "london_local_authorities = local_authorities\\\n",
    "    .merge(\n",
    "    london_boroughs.rename(columns={'Borough':'Description'}),\n",
    "    how=\"inner\", \n",
    "    on='Description')"
   ]
  },
  {
   "cell_type": "code",
   "execution_count": 8,
   "id": "32b1c84e-c4cb-440d-a410-94468c6f5305",
   "metadata": {},
   "outputs": [],
   "source": [
    "london_local_authorities.to_csv(\"../../../../data/london-local-authorities.csv\", index=None)"
   ]
  }
 ],
 "metadata": {
  "kernelspec": {
   "display_name": "Python 3 (ipykernel)",
   "language": "python",
   "name": "python3"
  },
  "language_info": {
   "codemirror_mode": {
    "name": "ipython",
    "version": 3
   },
   "file_extension": ".py",
   "mimetype": "text/x-python",
   "name": "python",
   "nbconvert_exporter": "python",
   "pygments_lexer": "ipython3",
   "version": "3.11.6"
  }
 },
 "nbformat": 4,
 "nbformat_minor": 5
}
