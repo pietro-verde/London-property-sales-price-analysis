{
 "cells": [
  {
   "cell_type": "markdown",
   "id": "e62e8d87-a2bb-4600-b10c-86a305748863",
   "metadata": {},
   "source": [
    "## Property Sale Prices in London"
   ]
  },
  {
   "cell_type": "markdown",
   "id": "65cfc07a-575e-4b0b-b8d4-727af6a75e11",
   "metadata": {},
   "source": [
    "#### Data Download"
   ]
  },
  {
   "cell_type": "code",
   "execution_count": null,
   "id": "37174158-6eb5-4c8e-8029-5d528f2fbbd8",
   "metadata": {},
   "outputs": [],
   "source": [
    "# Price paid data download:\n",
    "!wget -P data http://prod.publicdata.landregistry.gov.uk.s3-website-eu-west-1.amazonaws.com/pp-complete.csv"
   ]
  },
  {
   "cell_type": "code",
   "execution_count": null,
   "id": "199d5301-71a2-417f-bc4f-2476e99eee75",
   "metadata": {},
   "outputs": [],
   "source": [
    "# EPC data dowbloaded from\n",
    "# https://epc.opendatacommunities.org/domestic/search\n",
    "# Registration required."
   ]
  },
  {
   "cell_type": "code",
   "execution_count": 1,
   "id": "c80f3a07-1491-4aa4-b7e1-ed8bf0120040",
   "metadata": {},
   "outputs": [],
   "source": [
    "import pandas as pd\n",
    "from pyspark.sql import SparkSession\n",
    "from pyspark.sql import functions as F\n",
    "import requests\n",
    "import os\n",
    "from bs4 import BeautifulSoup\n",
    "\n",
    "import warnings\n",
    "warnings.filterwarnings('ignore')"
   ]
  },
  {
   "cell_type": "markdown",
   "id": "d0d2b52a-c5b7-47c5-a2ee-70be2db02a66",
   "metadata": {},
   "source": [
    "## Price Paid Data Dictionary\n",
    "\n",
    "Web-scaped from\n",
    "https://www.gov.uk/guidance/about-the-price-paid-data#explanations-of-column-headers-in-the-ppd\n"
   ]
  },
  {
   "cell_type": "code",
   "execution_count": 2,
   "id": "975ffbf6-93b4-4a9b-a30d-0a9286c736ba",
   "metadata": {},
   "outputs": [
    {
     "data": {
      "text/html": [
       "<div>\n",
       "<style scoped>\n",
       "    .dataframe tbody tr th:only-of-type {\n",
       "        vertical-align: middle;\n",
       "    }\n",
       "\n",
       "    .dataframe tbody tr th {\n",
       "        vertical-align: top;\n",
       "    }\n",
       "\n",
       "    .dataframe thead th {\n",
       "        text-align: right;\n",
       "    }\n",
       "</style>\n",
       "<table border=\"1\" class=\"dataframe\">\n",
       "  <thead>\n",
       "    <tr style=\"text-align: right;\">\n",
       "      <th></th>\n",
       "      <th>Data item</th>\n",
       "      <th>Explanation (where appropriate)</th>\n",
       "    </tr>\n",
       "  </thead>\n",
       "  <tbody>\n",
       "    <tr>\n",
       "      <th>0</th>\n",
       "      <td>Transaction unique identifier</td>\n",
       "      <td>A reference number which is generated automati...</td>\n",
       "    </tr>\n",
       "    <tr>\n",
       "      <th>1</th>\n",
       "      <td>Price</td>\n",
       "      <td>Sale price stated on the transfer deed.</td>\n",
       "    </tr>\n",
       "    <tr>\n",
       "      <th>2</th>\n",
       "      <td>Date of Transfer</td>\n",
       "      <td>Date when the sale was completed, as stated on...</td>\n",
       "    </tr>\n",
       "    <tr>\n",
       "      <th>3</th>\n",
       "      <td>Postcode</td>\n",
       "      <td>This is the postcode used at the time of the o...</td>\n",
       "    </tr>\n",
       "    <tr>\n",
       "      <th>4</th>\n",
       "      <td>Property Type</td>\n",
       "      <td>D = Detached, S = Semi-Detached, T = Terraced,...</td>\n",
       "    </tr>\n",
       "    <tr>\n",
       "      <th>5</th>\n",
       "      <td>Old/New</td>\n",
       "      <td>Indicates the age of the property and applies ...</td>\n",
       "    </tr>\n",
       "    <tr>\n",
       "      <th>6</th>\n",
       "      <td>Duration</td>\n",
       "      <td>Relates to the tenure: F = Freehold, L= Leaseh...</td>\n",
       "    </tr>\n",
       "    <tr>\n",
       "      <th>7</th>\n",
       "      <td>PAON</td>\n",
       "      <td>Primary Addressable Object Name. Typically the...</td>\n",
       "    </tr>\n",
       "    <tr>\n",
       "      <th>8</th>\n",
       "      <td>SAON</td>\n",
       "      <td>Secondary Addressable Object Name. Where a pro...</td>\n",
       "    </tr>\n",
       "    <tr>\n",
       "      <th>9</th>\n",
       "      <td>Street</td>\n",
       "      <td></td>\n",
       "    </tr>\n",
       "    <tr>\n",
       "      <th>10</th>\n",
       "      <td>Locality</td>\n",
       "      <td></td>\n",
       "    </tr>\n",
       "    <tr>\n",
       "      <th>11</th>\n",
       "      <td>Town/City</td>\n",
       "      <td></td>\n",
       "    </tr>\n",
       "    <tr>\n",
       "      <th>12</th>\n",
       "      <td>District</td>\n",
       "      <td></td>\n",
       "    </tr>\n",
       "    <tr>\n",
       "      <th>13</th>\n",
       "      <td>County</td>\n",
       "      <td></td>\n",
       "    </tr>\n",
       "    <tr>\n",
       "      <th>14</th>\n",
       "      <td>\\nPPD Category Type</td>\n",
       "      <td>Indicates the type of Price Paid transaction.A...</td>\n",
       "    </tr>\n",
       "    <tr>\n",
       "      <th>15</th>\n",
       "      <td>Record Status - monthly file only</td>\n",
       "      <td>Indicates additions, changes and deletions to ...</td>\n",
       "    </tr>\n",
       "  </tbody>\n",
       "</table>\n",
       "</div>"
      ],
      "text/plain": [
       "                            Data item  \\\n",
       "0       Transaction unique identifier   \n",
       "1                               Price   \n",
       "2                    Date of Transfer   \n",
       "3                            Postcode   \n",
       "4                       Property Type   \n",
       "5                             Old/New   \n",
       "6                            Duration   \n",
       "7                                PAON   \n",
       "8                                SAON   \n",
       "9                              Street   \n",
       "10                           Locality   \n",
       "11                          Town/City   \n",
       "12                           District   \n",
       "13                             County   \n",
       "14                \\nPPD Category Type   \n",
       "15  Record Status - monthly file only   \n",
       "\n",
       "                      Explanation (where appropriate)  \n",
       "0   A reference number which is generated automati...  \n",
       "1             Sale price stated on the transfer deed.  \n",
       "2   Date when the sale was completed, as stated on...  \n",
       "3   This is the postcode used at the time of the o...  \n",
       "4   D = Detached, S = Semi-Detached, T = Terraced,...  \n",
       "5   Indicates the age of the property and applies ...  \n",
       "6   Relates to the tenure: F = Freehold, L= Leaseh...  \n",
       "7   Primary Addressable Object Name. Typically the...  \n",
       "8   Secondary Addressable Object Name. Where a pro...  \n",
       "9                                                      \n",
       "10                                                     \n",
       "11                                                     \n",
       "12                                                     \n",
       "13                                                     \n",
       "14  Indicates the type of Price Paid transaction.A...  \n",
       "15  Indicates additions, changes and deletions to ...  "
      ]
     },
     "execution_count": 2,
     "metadata": {},
     "output_type": "execute_result"
    }
   ],
   "source": [
    "url = \"https://www.gov.uk/guidance/about-the-price-paid-data#explanations-of-column-headers-in-the-ppd\"\n",
    "response = requests.get(url)\n",
    "\n",
    "soup = BeautifulSoup(response.content, 'html.parser')\n",
    "\n",
    "element = soup.find('table')\n",
    "\n",
    "rows = element.find_all('tr')\n",
    "\n",
    "headers = [header.text for header in rows[0].find_all('th')]\n",
    "\n",
    "data = []\n",
    "for row in rows[1:]:\n",
    "    data.append([col.text for col in row.find_all('td')])\n",
    "\n",
    "col1data = []\n",
    "col2data = []\n",
    "for row in rows[1:]:\n",
    "    col1data.append([col.text for col in row.find_all('th')])\n",
    "    col2data.append([col.text for col in row.find_all('td')])\n",
    "\n",
    "dat1 = pd.DataFrame(col1data, columns=headers[:1])\n",
    "dat2 = pd.DataFrame(col2data, columns=headers[1:])\n",
    "\n",
    "pp_dictionary = pd.concat([dat1,dat2],axis=1)\n",
    "\n",
    "pp_dictionary"
   ]
  },
  {
   "cell_type": "markdown",
   "id": "7d739f97-25df-41b4-8f3e-761fa7f956d0",
   "metadata": {},
   "source": [
    "## Price Paid Data"
   ]
  },
  {
   "cell_type": "code",
   "execution_count": 3,
   "id": "ea4fb429-b50b-4f60-aed9-27692e13a773",
   "metadata": {},
   "outputs": [],
   "source": [
    "# price paid data\n",
    "PP_FILE_PATH =\"data/pp-complete.csv\""
   ]
  },
  {
   "cell_type": "code",
   "execution_count": 4,
   "id": "4294c826-9ac2-413d-8a2d-2e4fe8363643",
   "metadata": {},
   "outputs": [
    {
     "name": "stderr",
     "output_type": "stream",
     "text": [
      "Setting default log level to \"WARN\".\n",
      "To adjust logging level use sc.setLogLevel(newLevel). For SparkR, use setLogLevel(newLevel).\n",
      "23/12/25 11:28:43 WARN NativeCodeLoader: Unable to load native-hadoop library for your platform... using builtin-java classes where applicable\n"
     ]
    }
   ],
   "source": [
    "spark = SparkSession.builder.appName('housesalesdata').getOrCreate()"
   ]
  },
  {
   "cell_type": "code",
   "execution_count": 5,
   "id": "33b6763e-ce02-42ba-8d5c-11a0f629f324",
   "metadata": {},
   "outputs": [
    {
     "name": "stderr",
     "output_type": "stream",
     "text": [
      "                                                                                \r"
     ]
    }
   ],
   "source": [
    "pp = spark.read.csv(PP_FILE_PATH, inferSchema=True, header=False)"
   ]
  },
  {
   "cell_type": "code",
   "execution_count": 6,
   "id": "d3bbe5e5-a5b5-45b3-a38b-bf92d1a57941",
   "metadata": {},
   "outputs": [
    {
     "data": {
      "text/html": [
       "<div>\n",
       "<style scoped>\n",
       "    .dataframe tbody tr th:only-of-type {\n",
       "        vertical-align: middle;\n",
       "    }\n",
       "\n",
       "    .dataframe tbody tr th {\n",
       "        vertical-align: top;\n",
       "    }\n",
       "\n",
       "    .dataframe thead th {\n",
       "        text-align: right;\n",
       "    }\n",
       "</style>\n",
       "<table border=\"1\" class=\"dataframe\">\n",
       "  <thead>\n",
       "    <tr style=\"text-align: right;\">\n",
       "      <th></th>\n",
       "      <th>TRANSACTION_UNIQUE_IDENTIFIER</th>\n",
       "      <th>PRICE</th>\n",
       "      <th>DATE_OF_TRANSFER</th>\n",
       "      <th>POSTCODE</th>\n",
       "      <th>PROPERTY_TYPE</th>\n",
       "      <th>OLD_NEW</th>\n",
       "      <th>DURATION</th>\n",
       "      <th>PAON</th>\n",
       "      <th>SAON</th>\n",
       "      <th>STREET</th>\n",
       "      <th>LOCALITY</th>\n",
       "      <th>TOWN_CITY</th>\n",
       "      <th>DISTRICT</th>\n",
       "      <th>COUNTY</th>\n",
       "      <th>PPD_CATEGORY_TYPE</th>\n",
       "      <th>RECORD_STATUS_MONTHLY_FILE_ONLY</th>\n",
       "    </tr>\n",
       "  </thead>\n",
       "  <tbody>\n",
       "    <tr>\n",
       "      <th>0</th>\n",
       "      <td>{F887F88E-7D15-4415-804E-52EAC2F10958}</td>\n",
       "      <td>70000</td>\n",
       "      <td>1995-07-07</td>\n",
       "      <td>MK15 9HP</td>\n",
       "      <td>D</td>\n",
       "      <td>N</td>\n",
       "      <td>F</td>\n",
       "      <td>31</td>\n",
       "      <td>None</td>\n",
       "      <td>ALDRICH DRIVE</td>\n",
       "      <td>WILLEN</td>\n",
       "      <td>MILTON KEYNES</td>\n",
       "      <td>MILTON KEYNES</td>\n",
       "      <td>MILTON KEYNES</td>\n",
       "      <td>A</td>\n",
       "      <td>A</td>\n",
       "    </tr>\n",
       "    <tr>\n",
       "      <th>1</th>\n",
       "      <td>{40FD4DF2-5362-407C-92BC-566E2CCE89E9}</td>\n",
       "      <td>44500</td>\n",
       "      <td>1995-02-03</td>\n",
       "      <td>SR6 0AQ</td>\n",
       "      <td>T</td>\n",
       "      <td>N</td>\n",
       "      <td>F</td>\n",
       "      <td>50</td>\n",
       "      <td>None</td>\n",
       "      <td>HOWICK PARK</td>\n",
       "      <td>SUNDERLAND</td>\n",
       "      <td>SUNDERLAND</td>\n",
       "      <td>SUNDERLAND</td>\n",
       "      <td>TYNE AND WEAR</td>\n",
       "      <td>A</td>\n",
       "      <td>A</td>\n",
       "    </tr>\n",
       "    <tr>\n",
       "      <th>2</th>\n",
       "      <td>{7A99F89E-7D81-4E45-ABD5-566E49A045EA}</td>\n",
       "      <td>56500</td>\n",
       "      <td>1995-01-13</td>\n",
       "      <td>CO6 1SQ</td>\n",
       "      <td>T</td>\n",
       "      <td>N</td>\n",
       "      <td>F</td>\n",
       "      <td>19</td>\n",
       "      <td>None</td>\n",
       "      <td>BRICK KILN CLOSE</td>\n",
       "      <td>COGGESHALL</td>\n",
       "      <td>COLCHESTER</td>\n",
       "      <td>BRAINTREE</td>\n",
       "      <td>ESSEX</td>\n",
       "      <td>A</td>\n",
       "      <td>A</td>\n",
       "    </tr>\n",
       "    <tr>\n",
       "      <th>3</th>\n",
       "      <td>{28225260-E61C-4E57-8B56-566E5285B1C1}</td>\n",
       "      <td>58000</td>\n",
       "      <td>1995-07-28</td>\n",
       "      <td>B90 4TG</td>\n",
       "      <td>T</td>\n",
       "      <td>N</td>\n",
       "      <td>F</td>\n",
       "      <td>37</td>\n",
       "      <td>None</td>\n",
       "      <td>RAINSBROOK DRIVE</td>\n",
       "      <td>SHIRLEY</td>\n",
       "      <td>SOLIHULL</td>\n",
       "      <td>SOLIHULL</td>\n",
       "      <td>WEST MIDLANDS</td>\n",
       "      <td>A</td>\n",
       "      <td>A</td>\n",
       "    </tr>\n",
       "    <tr>\n",
       "      <th>4</th>\n",
       "      <td>{444D34D7-9BA6-43A7-B695-4F48980E0176}</td>\n",
       "      <td>51000</td>\n",
       "      <td>1995-06-28</td>\n",
       "      <td>DY5 1SA</td>\n",
       "      <td>S</td>\n",
       "      <td>N</td>\n",
       "      <td>F</td>\n",
       "      <td>59</td>\n",
       "      <td>None</td>\n",
       "      <td>MERRY HILL</td>\n",
       "      <td>BRIERLEY HILL</td>\n",
       "      <td>BRIERLEY HILL</td>\n",
       "      <td>DUDLEY</td>\n",
       "      <td>WEST MIDLANDS</td>\n",
       "      <td>A</td>\n",
       "      <td>A</td>\n",
       "    </tr>\n",
       "  </tbody>\n",
       "</table>\n",
       "</div>"
      ],
      "text/plain": [
       "            TRANSACTION_UNIQUE_IDENTIFIER  PRICE DATE_OF_TRANSFER  POSTCODE  \\\n",
       "0  {F887F88E-7D15-4415-804E-52EAC2F10958}  70000       1995-07-07  MK15 9HP   \n",
       "1  {40FD4DF2-5362-407C-92BC-566E2CCE89E9}  44500       1995-02-03   SR6 0AQ   \n",
       "2  {7A99F89E-7D81-4E45-ABD5-566E49A045EA}  56500       1995-01-13   CO6 1SQ   \n",
       "3  {28225260-E61C-4E57-8B56-566E5285B1C1}  58000       1995-07-28   B90 4TG   \n",
       "4  {444D34D7-9BA6-43A7-B695-4F48980E0176}  51000       1995-06-28   DY5 1SA   \n",
       "\n",
       "  PROPERTY_TYPE OLD_NEW DURATION PAON  SAON            STREET       LOCALITY  \\\n",
       "0             D       N        F   31  None     ALDRICH DRIVE         WILLEN   \n",
       "1             T       N        F   50  None       HOWICK PARK     SUNDERLAND   \n",
       "2             T       N        F   19  None  BRICK KILN CLOSE     COGGESHALL   \n",
       "3             T       N        F   37  None  RAINSBROOK DRIVE        SHIRLEY   \n",
       "4             S       N        F   59  None        MERRY HILL  BRIERLEY HILL   \n",
       "\n",
       "       TOWN_CITY       DISTRICT         COUNTY PPD_CATEGORY_TYPE  \\\n",
       "0  MILTON KEYNES  MILTON KEYNES  MILTON KEYNES                 A   \n",
       "1     SUNDERLAND     SUNDERLAND  TYNE AND WEAR                 A   \n",
       "2     COLCHESTER      BRAINTREE          ESSEX                 A   \n",
       "3       SOLIHULL       SOLIHULL  WEST MIDLANDS                 A   \n",
       "4  BRIERLEY HILL         DUDLEY  WEST MIDLANDS                 A   \n",
       "\n",
       "  RECORD_STATUS_MONTHLY_FILE_ONLY  \n",
       "0                               A  \n",
       "1                               A  \n",
       "2                               A  \n",
       "3                               A  \n",
       "4                               A  "
      ]
     },
     "execution_count": 6,
     "metadata": {},
     "output_type": "execute_result"
    }
   ],
   "source": [
    "headers = ['TRANSACTION_UNIQUE_IDENTIFIER','PRICE',\n",
    "           'DATE_OF_TRANSFER','POSTCODE','PROPERTY_TYPE',\n",
    "           'OLD_NEW','DURATION','PAON','SAON','STREET',\n",
    "           'LOCALITY','TOWN_CITY','DISTRICT','COUNTY',\n",
    "           'PPD_CATEGORY_TYPE','RECORD_STATUS_MONTHLY_FILE_ONLY']\n",
    "pp = pp.toDF(*headers)\n",
    "\n",
    "pp.limit(5).toPandas()"
   ]
  },
  {
   "cell_type": "code",
   "execution_count": 7,
   "id": "f0683811-29af-4970-9bed-ac5bf4ea882b",
   "metadata": {},
   "outputs": [
    {
     "name": "stderr",
     "output_type": "stream",
     "text": [
      "[Stage 3:=======================================================> (37 + 1) / 38]\r"
     ]
    },
    {
     "name": "stdout",
     "output_type": "stream",
     "text": [
      "+-------------------+-------------------+\n",
      "|           min_date|           max_date|\n",
      "+-------------------+-------------------+\n",
      "|1995-01-01 00:00:00|2023-09-29 00:00:00|\n",
      "+-------------------+-------------------+\n",
      "\n"
     ]
    },
    {
     "name": "stderr",
     "output_type": "stream",
     "text": [
      "                                                                                \r"
     ]
    }
   ],
   "source": [
    "pp.select(\n",
    "    F.min('DATE_OF_TRANSFER').alias('min_date'),\n",
    "    F.max('DATE_OF_TRANSFER').alias('max_date')\n",
    "         ).show()"
   ]
  },
  {
   "cell_type": "code",
   "execution_count": 8,
   "id": "7b8dacba-f4d8-4f6f-a055-d5f0cfd7ffa6",
   "metadata": {},
   "outputs": [],
   "source": [
    "pp_london = pp.filter(F.col('COUNTY')=='GREATER LONDON')\\\n",
    "    .filter(F.col('DATE_OF_TRANSFER')>='2010-01-01')"
   ]
  },
  {
   "cell_type": "code",
   "execution_count": 9,
   "id": "2970ed66-4cd8-441d-ac22-07076438d767",
   "metadata": {},
   "outputs": [
    {
     "name": "stderr",
     "output_type": "stream",
     "text": [
      "[Stage 6:=======================================================> (37 + 1) / 38]\r"
     ]
    },
    {
     "name": "stdout",
     "output_type": "stream",
     "text": [
      "+--------+\n",
      "|count(1)|\n",
      "+--------+\n",
      "| 1494250|\n",
      "+--------+\n",
      "\n"
     ]
    },
    {
     "name": "stderr",
     "output_type": "stream",
     "text": [
      "                                                                                \r"
     ]
    }
   ],
   "source": [
    "pp_london.select(F.count(\"*\")).show()"
   ]
  },
  {
   "cell_type": "code",
   "execution_count": 10,
   "id": "2619b45e-8e32-4de2-805c-835417979fd9",
   "metadata": {},
   "outputs": [
    {
     "name": "stderr",
     "output_type": "stream",
     "text": [
      "                                                                                \r"
     ]
    },
    {
     "data": {
      "text/plain": [
       "4623"
      ]
     },
     "execution_count": 10,
     "metadata": {},
     "output_type": "execute_result"
    }
   ],
   "source": [
    "pp_london.filter(F.col(\"POSTCODE\").isNull()).count()"
   ]
  },
  {
   "cell_type": "code",
   "execution_count": 11,
   "id": "63f6e760-70c6-4493-b513-88080b4abf0a",
   "metadata": {},
   "outputs": [],
   "source": [
    "pp_london = pp_london.filter(F.col(\"POSTCODE\").isNotNull())"
   ]
  },
  {
   "cell_type": "code",
   "execution_count": 12,
   "id": "cab8de8f-e390-4a33-86cc-81725b310b51",
   "metadata": {},
   "outputs": [
    {
     "name": "stderr",
     "output_type": "stream",
     "text": [
      "                                                                                \r"
     ]
    }
   ],
   "source": [
    "pp_london = pp_london.toPandas()"
   ]
  },
  {
   "cell_type": "markdown",
   "id": "3c4ad32f-de18-4cbf-adc8-cb3ebecb6992",
   "metadata": {},
   "source": [
    "## Load EPC data\n",
    "\n",
    "---- Explanation on use of EPC data for floor area\n",
    "---- match"
   ]
  },
  {
   "cell_type": "code",
   "execution_count": 13,
   "id": "ea31221d-e2af-44ce-9bb2-6ce3d3b5d526",
   "metadata": {},
   "outputs": [],
   "source": [
    "districts = pd.read_csv(\"data/Local_Authority_Districts_(April_2023)_Names_and_Codes_in_the_United_Kingdom.csv\")\n",
    "lon_boroughs = pd.read_csv(\"data/london_borough.csv\") # from Wikipedia\n",
    "\n",
    "lon_boroughs = lon_boroughs.rename(columns={\"Borough\":\"LAD23NM\"})\n",
    "\n",
    "lon_districts = lon_boroughs.merge(districts[[\"LAD23NM\",\"LAD23CD\"]],\n",
    "                  how=\"left\",\n",
    "                  on=\"LAD23NM\")\n",
    "\n",
    "lon_districts_set = set(lon_districts[\"LAD23CD\"])"
   ]
  },
  {
   "cell_type": "code",
   "execution_count": 36,
   "id": "56b5ed78-7947-4216-8d84-b8c79ee27aed",
   "metadata": {},
   "outputs": [],
   "source": [
    "fol = 'epc_data/'\n",
    "lista = os.listdir(fol)"
   ]
  },
  {
   "cell_type": "code",
   "execution_count": null,
   "id": "a7230b73-e728-48c4-a9ce-6bb9df6526e3",
   "metadata": {},
   "outputs": [],
   "source": [
    "# pr = pd.read_csv(fol+\"domestic-E09000019-Islington/certificates.csv\")"
   ]
  },
  {
   "cell_type": "code",
   "execution_count": null,
   "id": "84d4fff5-f195-4636-8fa8-bd1ac149cd4a",
   "metadata": {},
   "outputs": [],
   "source": [
    "# pr1 = pr[[\"ADDRESS\",\"LODGEMENT_DATE\",\"TOTAL_FLOOR_AREA\",\"LODGEMENT_DATETIME\"]]"
   ]
  },
  {
   "cell_type": "code",
   "execution_count": null,
   "id": "2f860427-aced-4e26-a6cf-53ba34dbd933",
   "metadata": {},
   "outputs": [],
   "source": [
    "# pr1 = pr1.merge(pr1[\"ADDRESS\"].value_counts().rename('count'),\n",
    "#           how='left',\n",
    "#           # left_on=\"ADDRESS\",\n",
    "#           right_index=True)"
   ]
  },
  {
   "cell_type": "code",
   "execution_count": 15,
   "id": "da34febd-7527-4810-969e-fe8e9e23fb69",
   "metadata": {},
   "outputs": [],
   "source": [
    "# pr1[pr1['count']>1].sort_values([\"count\",\"ADDRESS\",\"LODGEMENT_DATETIME\"], ascending=False)"
   ]
  },
  {
   "cell_type": "code",
   "execution_count": 37,
   "id": "f7ab7568-f424-4bcb-a1b5-41a1d212b872",
   "metadata": {},
   "outputs": [],
   "source": [
    "cols_epc = [\"ADDRESS\",\"POSTCODE\",\"TOTAL_FLOOR_AREA\"]\n",
    "\n",
    "dfs = []\n",
    "for fol1 in lista:\n",
    "    dist = fol1.split(\"-\")[1]\n",
    "    if dist in lon_districts_set:\n",
    "        tmp = pd.read_csv(fol+fol1+\"/certificates.csv\",\n",
    "                          usecols = cols_epc,\n",
    "                          low_memory=False)\n",
    "        dfs.append(tmp)"
   ]
  },
  {
   "cell_type": "code",
   "execution_count": 38,
   "id": "70614268-48ec-4b14-b415-2cd0f2984131",
   "metadata": {},
   "outputs": [],
   "source": [
    "london_epc = pd.concat(dfs, ignore_index=True)"
   ]
  },
  {
   "cell_type": "markdown",
   "id": "781ba25b-465c-43c9-b497-b41604f68033",
   "metadata": {},
   "source": [
    "### Reformat columns and merge"
   ]
  },
  {
   "cell_type": "code",
   "execution_count": 18,
   "id": "aa1b49b8-b06b-460e-bf01-6564f7475b66",
   "metadata": {},
   "outputs": [],
   "source": [
    "def transform(df, cols:list):\n",
    "    transformed_cols = []\n",
    "    for c in cols:\n",
    "        newc = c+\"_fmt\"\n",
    "        df[newc] = df[c].str.strip()\n",
    "        df[newc] = df[newc].str.lower()\n",
    "        df[newc] = df[newc].str.replace(\" \",\"\")\n",
    "        df[newc] = df[newc].str.replace(\",\",\"\")\n",
    "        transformed_cols.append(newc)\n",
    "    return transformed_cols"
   ]
  },
  {
   "cell_type": "code",
   "execution_count": 19,
   "id": "5f9c1f85-2b08-478d-b70b-32bb927d22d3",
   "metadata": {},
   "outputs": [],
   "source": [
    "pp_cols = [\"SAON\", \"PAON\", \"STREET\",\"POSTCODE\"]\n",
    "\n",
    "transformed_cols_pp = transform(pp_london, pp_cols)"
   ]
  },
  {
   "cell_type": "code",
   "execution_count": 20,
   "id": "731b5ec7-021a-459c-8cf2-8b82cb140522",
   "metadata": {},
   "outputs": [],
   "source": [
    "pp_london[\"address_match_string\"] = pp_london[transformed_cols_pp].fillna(\"\").astype(str).agg(lambda x:''.join(x), axis=1)"
   ]
  },
  {
   "cell_type": "code",
   "execution_count": 39,
   "id": "4e3e9993-a2ac-4479-82be-3f3fedc68229",
   "metadata": {},
   "outputs": [],
   "source": [
    "epc_cols = ['ADDRESS', 'POSTCODE']\n",
    "transformed_cols_epc = transform(london_epc, epc_cols)"
   ]
  },
  {
   "cell_type": "code",
   "execution_count": 40,
   "id": "4f180341-9fec-4409-8e53-bfbd7f04bd8f",
   "metadata": {},
   "outputs": [],
   "source": [
    "london_epc[\"address_match_string\"] = london_epc[transformed_cols_epc].fillna(\"\").astype(str).agg(lambda x:''.join(x), axis=1)"
   ]
  },
  {
   "cell_type": "markdown",
   "id": "a07c26f0-018e-4227-8332-e0a874566238",
   "metadata": {},
   "source": [
    "## Cleaning london_epc\n",
    "\n",
    "For the addresses that have multiple values for \"TOTAL_FLOOR_AREA\", I keep only the highest."
   ]
  },
  {
   "cell_type": "code",
   "execution_count": 41,
   "id": "9f536551-278a-47c3-97f3-11c0ace5f824",
   "metadata": {},
   "outputs": [
    {
     "data": {
      "text/plain": [
       "benthamhouse2-4stationwayse186fj              33\n",
       "47elizabethgardensha74ug                      24\n",
       "flat2busheycourthazelroadda82ln               23\n",
       "82dgreenwrythelanesm52dp                      22\n",
       "20barnettcloseda82eg                          22\n",
       "                                              ..\n",
       "brierleyhousebarnetroaden53lw                  1\n",
       "10grantsclosenw71dd                            1\n",
       "flat12ashmorecourt274colneyhatchlanen113dq     1\n",
       "flat214thegrovenw119sh                         1\n",
       "2barringtoncourt29jeffreysroadsw46qu           1\n",
       "Name: address_match_string, Length: 2919643, dtype: int64"
      ]
     },
     "execution_count": 41,
     "metadata": {},
     "output_type": "execute_result"
    }
   ],
   "source": [
    "london_epc[\"address_match_string\"].value_counts()"
   ]
  },
  {
   "cell_type": "code",
   "execution_count": 42,
   "id": "0adb1d5d-ecb3-4b75-80e0-4718f260546d",
   "metadata": {},
   "outputs": [],
   "source": [
    "london_epc = london_epc.sort_values([\"address_match_string\",\"TOTAL_FLOOR_AREA\"], ascending=False)\\\n",
    "    .drop_duplicates(\"address_match_string\",keep='first')"
   ]
  },
  {
   "cell_type": "code",
   "execution_count": 43,
   "id": "5634fbf9-0888-4adf-9e0e-f39dfa99cd70",
   "metadata": {},
   "outputs": [
    {
     "data": {
      "text/plain": [
       "zinniastanmoreroadn153pr                          1\n",
       "38miltonavenuenw108eu                             1\n",
       "38minetdriveub33jn                                1\n",
       "38minervacloselondonsw96nz                        1\n",
       "38minardroadse61nr                                1\n",
       "                                                 ..\n",
       "flat1307100ageorgestreetcr01gp                    1\n",
       "flat1306wharfsidepointsouth4prestonsroade149ex    1\n",
       "flat1306wandsworthbridgeroadsw62ua                1\n",
       "flat1306vantagepoint2junctionroadn195ff           1\n",
       "!3aheathroadtw32nj                                1\n",
       "Name: address_match_string, Length: 2919643, dtype: int64"
      ]
     },
     "execution_count": 43,
     "metadata": {},
     "output_type": "execute_result"
    }
   ],
   "source": [
    "london_epc[\"address_match_string\"].value_counts()"
   ]
  },
  {
   "cell_type": "code",
   "execution_count": null,
   "id": "3bfd67f7-e87b-4c36-ba31-75b076e526c4",
   "metadata": {},
   "outputs": [],
   "source": [
    "# london_epc = london_epc.merge(london_epc[\"address_match_string\"].value_counts().rename(\"count\"),\n",
    "#                  how='left',\n",
    "#                  left_on=\"address_match_string\",\n",
    "#                  right_index=True)"
   ]
  },
  {
   "cell_type": "code",
   "execution_count": null,
   "id": "3267f215-9ff1-4bbb-a9ba-46369aa717f6",
   "metadata": {},
   "outputs": [],
   "source": [
    "# london_epc[london_epc[\"count\"]>1].sort_values(\"address_match_string\")"
   ]
  },
  {
   "cell_type": "markdown",
   "id": "690e224d-fed7-4ba0-950b-0695ce316573",
   "metadata": {},
   "source": [
    "### Merging"
   ]
  },
  {
   "cell_type": "code",
   "execution_count": 44,
   "id": "471ab4b9-d95f-498c-bdd4-bea2a30de71a",
   "metadata": {},
   "outputs": [
    {
     "data": {
      "text/plain": [
       "1489627"
      ]
     },
     "execution_count": 44,
     "metadata": {},
     "output_type": "execute_result"
    }
   ],
   "source": [
    "len(pp_london)"
   ]
  },
  {
   "cell_type": "code",
   "execution_count": 45,
   "id": "f271c727-e1b2-4c16-a94e-d76fd8fd48b0",
   "metadata": {},
   "outputs": [],
   "source": [
    "data_london = pp_london.merge(london_epc[[\"address_match_string\", \"TOTAL_FLOOR_AREA\"]],\n",
    "               how = 'left',\n",
    "               on = \"address_match_string\")"
   ]
  },
  {
   "cell_type": "code",
   "execution_count": 46,
   "id": "dd8a74ad-e42a-4fc6-a7b9-632dbc29e187",
   "metadata": {},
   "outputs": [
    {
     "data": {
      "text/plain": [
       "1489627"
      ]
     },
     "execution_count": 46,
     "metadata": {},
     "output_type": "execute_result"
    }
   ],
   "source": [
    "len(data_london)"
   ]
  },
  {
   "cell_type": "code",
   "execution_count": 48,
   "id": "1a0a6ae8-43a4-4e23-bc9d-5cb2ca455a0c",
   "metadata": {},
   "outputs": [],
   "source": [
    "match_rate = (len(data_london[data_london[\"TOTAL_FLOOR_AREA\"].notna()])/len(data_london))"
   ]
  },
  {
   "cell_type": "code",
   "execution_count": 49,
   "id": "4c376bb9-0ca9-4fe8-be47-d2623d48b532",
   "metadata": {},
   "outputs": [
    {
     "name": "stdout",
     "output_type": "stream",
     "text": [
      "Match Rate: 80%\n"
     ]
    }
   ],
   "source": [
    "print(f'Match Rate: {round(match_rate*100)}%')"
   ]
  },
  {
   "cell_type": "code",
   "execution_count": 59,
   "id": "e37993d7-44d1-49d5-b3f4-afbe3ebb65d6",
   "metadata": {},
   "outputs": [],
   "source": [
    "data_london = data_london.drop(transformed_cols_pp+[\"address_match_string\"],axis=1)"
   ]
  },
  {
   "cell_type": "code",
   "execution_count": 66,
   "id": "9ed5e8f0-3224-472b-af0e-9743ee69c417",
   "metadata": {},
   "outputs": [],
   "source": [
    "data_london[\"PARTIAL_POSTCODE\"] = data_london[\"POSTCODE\"].str.split(expand=True)[0]"
   ]
  },
  {
   "cell_type": "code",
   "execution_count": 67,
   "id": "da62b40c-b9cf-437f-a26a-6e2f70d56963",
   "metadata": {},
   "outputs": [
    {
     "name": "stdout",
     "output_type": "stream",
     "text": [
      "<class 'pandas.core.frame.DataFrame'>\n",
      "Int64Index: 1489627 entries, 0 to 1489626\n",
      "Data columns (total 18 columns):\n",
      " #   Column                           Non-Null Count    Dtype         \n",
      "---  ------                           --------------    -----         \n",
      " 0   TRANSACTION_UNIQUE_IDENTIFIER    1489627 non-null  object        \n",
      " 1   PRICE                            1489627 non-null  int32         \n",
      " 2   DATE_OF_TRANSFER                 1489627 non-null  datetime64[ns]\n",
      " 3   POSTCODE                         1489627 non-null  object        \n",
      " 4   PROPERTY_TYPE                    1489627 non-null  object        \n",
      " 5   OLD_NEW                          1489627 non-null  object        \n",
      " 6   DURATION                         1489627 non-null  object        \n",
      " 7   PAON                             1489621 non-null  object        \n",
      " 8   SAON                             559561 non-null   object        \n",
      " 9   STREET                           1489570 non-null  object        \n",
      " 10  LOCALITY                         85784 non-null    object        \n",
      " 11  TOWN_CITY                        1489627 non-null  object        \n",
      " 12  DISTRICT                         1489627 non-null  object        \n",
      " 13  COUNTY                           1489627 non-null  object        \n",
      " 14  PPD_CATEGORY_TYPE                1489627 non-null  object        \n",
      " 15  RECORD_STATUS_MONTHLY_FILE_ONLY  1489627 non-null  object        \n",
      " 16  TOTAL_FLOOR_AREA                 1195144 non-null  float64       \n",
      " 17  PARTIAL_POSTCODE                 1489627 non-null  object        \n",
      "dtypes: datetime64[ns](1), float64(1), int32(1), object(15)\n",
      "memory usage: 210.3+ MB\n"
     ]
    }
   ],
   "source": [
    "data_london.info()"
   ]
  },
  {
   "cell_type": "code",
   "execution_count": 79,
   "id": "84cfc8f2-dc94-4c9b-822d-d2c66cec51d2",
   "metadata": {},
   "outputs": [
    {
     "data": {
      "text/html": [
       "<div>\n",
       "<style scoped>\n",
       "    .dataframe tbody tr th:only-of-type {\n",
       "        vertical-align: middle;\n",
       "    }\n",
       "\n",
       "    .dataframe tbody tr th {\n",
       "        vertical-align: top;\n",
       "    }\n",
       "\n",
       "    .dataframe thead th {\n",
       "        text-align: right;\n",
       "    }\n",
       "</style>\n",
       "<table border=\"1\" class=\"dataframe\">\n",
       "  <thead>\n",
       "    <tr style=\"text-align: right;\">\n",
       "      <th></th>\n",
       "      <th>Data item</th>\n",
       "      <th>Explanation (where appropriate)</th>\n",
       "    </tr>\n",
       "  </thead>\n",
       "  <tbody>\n",
       "    <tr>\n",
       "      <th>0</th>\n",
       "      <td>Transaction unique identifier</td>\n",
       "      <td>A reference number which is generated automati...</td>\n",
       "    </tr>\n",
       "    <tr>\n",
       "      <th>1</th>\n",
       "      <td>Price</td>\n",
       "      <td>Sale price stated on the transfer deed.</td>\n",
       "    </tr>\n",
       "    <tr>\n",
       "      <th>2</th>\n",
       "      <td>Date of Transfer</td>\n",
       "      <td>Date when the sale was completed, as stated on...</td>\n",
       "    </tr>\n",
       "    <tr>\n",
       "      <th>3</th>\n",
       "      <td>Postcode</td>\n",
       "      <td>This is the postcode used at the time of the o...</td>\n",
       "    </tr>\n",
       "    <tr>\n",
       "      <th>4</th>\n",
       "      <td>Property Type</td>\n",
       "      <td>D = Detached, S = Semi-Detached, T = Terraced,...</td>\n",
       "    </tr>\n",
       "    <tr>\n",
       "      <th>5</th>\n",
       "      <td>Old/New</td>\n",
       "      <td>Indicates the age of the property and applies ...</td>\n",
       "    </tr>\n",
       "    <tr>\n",
       "      <th>6</th>\n",
       "      <td>Duration</td>\n",
       "      <td>Relates to the tenure: F = Freehold, L= Leaseh...</td>\n",
       "    </tr>\n",
       "    <tr>\n",
       "      <th>7</th>\n",
       "      <td>PAON</td>\n",
       "      <td>Primary Addressable Object Name. Typically the...</td>\n",
       "    </tr>\n",
       "    <tr>\n",
       "      <th>8</th>\n",
       "      <td>SAON</td>\n",
       "      <td>Secondary Addressable Object Name. Where a pro...</td>\n",
       "    </tr>\n",
       "    <tr>\n",
       "      <th>9</th>\n",
       "      <td>Street</td>\n",
       "      <td></td>\n",
       "    </tr>\n",
       "    <tr>\n",
       "      <th>10</th>\n",
       "      <td>Locality</td>\n",
       "      <td></td>\n",
       "    </tr>\n",
       "    <tr>\n",
       "      <th>11</th>\n",
       "      <td>Town/City</td>\n",
       "      <td></td>\n",
       "    </tr>\n",
       "    <tr>\n",
       "      <th>12</th>\n",
       "      <td>District</td>\n",
       "      <td></td>\n",
       "    </tr>\n",
       "    <tr>\n",
       "      <th>13</th>\n",
       "      <td>County</td>\n",
       "      <td></td>\n",
       "    </tr>\n",
       "    <tr>\n",
       "      <th>14</th>\n",
       "      <td>\\nPPD Category Type</td>\n",
       "      <td>Indicates the type of Price Paid transaction.A...</td>\n",
       "    </tr>\n",
       "    <tr>\n",
       "      <th>15</th>\n",
       "      <td>Record Status - monthly file only</td>\n",
       "      <td>Indicates additions, changes and deletions to ...</td>\n",
       "    </tr>\n",
       "  </tbody>\n",
       "</table>\n",
       "</div>"
      ],
      "text/plain": [
       "                            Data item  \\\n",
       "0       Transaction unique identifier   \n",
       "1                               Price   \n",
       "2                    Date of Transfer   \n",
       "3                            Postcode   \n",
       "4                       Property Type   \n",
       "5                             Old/New   \n",
       "6                            Duration   \n",
       "7                                PAON   \n",
       "8                                SAON   \n",
       "9                              Street   \n",
       "10                           Locality   \n",
       "11                          Town/City   \n",
       "12                           District   \n",
       "13                             County   \n",
       "14                \\nPPD Category Type   \n",
       "15  Record Status - monthly file only   \n",
       "\n",
       "                      Explanation (where appropriate)  \n",
       "0   A reference number which is generated automati...  \n",
       "1             Sale price stated on the transfer deed.  \n",
       "2   Date when the sale was completed, as stated on...  \n",
       "3   This is the postcode used at the time of the o...  \n",
       "4   D = Detached, S = Semi-Detached, T = Terraced,...  \n",
       "5   Indicates the age of the property and applies ...  \n",
       "6   Relates to the tenure: F = Freehold, L= Leaseh...  \n",
       "7   Primary Addressable Object Name. Typically the...  \n",
       "8   Secondary Addressable Object Name. Where a pro...  \n",
       "9                                                      \n",
       "10                                                     \n",
       "11                                                     \n",
       "12                                                     \n",
       "13                                                     \n",
       "14  Indicates the type of Price Paid transaction.A...  \n",
       "15  Indicates additions, changes and deletions to ...  "
      ]
     },
     "execution_count": 79,
     "metadata": {},
     "output_type": "execute_result"
    }
   ],
   "source": [
    "pp_dictionary"
   ]
  },
  {
   "cell_type": "code",
   "execution_count": 88,
   "id": "29424f63-8b0d-4cf5-b4bc-541727c2a285",
   "metadata": {},
   "outputs": [
    {
     "data": {
      "text/plain": [
       "array(['Indicates additions, changes and deletions to the records.(see guide below).A = AdditionC = ChangeD = DeleteNote that where a transaction changes category type due to misallocation (as above) it will be deleted from the original category type and added to the correct category with a new transaction unique identifier.'],\n",
       "      dtype=object)"
      ]
     },
     "execution_count": 88,
     "metadata": {},
     "output_type": "execute_result"
    }
   ],
   "source": [
    "pp_dictionary[pp_dictionary[\"Data item\"]==\"Record Status - monthly file only\"][\"Explanation (where appropriate)\"].values"
   ]
  },
  {
   "cell_type": "code",
   "execution_count": 73,
   "id": "762fdce6-41cd-4950-af07-27c4cb43bc71",
   "metadata": {},
   "outputs": [],
   "source": [
    "PROPERTY_TYPE_labels = {\n",
    "    \"D\" : \"Detached\",\n",
    "    \"S\" : \"Semi-Detached\",\n",
    "    \"T\" : \"Terraced\",\n",
    "    \"F\" : \"Flats/Maisonettes\",\n",
    "    \"O\" : \"Other\"\n",
    "}\n",
    "\n",
    "data_london[\"PROPERTY_TYPE\"] = data_london[\"PROPERTY_TYPE\"].map(PROPERTY_TYPE_labels)"
   ]
  },
  {
   "cell_type": "code",
   "execution_count": 81,
   "id": "92091453-9904-4fbe-9b87-85a93afad941",
   "metadata": {},
   "outputs": [],
   "source": [
    "old_new_labels = {\n",
    "    \"Y\":\"newly built\",\n",
    "    \"N\":\"old\"\n",
    "}\n",
    "data_london[\"OLD_NEW\"] = data_london[\"OLD_NEW\"].map(old_new_labels )"
   ]
  },
  {
   "cell_type": "code",
   "execution_count": 85,
   "id": "1178e22e-e88e-44e7-90f0-89bfe8656e4d",
   "metadata": {},
   "outputs": [],
   "source": [
    "duration_labels = {\n",
    "    \"F\" : \"Freehold\", \n",
    "    \"L\" : \"Leasehold\"\n",
    "}\n",
    "\n",
    "data_london[\"DURATION\"] = data_london[\"DURATION\"].map(duration_labels)"
   ]
  },
  {
   "cell_type": "code",
   "execution_count": 94,
   "id": "583b6611-ff11-41b7-8159-543888710f55",
   "metadata": {},
   "outputs": [],
   "source": [
    "# data_london.to_parquet(\"data/london.gzip\")\n",
    "data_london.to_csv(\"data/london.csv\", index=None)"
   ]
  },
  {
   "cell_type": "code",
   "execution_count": 92,
   "id": "ecb0edfd-5f5e-435d-8840-8b2978ee65b5",
   "metadata": {},
   "outputs": [],
   "source": [
    "spark.stop()"
   ]
  },
  {
   "cell_type": "code",
   "execution_count": null,
   "id": "4c9cdeca-75d5-4867-bc43-175b7b6a25db",
   "metadata": {},
   "outputs": [],
   "source": []
  },
  {
   "cell_type": "code",
   "execution_count": 103,
   "id": "33b5114a-bbf2-472d-aa9d-238f3dcb471e",
   "metadata": {},
   "outputs": [],
   "source": [
    "import pandas as pd"
   ]
  },
  {
   "cell_type": "code",
   "execution_count": 104,
   "id": "7d4fa545-8317-42af-bdac-0f3696814339",
   "metadata": {},
   "outputs": [],
   "source": [
    "df = pd.read_csv(\"data/london.csv\")"
   ]
  },
  {
   "cell_type": "code",
   "execution_count": 105,
   "id": "4ffd0e80-da57-4ff9-8ce6-a45627076b1a",
   "metadata": {},
   "outputs": [
    {
     "data": {
      "text/html": [
       "<div>\n",
       "<style scoped>\n",
       "    .dataframe tbody tr th:only-of-type {\n",
       "        vertical-align: middle;\n",
       "    }\n",
       "\n",
       "    .dataframe tbody tr th {\n",
       "        vertical-align: top;\n",
       "    }\n",
       "\n",
       "    .dataframe thead th {\n",
       "        text-align: right;\n",
       "    }\n",
       "</style>\n",
       "<table border=\"1\" class=\"dataframe\">\n",
       "  <thead>\n",
       "    <tr style=\"text-align: right;\">\n",
       "      <th></th>\n",
       "      <th>TRANSACTION_UNIQUE_IDENTIFIER</th>\n",
       "      <th>PRICE</th>\n",
       "      <th>DATE_OF_TRANSFER</th>\n",
       "      <th>POSTCODE</th>\n",
       "      <th>PROPERTY_TYPE</th>\n",
       "      <th>OLD_NEW</th>\n",
       "      <th>DURATION</th>\n",
       "      <th>PAON</th>\n",
       "      <th>SAON</th>\n",
       "      <th>STREET</th>\n",
       "      <th>LOCALITY</th>\n",
       "      <th>TOWN_CITY</th>\n",
       "      <th>DISTRICT</th>\n",
       "      <th>COUNTY</th>\n",
       "      <th>PPD_CATEGORY_TYPE</th>\n",
       "      <th>RECORD_STATUS_MONTHLY_FILE_ONLY</th>\n",
       "      <th>TOTAL_FLOOR_AREA</th>\n",
       "      <th>PARTIAL_POSTCODE</th>\n",
       "    </tr>\n",
       "  </thead>\n",
       "  <tbody>\n",
       "    <tr>\n",
       "      <th>0</th>\n",
       "      <td>{2A83B3D0-0734-420D-B48E-1CB8F384DA98}</td>\n",
       "      <td>250000</td>\n",
       "      <td>2010-02-03</td>\n",
       "      <td>SE10 8AT</td>\n",
       "      <td>Flats/Maisonettes</td>\n",
       "      <td>old</td>\n",
       "      <td>Leasehold</td>\n",
       "      <td>DARTMOUTH COURT</td>\n",
       "      <td>FLAT 70</td>\n",
       "      <td>DARTMOUTH GROVE</td>\n",
       "      <td>NaN</td>\n",
       "      <td>LONDON</td>\n",
       "      <td>LEWISHAM</td>\n",
       "      <td>GREATER LONDON</td>\n",
       "      <td>A</td>\n",
       "      <td>A</td>\n",
       "      <td>69.20</td>\n",
       "      <td>SE10</td>\n",
       "    </tr>\n",
       "    <tr>\n",
       "      <th>1</th>\n",
       "      <td>{E88ACCD1-6563-44AE-B78A-192A8100FF32}</td>\n",
       "      <td>405000</td>\n",
       "      <td>2010-03-01</td>\n",
       "      <td>SW11 2PB</td>\n",
       "      <td>Semi-Detached</td>\n",
       "      <td>old</td>\n",
       "      <td>Freehold</td>\n",
       "      <td>26</td>\n",
       "      <td>NaN</td>\n",
       "      <td>MOSSBURY ROAD</td>\n",
       "      <td>NaN</td>\n",
       "      <td>LONDON</td>\n",
       "      <td>WANDSWORTH</td>\n",
       "      <td>GREATER LONDON</td>\n",
       "      <td>A</td>\n",
       "      <td>A</td>\n",
       "      <td>48.75</td>\n",
       "      <td>SW11</td>\n",
       "    </tr>\n",
       "    <tr>\n",
       "      <th>2</th>\n",
       "      <td>{EFAA44F3-7A6E-45BD-A48B-192AA913F3E7}</td>\n",
       "      <td>575000</td>\n",
       "      <td>2010-06-11</td>\n",
       "      <td>SE1 7HD</td>\n",
       "      <td>Flats/Maisonettes</td>\n",
       "      <td>old</td>\n",
       "      <td>Leasehold</td>\n",
       "      <td>9</td>\n",
       "      <td>FLAT 73</td>\n",
       "      <td>ALBERT EMBANKMENT</td>\n",
       "      <td>NaN</td>\n",
       "      <td>LONDON</td>\n",
       "      <td>LAMBETH</td>\n",
       "      <td>GREATER LONDON</td>\n",
       "      <td>A</td>\n",
       "      <td>A</td>\n",
       "      <td>72.00</td>\n",
       "      <td>SE1</td>\n",
       "    </tr>\n",
       "    <tr>\n",
       "      <th>3</th>\n",
       "      <td>{EB677C10-9596-45B9-817B-1590C0AFC424}</td>\n",
       "      <td>450000</td>\n",
       "      <td>2010-01-15</td>\n",
       "      <td>E1 6RL</td>\n",
       "      <td>Flats/Maisonettes</td>\n",
       "      <td>newly built</td>\n",
       "      <td>Leasehold</td>\n",
       "      <td>110</td>\n",
       "      <td>FLAT 2</td>\n",
       "      <td>BRICK LANE</td>\n",
       "      <td>NaN</td>\n",
       "      <td>LONDON</td>\n",
       "      <td>TOWER HAMLETS</td>\n",
       "      <td>GREATER LONDON</td>\n",
       "      <td>A</td>\n",
       "      <td>A</td>\n",
       "      <td>100.00</td>\n",
       "      <td>E1</td>\n",
       "    </tr>\n",
       "    <tr>\n",
       "      <th>4</th>\n",
       "      <td>{5D363FE5-353E-4385-B8EB-23E024D74DE8}</td>\n",
       "      <td>315000</td>\n",
       "      <td>2010-05-25</td>\n",
       "      <td>SE6 1AL</td>\n",
       "      <td>Terraced</td>\n",
       "      <td>old</td>\n",
       "      <td>Freehold</td>\n",
       "      <td>341</td>\n",
       "      <td>NaN</td>\n",
       "      <td>BROWNHILL ROAD</td>\n",
       "      <td>NaN</td>\n",
       "      <td>LONDON</td>\n",
       "      <td>LEWISHAM</td>\n",
       "      <td>GREATER LONDON</td>\n",
       "      <td>A</td>\n",
       "      <td>A</td>\n",
       "      <td>107.00</td>\n",
       "      <td>SE6</td>\n",
       "    </tr>\n",
       "  </tbody>\n",
       "</table>\n",
       "</div>"
      ],
      "text/plain": [
       "            TRANSACTION_UNIQUE_IDENTIFIER   PRICE DATE_OF_TRANSFER  POSTCODE  \\\n",
       "0  {2A83B3D0-0734-420D-B48E-1CB8F384DA98}  250000       2010-02-03  SE10 8AT   \n",
       "1  {E88ACCD1-6563-44AE-B78A-192A8100FF32}  405000       2010-03-01  SW11 2PB   \n",
       "2  {EFAA44F3-7A6E-45BD-A48B-192AA913F3E7}  575000       2010-06-11   SE1 7HD   \n",
       "3  {EB677C10-9596-45B9-817B-1590C0AFC424}  450000       2010-01-15    E1 6RL   \n",
       "4  {5D363FE5-353E-4385-B8EB-23E024D74DE8}  315000       2010-05-25   SE6 1AL   \n",
       "\n",
       "       PROPERTY_TYPE      OLD_NEW   DURATION             PAON     SAON  \\\n",
       "0  Flats/Maisonettes          old  Leasehold  DARTMOUTH COURT  FLAT 70   \n",
       "1      Semi-Detached          old   Freehold               26      NaN   \n",
       "2  Flats/Maisonettes          old  Leasehold                9  FLAT 73   \n",
       "3  Flats/Maisonettes  newly built  Leasehold              110   FLAT 2   \n",
       "4           Terraced          old   Freehold              341      NaN   \n",
       "\n",
       "              STREET LOCALITY TOWN_CITY       DISTRICT          COUNTY  \\\n",
       "0    DARTMOUTH GROVE      NaN    LONDON       LEWISHAM  GREATER LONDON   \n",
       "1      MOSSBURY ROAD      NaN    LONDON     WANDSWORTH  GREATER LONDON   \n",
       "2  ALBERT EMBANKMENT      NaN    LONDON        LAMBETH  GREATER LONDON   \n",
       "3         BRICK LANE      NaN    LONDON  TOWER HAMLETS  GREATER LONDON   \n",
       "4     BROWNHILL ROAD      NaN    LONDON       LEWISHAM  GREATER LONDON   \n",
       "\n",
       "  PPD_CATEGORY_TYPE RECORD_STATUS_MONTHLY_FILE_ONLY  TOTAL_FLOOR_AREA  \\\n",
       "0                 A                               A             69.20   \n",
       "1                 A                               A             48.75   \n",
       "2                 A                               A             72.00   \n",
       "3                 A                               A            100.00   \n",
       "4                 A                               A            107.00   \n",
       "\n",
       "  PARTIAL_POSTCODE  \n",
       "0             SE10  \n",
       "1             SW11  \n",
       "2              SE1  \n",
       "3               E1  \n",
       "4              SE6  "
      ]
     },
     "execution_count": 105,
     "metadata": {},
     "output_type": "execute_result"
    }
   ],
   "source": [
    "df.head()"
   ]
  },
  {
   "cell_type": "code",
   "execution_count": 106,
   "id": "86a35815-dc68-4c6a-958d-94d395e3826c",
   "metadata": {},
   "outputs": [],
   "source": [
    "sam = df.sample(100)"
   ]
  },
  {
   "cell_type": "code",
   "execution_count": 110,
   "id": "1985c1ac-9fbd-4912-ab7e-3f50ca7ef028",
   "metadata": {},
   "outputs": [
    {
     "data": {
      "text/plain": [
       "dtype('O')"
      ]
     },
     "execution_count": 110,
     "metadata": {},
     "output_type": "execute_result"
    }
   ],
   "source": [
    "sam[\"DATE_OF_TRANSFER\"].dtype"
   ]
  },
  {
   "cell_type": "code",
   "execution_count": 121,
   "id": "3d4462ad-06f4-4c0c-bdb5-77445278c78a",
   "metadata": {},
   "outputs": [],
   "source": [
    "df[\"DATE_OF_TRANSFER\"] = pd.to_datetime(df[\"DATE_OF_TRANSFER\"])"
   ]
  },
  {
   "cell_type": "code",
   "execution_count": 112,
   "id": "2b835634-0161-4690-b679-c2fc22b08ea7",
   "metadata": {},
   "outputs": [],
   "source": [
    "from datetime import datetime"
   ]
  },
  {
   "cell_type": "code",
   "execution_count": 129,
   "id": "0871c230-0f8d-4cc5-8034-26d9bc7f4733",
   "metadata": {},
   "outputs": [],
   "source": [
    "new = df[(df[\"DATE_OF_TRANSFER\"]>datetime(2023,4,1))\n",
    "  &(df[\"OLD_NEW\"]==\"newly built\")]"
   ]
  },
  {
   "cell_type": "code",
   "execution_count": 133,
   "id": "ee6a5fac-999d-4bef-8765-4d9a1231d19f",
   "metadata": {},
   "outputs": [],
   "source": [
    "old = df[(df[\"DATE_OF_TRANSFER\"]>datetime(2023,4,1))\n",
    "  &(df[\"OLD_NEW\"]==\"old\")].sample(100)"
   ]
  },
  {
   "cell_type": "code",
   "execution_count": 134,
   "id": "4753160f-fb27-42df-97f2-9a5ca5258021",
   "metadata": {},
   "outputs": [],
   "source": [
    "pr = pd.concat([new, old])"
   ]
  },
  {
   "cell_type": "code",
   "execution_count": null,
   "id": "1c45eef1-7758-4552-b76a-0fd6c347ad3e",
   "metadata": {},
   "outputs": [],
   "source": []
  },
  {
   "cell_type": "code",
   "execution_count": 136,
   "id": "1614b9c3-a9de-4725-b593-15c9e18cf85a",
   "metadata": {},
   "outputs": [
    {
     "data": {
      "text/plain": [
       "newly built    104\n",
       "old            100\n",
       "Name: OLD_NEW, dtype: int64"
      ]
     },
     "execution_count": 136,
     "metadata": {},
     "output_type": "execute_result"
    }
   ],
   "source": [
    "pr[\"OLD_NEW\"].value_counts()"
   ]
  },
  {
   "cell_type": "code",
   "execution_count": 137,
   "id": "5d20777e-1633-47bf-8b6a-393e0698fcf5",
   "metadata": {},
   "outputs": [],
   "source": [
    "pr.to_csv(\"prova.csv\", index=None)"
   ]
  },
  {
   "cell_type": "code",
   "execution_count": 157,
   "id": "e434010d-d8c9-45e6-b668-5813da3a93c0",
   "metadata": {},
   "outputs": [
    {
     "data": {
      "text/plain": [
       "old            38\n",
       "newly built    10\n",
       "Name: OLD_NEW, dtype: int64"
      ]
     },
     "execution_count": 157,
     "metadata": {},
     "output_type": "execute_result"
    }
   ],
   "source": [
    "pr[(pr[\"DATE_OF_TRANSFER\"] >='2023-07-01')\n",
    "  &(pr[\"DATE_OF_TRANSFER\"] <'2023-09-01')]\\\n",
    "    [\"OLD_NEW\"].value_counts()"
   ]
  },
  {
   "cell_type": "code",
   "execution_count": 152,
   "id": "8c387e21-fa37-4ff5-a089-a2eaf284340d",
   "metadata": {},
   "outputs": [
    {
     "data": {
      "text/plain": [
       "2023-04-06    11\n",
       "2023-06-01     9\n",
       "2023-04-11     7\n",
       "2023-06-30     7\n",
       "2023-07-31     7\n",
       "              ..\n",
       "2023-09-01     1\n",
       "2023-07-03     1\n",
       "2023-08-18     1\n",
       "2023-04-12     1\n",
       "2023-06-28     1\n",
       "Name: DATE_OF_TRANSFER, Length: 81, dtype: int64"
      ]
     },
     "execution_count": 152,
     "metadata": {},
     "output_type": "execute_result"
    }
   ],
   "source": [
    "pr[\"DATE_OF_TRANSFER\"].value_counts().to_csv()"
   ]
  },
  {
   "cell_type": "code",
   "execution_count": null,
   "id": "2b2d1c16-33b4-4b83-a264-0ccf9dbf5d1a",
   "metadata": {},
   "outputs": [],
   "source": []
  }
 ],
 "metadata": {
  "kernelspec": {
   "display_name": "Python 3 (ipykernel)",
   "language": "python",
   "name": "python3"
  },
  "language_info": {
   "codemirror_mode": {
    "name": "ipython",
    "version": 3
   },
   "file_extension": ".py",
   "mimetype": "text/x-python",
   "name": "python",
   "nbconvert_exporter": "python",
   "pygments_lexer": "ipython3",
   "version": "3.10.12"
  }
 },
 "nbformat": 4,
 "nbformat_minor": 5
}
