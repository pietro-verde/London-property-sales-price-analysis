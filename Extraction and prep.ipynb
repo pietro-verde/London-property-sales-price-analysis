{
 "cells": [
  {
   "cell_type": "markdown",
   "id": "e62e8d87-a2bb-4600-b10c-86a305748863",
   "metadata": {},
   "source": [
    "## London Property Sales Price Analysis\n",
    "\n",
    "- Data sources: HM Land Registry Price Paid Data and Energy Performance Certificates (EPCs)\n",
    "\n",
    "\n",
    "*Contains HM Land Registry data and Energy Performance Certificates data © Crown copyright and database right 2021. This data is licensed under the Open Government Licence v3.0.*"
   ]
  },
  {
   "cell_type": "markdown",
   "id": "65cfc07a-575e-4b0b-b8d4-727af6a75e11",
   "metadata": {},
   "source": [
    "#### Price Paid Data Download"
   ]
  },
  {
   "cell_type": "code",
   "execution_count": null,
   "id": "561e6702-8d0c-4845-a269-227dad357df8",
   "metadata": {},
   "outputs": [],
   "source": [
    "!mkdir data"
   ]
  },
  {
   "cell_type": "code",
   "execution_count": 1,
   "id": "37174158-6eb5-4c8e-8029-5d528f2fbbd8",
   "metadata": {},
   "outputs": [],
   "source": [
    "!wget -P data http://prod.publicdata.landregistry.gov.uk.s3-website-eu-west-1.amazonaws.com/pp-complete.csv"
   ]
  },
  {
   "cell_type": "code",
   "execution_count": 2,
   "id": "c80f3a07-1491-4aa4-b7e1-ed8bf0120040",
   "metadata": {},
   "outputs": [],
   "source": [
    "import pandas as pd\n",
    "from pyspark.sql import SparkSession\n",
    "from pyspark.sql import functions as F\n",
    "import requests\n",
    "import os\n",
    "from bs4 import BeautifulSoup\n",
    "import matplotlib.pyplot as plt\n",
    "\n",
    "import warnings\n",
    "warnings.filterwarnings('ignore')"
   ]
  },
  {
   "cell_type": "markdown",
   "id": "d0d2b52a-c5b7-47c5-a2ee-70be2db02a66",
   "metadata": {},
   "source": [
    "#### Price Paid Data Dictionary\n",
    "\n",
    "Web-scaped from\n",
    "https://www.gov.uk/guidance/about-the-price-paid-data#explanations-of-column-headers-in-the-ppd\n"
   ]
  },
  {
   "cell_type": "code",
   "execution_count": 3,
   "id": "975ffbf6-93b4-4a9b-a30d-0a9286c736ba",
   "metadata": {},
   "outputs": [
    {
     "data": {
      "text/html": [
       "<div>\n",
       "<style scoped>\n",
       "    .dataframe tbody tr th:only-of-type {\n",
       "        vertical-align: middle;\n",
       "    }\n",
       "\n",
       "    .dataframe tbody tr th {\n",
       "        vertical-align: top;\n",
       "    }\n",
       "\n",
       "    .dataframe thead th {\n",
       "        text-align: right;\n",
       "    }\n",
       "</style>\n",
       "<table border=\"1\" class=\"dataframe\">\n",
       "  <thead>\n",
       "    <tr style=\"text-align: right;\">\n",
       "      <th></th>\n",
       "      <th>Data item</th>\n",
       "      <th>Explanation (where appropriate)</th>\n",
       "    </tr>\n",
       "  </thead>\n",
       "  <tbody>\n",
       "    <tr>\n",
       "      <th>0</th>\n",
       "      <td>Transaction unique identifier</td>\n",
       "      <td>A reference number which is generated automati...</td>\n",
       "    </tr>\n",
       "    <tr>\n",
       "      <th>1</th>\n",
       "      <td>Price</td>\n",
       "      <td>Sale price stated on the transfer deed.</td>\n",
       "    </tr>\n",
       "    <tr>\n",
       "      <th>2</th>\n",
       "      <td>Date of Transfer</td>\n",
       "      <td>Date when the sale was completed, as stated on...</td>\n",
       "    </tr>\n",
       "    <tr>\n",
       "      <th>3</th>\n",
       "      <td>Postcode</td>\n",
       "      <td>This is the postcode used at the time of the o...</td>\n",
       "    </tr>\n",
       "    <tr>\n",
       "      <th>4</th>\n",
       "      <td>Property Type</td>\n",
       "      <td>D = Detached, S = Semi-Detached, T = Terraced,...</td>\n",
       "    </tr>\n",
       "    <tr>\n",
       "      <th>5</th>\n",
       "      <td>Old/New</td>\n",
       "      <td>Indicates the age of the property and applies ...</td>\n",
       "    </tr>\n",
       "    <tr>\n",
       "      <th>6</th>\n",
       "      <td>Duration</td>\n",
       "      <td>Relates to the tenure: F = Freehold, L= Leaseh...</td>\n",
       "    </tr>\n",
       "    <tr>\n",
       "      <th>7</th>\n",
       "      <td>PAON</td>\n",
       "      <td>Primary Addressable Object Name. Typically the...</td>\n",
       "    </tr>\n",
       "    <tr>\n",
       "      <th>8</th>\n",
       "      <td>SAON</td>\n",
       "      <td>Secondary Addressable Object Name. Where a pro...</td>\n",
       "    </tr>\n",
       "    <tr>\n",
       "      <th>9</th>\n",
       "      <td>Street</td>\n",
       "      <td></td>\n",
       "    </tr>\n",
       "    <tr>\n",
       "      <th>10</th>\n",
       "      <td>Locality</td>\n",
       "      <td></td>\n",
       "    </tr>\n",
       "    <tr>\n",
       "      <th>11</th>\n",
       "      <td>Town/City</td>\n",
       "      <td></td>\n",
       "    </tr>\n",
       "    <tr>\n",
       "      <th>12</th>\n",
       "      <td>District</td>\n",
       "      <td></td>\n",
       "    </tr>\n",
       "    <tr>\n",
       "      <th>13</th>\n",
       "      <td>County</td>\n",
       "      <td></td>\n",
       "    </tr>\n",
       "    <tr>\n",
       "      <th>14</th>\n",
       "      <td>\\nPPD Category Type</td>\n",
       "      <td>Indicates the type of Price Paid transaction.A...</td>\n",
       "    </tr>\n",
       "    <tr>\n",
       "      <th>15</th>\n",
       "      <td>Record Status - monthly file only</td>\n",
       "      <td>Indicates additions, changes and deletions to ...</td>\n",
       "    </tr>\n",
       "  </tbody>\n",
       "</table>\n",
       "</div>"
      ],
      "text/plain": [
       "                            Data item  \\\n",
       "0       Transaction unique identifier   \n",
       "1                               Price   \n",
       "2                    Date of Transfer   \n",
       "3                            Postcode   \n",
       "4                       Property Type   \n",
       "5                             Old/New   \n",
       "6                            Duration   \n",
       "7                                PAON   \n",
       "8                                SAON   \n",
       "9                              Street   \n",
       "10                           Locality   \n",
       "11                          Town/City   \n",
       "12                           District   \n",
       "13                             County   \n",
       "14                \\nPPD Category Type   \n",
       "15  Record Status - monthly file only   \n",
       "\n",
       "                      Explanation (where appropriate)  \n",
       "0   A reference number which is generated automati...  \n",
       "1             Sale price stated on the transfer deed.  \n",
       "2   Date when the sale was completed, as stated on...  \n",
       "3   This is the postcode used at the time of the o...  \n",
       "4   D = Detached, S = Semi-Detached, T = Terraced,...  \n",
       "5   Indicates the age of the property and applies ...  \n",
       "6   Relates to the tenure: F = Freehold, L= Leaseh...  \n",
       "7   Primary Addressable Object Name. Typically the...  \n",
       "8   Secondary Addressable Object Name. Where a pro...  \n",
       "9                                                      \n",
       "10                                                     \n",
       "11                                                     \n",
       "12                                                     \n",
       "13                                                     \n",
       "14  Indicates the type of Price Paid transaction.A...  \n",
       "15  Indicates additions, changes and deletions to ...  "
      ]
     },
     "execution_count": 3,
     "metadata": {},
     "output_type": "execute_result"
    }
   ],
   "source": [
    "url = \"https://www.gov.uk/guidance/about-the-price-paid-data#explanations-of-column-headers-in-the-ppd\"\n",
    "response = requests.get(url)\n",
    "\n",
    "soup = BeautifulSoup(response.content, 'html.parser')\n",
    "\n",
    "element = soup.find('table')\n",
    "\n",
    "rows = element.find_all('tr')\n",
    "\n",
    "headers = [header.text for header in rows[0].find_all('th')]\n",
    "\n",
    "data = []\n",
    "for row in rows[1:]:\n",
    "    data.append([col.text for col in row.find_all('td')])\n",
    "\n",
    "col1data = []\n",
    "col2data = []\n",
    "for row in rows[1:]:\n",
    "    col1data.append([col.text for col in row.find_all('th')])\n",
    "    col2data.append([col.text for col in row.find_all('td')])\n",
    "\n",
    "dat1 = pd.DataFrame(col1data, columns=headers[:1])\n",
    "dat2 = pd.DataFrame(col2data, columns=headers[1:])\n",
    "\n",
    "pp_dictionary = pd.concat([dat1,dat2],axis=1)\n",
    "\n",
    "pp_dictionary"
   ]
  },
  {
   "cell_type": "markdown",
   "id": "7d739f97-25df-41b4-8f3e-761fa7f956d0",
   "metadata": {},
   "source": [
    "#### Price Paid Data Cleaning"
   ]
  },
  {
   "cell_type": "code",
   "execution_count": 4,
   "id": "ea4fb429-b50b-4f60-aed9-27692e13a773",
   "metadata": {},
   "outputs": [],
   "source": [
    "# price paid data file path\n",
    "PP_FILE_PATH =\"data/pp-complete.csv\""
   ]
  },
  {
   "cell_type": "code",
   "execution_count": 5,
   "id": "4294c826-9ac2-413d-8a2d-2e4fe8363643",
   "metadata": {},
   "outputs": [
    {
     "name": "stderr",
     "output_type": "stream",
     "text": [
      "Setting default log level to \"WARN\".\n",
      "To adjust logging level use sc.setLogLevel(newLevel). For SparkR, use setLogLevel(newLevel).\n",
      "24/01/14 13:07:08 WARN NativeCodeLoader: Unable to load native-hadoop library for your platform... using builtin-java classes where applicable\n"
     ]
    }
   ],
   "source": [
    "spark = SparkSession.builder.appName('housesalesdata').getOrCreate()"
   ]
  },
  {
   "cell_type": "code",
   "execution_count": null,
   "id": "33b6763e-ce02-42ba-8d5c-11a0f629f324",
   "metadata": {},
   "outputs": [
    {
     "name": "stderr",
     "output_type": "stream",
     "text": [
      "                                                                                \r"
     ]
    }
   ],
   "source": [
    "pp_raw = spark.read.csv(PP_FILE_PATH, inferSchema=True, header=False)"
   ]
  },
  {
   "cell_type": "code",
   "execution_count": null,
   "id": "d3bbe5e5-a5b5-45b3-a38b-bf92d1a57941",
   "metadata": {},
   "outputs": [],
   "source": [
    "headers = ['TRANSACTION_UNIQUE_IDENTIFIER','PRICE',\n",
    "           'DATE_OF_TRANSFER','POSTCODE','PROPERTY_TYPE',\n",
    "           'OLD_NEW','DURATION','PAON','SAON','STREET',\n",
    "           'LOCALITY','TOWN_CITY','DISTRICT','COUNTY',\n",
    "           'PPD_CATEGORY_TYPE','RECORD_STATUS_MONTHLY_FILE_ONLY']\n",
    "pp_raw = pp_raw.toDF(*headers)"
   ]
  },
  {
   "cell_type": "code",
   "execution_count": 8,
   "id": "5356c38a-623d-4e3e-92f3-fdd2dd36aa71",
   "metadata": {},
   "outputs": [
    {
     "name": "stderr",
     "output_type": "stream",
     "text": [
      "                                                                                \r"
     ]
    },
    {
     "data": {
      "text/plain": [
       "28634236"
      ]
     },
     "execution_count": 8,
     "metadata": {},
     "output_type": "execute_result"
    }
   ],
   "source": [
    "pp_raw.count()"
   ]
  },
  {
   "cell_type": "code",
   "execution_count": 9,
   "id": "f0683811-29af-4970-9bed-ac5bf4ea882b",
   "metadata": {},
   "outputs": [
    {
     "name": "stderr",
     "output_type": "stream",
     "text": [
      "[Stage 5:=======================================================> (37 + 1) / 38]\r"
     ]
    },
    {
     "name": "stdout",
     "output_type": "stream",
     "text": [
      "+-------------------+-------------------+\n",
      "|           min_date|           max_date|\n",
      "+-------------------+-------------------+\n",
      "|1995-01-01 00:00:00|2023-09-29 00:00:00|\n",
      "+-------------------+-------------------+\n",
      "\n"
     ]
    },
    {
     "name": "stderr",
     "output_type": "stream",
     "text": [
      "                                                                                \r"
     ]
    }
   ],
   "source": [
    "pp_raw.select(\n",
    "    F.min('DATE_OF_TRANSFER').alias('min_date'),\n",
    "    F.max('DATE_OF_TRANSFER').alias('max_date')\n",
    "         ).show()"
   ]
  },
  {
   "cell_type": "markdown",
   "id": "36e1e493-0d08-414c-8153-aceb387c73eb",
   "metadata": {},
   "source": [
    "###### Extraction, EDA and cleaning of London Data\n",
    "\n",
    "Only data from 2020 is used for this analysis"
   ]
  },
  {
   "cell_type": "code",
   "execution_count": 10,
   "id": "7b8dacba-f4d8-4f6f-a055-d5f0cfd7ffa6",
   "metadata": {},
   "outputs": [],
   "source": [
    "london_raw = pp_raw.filter(F.col('COUNTY')=='GREATER LONDON')\\\n",
    "    .filter(F.col('DATE_OF_TRANSFER')>='2010-01-01')"
   ]
  },
  {
   "cell_type": "code",
   "execution_count": 11,
   "id": "2970ed66-4cd8-441d-ac22-07076438d767",
   "metadata": {},
   "outputs": [
    {
     "name": "stderr",
     "output_type": "stream",
     "text": [
      "[Stage 8:=======================================================> (37 + 1) / 38]\r"
     ]
    },
    {
     "name": "stdout",
     "output_type": "stream",
     "text": [
      "+-------+-------+\n",
      "|    cnt|   dcnt|\n",
      "+-------+-------+\n",
      "|1494250|1494250|\n",
      "+-------+-------+\n",
      "\n"
     ]
    },
    {
     "name": "stderr",
     "output_type": "stream",
     "text": [
      "                                                                                \r"
     ]
    }
   ],
   "source": [
    "london_raw.select(F.count('TRANSACTION_UNIQUE_IDENTIFIER').alias('cnt'),\n",
    "                F.count_distinct('TRANSACTION_UNIQUE_IDENTIFIER').alias('dcnt')).show()"
   ]
  },
  {
   "cell_type": "markdown",
   "id": "39d90099-24aa-4e39-8693-08feb63fe803",
   "metadata": {},
   "source": [
    "Removing records with missing postcode"
   ]
  },
  {
   "cell_type": "code",
   "execution_count": null,
   "id": "2619b45e-8e32-4de2-805c-835417979fd9",
   "metadata": {},
   "outputs": [
    {
     "name": "stderr",
     "output_type": "stream",
     "text": [
      "                                                                                \r"
     ]
    },
    {
     "data": {
      "text/plain": [
       "4623"
      ]
     },
     "execution_count": 12,
     "metadata": {},
     "output_type": "execute_result"
    }
   ],
   "source": [
    "london_raw.filter(F.col(\"POSTCODE\").isNull()).count()"
   ]
  },
  {
   "cell_type": "code",
   "execution_count": 17,
   "id": "63f6e760-70c6-4493-b513-88080b4abf0a",
   "metadata": {},
   "outputs": [],
   "source": [
    "london_raw = london_raw.filter(F.col(\"POSTCODE\").isNotNull())"
   ]
  },
  {
   "cell_type": "code",
   "execution_count": 18,
   "id": "6630561b-4ef1-49dc-8915-df5228321a52",
   "metadata": {},
   "outputs": [
    {
     "data": {
      "text/plain": [
       "['TRANSACTION_UNIQUE_IDENTIFIER',\n",
       " 'PRICE',\n",
       " 'DATE_OF_TRANSFER',\n",
       " 'POSTCODE',\n",
       " 'PROPERTY_TYPE',\n",
       " 'OLD_NEW',\n",
       " 'DURATION',\n",
       " 'PAON',\n",
       " 'SAON',\n",
       " 'STREET',\n",
       " 'LOCALITY',\n",
       " 'TOWN_CITY',\n",
       " 'DISTRICT',\n",
       " 'COUNTY',\n",
       " 'PPD_CATEGORY_TYPE',\n",
       " 'RECORD_STATUS_MONTHLY_FILE_ONLY']"
      ]
     },
     "execution_count": 18,
     "metadata": {},
     "output_type": "execute_result"
    }
   ],
   "source": [
    "london_raw.columns"
   ]
  },
  {
   "cell_type": "code",
   "execution_count": 54,
   "id": "b21502a8-1f75-4b92-9125-5fcc60ed9d66",
   "metadata": {},
   "outputs": [
    {
     "name": "stderr",
     "output_type": "stream",
     "text": [
      "                                                                                \r"
     ]
    }
   ],
   "source": [
    "byDistrict = london_raw.groupby('DISTRICT').agg(F.count_distinct('TRANSACTION_UNIQUE_IDENTIFIER').alias('cnt')).toPandas()"
   ]
  },
  {
   "cell_type": "code",
   "execution_count": 55,
   "id": "6d8c00e4-e243-418d-9ccd-7465185c372d",
   "metadata": {},
   "outputs": [],
   "source": [
    "byDistrict = byDistrict.nlargest(n=10, columns='cnt')"
   ]
  },
  {
   "cell_type": "code",
   "execution_count": 69,
   "id": "b19a8d93-0252-416e-a54f-05b40067f428",
   "metadata": {},
   "outputs": [
    {
     "data": {
      "image/png": "[encoded data removed]",
      "text/plain": [
       "<Figure size 640x480 with 1 Axes>"
      ]
     },
     "metadata": {},
     "output_type": "display_data"
    }
   ],
   "source": [
    "fig, ax = plt.subplots()\n",
    "\n",
    "ax.spines['top'].set_visible(False)\n",
    "ax.spines['right'].set_visible(False)\n",
    "ax.spines['bottom'].set_visible(False)\n",
    "ax.spines['left'].set_visible(False)\n",
    "\n",
    "width=byDistrict['cnt']\n",
    "y=byDistrict['DISTRICT']\n",
    "title='Count of Property Sales by London District'\n",
    "\n",
    "ax.barh(y=y, width=width)\n",
    "ax.invert_yaxis()\n",
    "ax.set_title(title)\n",
    "\n",
    "for index, value in enumerate(width):\n",
    "    ax.text(value, index, \" \"+str(value),va='center')"
   ]
  },
  {
   "cell_type": "code",
   "execution_count": 70,
   "id": "f46c288b-cc1a-4dea-ae43-f8eeeaece8f9",
   "metadata": {},
   "outputs": [
    {
     "name": "stderr",
     "output_type": "stream",
     "text": [
      "                                                                                \r"
     ]
    }
   ],
   "source": [
    "pp_london = london_raw.toPandas()"
   ]
  },
  {
   "cell_type": "code",
   "execution_count": 71,
   "id": "fe3f2058-430b-4d11-a1b8-03d4d9a591ad",
   "metadata": {},
   "outputs": [
    {
     "name": "stdout",
     "output_type": "stream",
     "text": [
      "<class 'pandas.core.frame.DataFrame'>\n",
      "RangeIndex: 1489627 entries, 0 to 1489626\n",
      "Data columns (total 16 columns):\n",
      " #   Column                           Non-Null Count    Dtype         \n",
      "---  ------                           --------------    -----         \n",
      " 0   TRANSACTION_UNIQUE_IDENTIFIER    1489627 non-null  object        \n",
      " 1   PRICE                            1489627 non-null  int32         \n",
      " 2   DATE_OF_TRANSFER                 1489627 non-null  datetime64[ns]\n",
      " 3   POSTCODE                         1489627 non-null  object        \n",
      " 4   PROPERTY_TYPE                    1489627 non-null  object        \n",
      " 5   OLD_NEW                          1489627 non-null  object        \n",
      " 6   DURATION                         1489627 non-null  object        \n",
      " 7   PAON                             1489621 non-null  object        \n",
      " 8   SAON                             559561 non-null   object        \n",
      " 9   STREET                           1489570 non-null  object        \n",
      " 10  LOCALITY                         85784 non-null    object        \n",
      " 11  TOWN_CITY                        1489627 non-null  object        \n",
      " 12  DISTRICT                         1489627 non-null  object        \n",
      " 13  COUNTY                           1489627 non-null  object        \n",
      " 14  PPD_CATEGORY_TYPE                1489627 non-null  object        \n",
      " 15  RECORD_STATUS_MONTHLY_FILE_ONLY  1489627 non-null  object        \n",
      "dtypes: datetime64[ns](1), int32(1), object(14)\n",
      "memory usage: 176.2+ MB\n"
     ]
    }
   ],
   "source": [
    "pp_london.info()"
   ]
  },
  {
   "cell_type": "markdown",
   "id": "3c4ad32f-de18-4cbf-adc8-cb3ebecb6992",
   "metadata": {},
   "source": [
    "## Load EPC data\n",
    "\n",
    "---- EPC data for floor area\n",
    "---- match\n",
    "\n"
   ]
  },
  {
   "cell_type": "code",
   "execution_count": null,
   "id": "199d5301-71a2-417f-bc4f-2476e99eee75",
   "metadata": {},
   "outputs": [],
   "source": [
    "# EPC data dowbloaded from\n",
    "# https://epc.opendatacommunities.org/domestic/search\n",
    "# Registration required."
   ]
  },
  {
   "cell_type": "code",
   "execution_count": null,
   "id": "ea31221d-e2af-44ce-9bb2-6ce3d3b5d526",
   "metadata": {},
   "outputs": [],
   "source": [
    "districts = pd.read_csv(\"data/Local_Authority_Districts_(April_2023)_Names_and_Codes_in_the_United_Kingdom.csv\")\n",
    "lon_boroughs = pd.read_csv(\"data/london_borough.csv\") # from Wikipedia\n",
    "\n",
    "lon_boroughs = lon_boroughs.rename(columns={\"Borough\":\"LAD23NM\"})\n",
    "\n",
    "lon_districts = lon_boroughs.merge(districts[[\"LAD23NM\",\"LAD23CD\"]],\n",
    "                  how=\"left\",\n",
    "                  on=\"LAD23NM\")\n",
    "\n",
    "lon_districts_set = set(lon_districts[\"LAD23CD\"])"
   ]
  },
  {
   "cell_type": "code",
   "execution_count": null,
   "id": "56b5ed78-7947-4216-8d84-b8c79ee27aed",
   "metadata": {},
   "outputs": [],
   "source": [
    "fol = 'epc_data/'\n",
    "lista = os.listdir(fol)"
   ]
  },
  {
   "cell_type": "code",
   "execution_count": null,
   "id": "f7ab7568-f424-4bcb-a1b5-41a1d212b872",
   "metadata": {},
   "outputs": [],
   "source": [
    "cols_epc = [\"ADDRESS\",\"POSTCODE\",\"TOTAL_FLOOR_AREA\"]\n",
    "\n",
    "dfs = []\n",
    "for fol1 in lista:\n",
    "    dist = fol1.split(\"-\")[1]\n",
    "    if dist in lon_districts_set:\n",
    "        tmp = pd.read_csv(fol+fol1+\"/certificates.csv\",\n",
    "                          usecols = cols_epc,\n",
    "                          low_memory=False)\n",
    "        dfs.append(tmp)"
   ]
  },
  {
   "cell_type": "code",
   "execution_count": null,
   "id": "70614268-48ec-4b14-b415-2cd0f2984131",
   "metadata": {},
   "outputs": [],
   "source": [
    "london_epc = pd.concat(dfs, ignore_index=True)"
   ]
  },
  {
   "cell_type": "markdown",
   "id": "781ba25b-465c-43c9-b497-b41604f68033",
   "metadata": {},
   "source": [
    "### Reformat columns and merge"
   ]
  },
  {
   "cell_type": "code",
   "execution_count": null,
   "id": "aa1b49b8-b06b-460e-bf01-6564f7475b66",
   "metadata": {},
   "outputs": [],
   "source": [
    "def transform(df, cols:list):\n",
    "    transformed_cols = []\n",
    "    for c in cols:\n",
    "        newc = c+\"_fmt\"\n",
    "        df[newc] = df[c].str.strip()\n",
    "        df[newc] = df[newc].str.lower()\n",
    "        df[newc] = df[newc].str.replace(\" \",\"\")\n",
    "        df[newc] = df[newc].str.replace(\",\",\"\")\n",
    "        transformed_cols.append(newc)\n",
    "    return transformed_cols"
   ]
  },
  {
   "cell_type": "code",
   "execution_count": null,
   "id": "5f9c1f85-2b08-478d-b70b-32bb927d22d3",
   "metadata": {},
   "outputs": [],
   "source": [
    "pp_cols = [\"SAON\", \"PAON\", \"STREET\",\"POSTCODE\"]\n",
    "\n",
    "transformed_cols_pp = transform(pp_london, pp_cols)"
   ]
  },
  {
   "cell_type": "code",
   "execution_count": null,
   "id": "731b5ec7-021a-459c-8cf2-8b82cb140522",
   "metadata": {},
   "outputs": [],
   "source": [
    "pp_london[\"address_match_string\"] = pp_london[transformed_cols_pp].fillna(\"\").astype(str).agg(lambda x:''.join(x), axis=1)"
   ]
  },
  {
   "cell_type": "code",
   "execution_count": null,
   "id": "4e3e9993-a2ac-4479-82be-3f3fedc68229",
   "metadata": {},
   "outputs": [],
   "source": [
    "epc_cols = ['ADDRESS', 'POSTCODE']\n",
    "transformed_cols_epc = transform(london_epc, epc_cols)"
   ]
  },
  {
   "cell_type": "code",
   "execution_count": null,
   "id": "4f180341-9fec-4409-8e53-bfbd7f04bd8f",
   "metadata": {},
   "outputs": [],
   "source": [
    "london_epc[\"address_match_string\"] = london_epc[transformed_cols_epc].fillna(\"\").astype(str).agg(lambda x:''.join(x), axis=1)"
   ]
  },
  {
   "cell_type": "markdown",
   "id": "a07c26f0-018e-4227-8332-e0a874566238",
   "metadata": {},
   "source": [
    "## Cleaning london_epc\n",
    "\n",
    "For the addresses that have multiple values for \"TOTAL_FLOOR_AREA\", I keep only the highest."
   ]
  },
  {
   "cell_type": "code",
   "execution_count": null,
   "id": "9f536551-278a-47c3-97f3-11c0ace5f824",
   "metadata": {},
   "outputs": [],
   "source": [
    "london_epc[\"address_match_string\"].value_counts()"
   ]
  },
  {
   "cell_type": "code",
   "execution_count": null,
   "id": "0adb1d5d-ecb3-4b75-80e0-4718f260546d",
   "metadata": {},
   "outputs": [],
   "source": [
    "london_epc = london_epc.sort_values([\"address_match_string\",\"TOTAL_FLOOR_AREA\"], ascending=False)\\\n",
    "    .drop_duplicates(\"address_match_string\",keep='first')"
   ]
  },
  {
   "cell_type": "code",
   "execution_count": null,
   "id": "5634fbf9-0888-4adf-9e0e-f39dfa99cd70",
   "metadata": {},
   "outputs": [],
   "source": [
    "london_epc[\"address_match_string\"].value_counts()"
   ]
  },
  {
   "cell_type": "code",
   "execution_count": null,
   "id": "3bfd67f7-e87b-4c36-ba31-75b076e526c4",
   "metadata": {},
   "outputs": [],
   "source": [
    "# london_epc = london_epc.merge(london_epc[\"address_match_string\"].value_counts().rename(\"count\"),\n",
    "#                  how='left',\n",
    "#                  left_on=\"address_match_string\",\n",
    "#                  right_index=True)"
   ]
  },
  {
   "cell_type": "code",
   "execution_count": null,
   "id": "3267f215-9ff1-4bbb-a9ba-46369aa717f6",
   "metadata": {},
   "outputs": [],
   "source": [
    "# london_epc[london_epc[\"count\"]>1].sort_values(\"address_match_string\")"
   ]
  },
  {
   "cell_type": "markdown",
   "id": "690e224d-fed7-4ba0-950b-0695ce316573",
   "metadata": {},
   "source": [
    "### Merging"
   ]
  },
  {
   "cell_type": "code",
   "execution_count": null,
   "id": "471ab4b9-d95f-498c-bdd4-bea2a30de71a",
   "metadata": {},
   "outputs": [],
   "source": [
    "len(pp_london)"
   ]
  },
  {
   "cell_type": "code",
   "execution_count": null,
   "id": "f271c727-e1b2-4c16-a94e-d76fd8fd48b0",
   "metadata": {},
   "outputs": [],
   "source": [
    "data_london = pp_london.merge(london_epc[[\"address_match_string\", \"TOTAL_FLOOR_AREA\"]],\n",
    "               how = 'left',\n",
    "               on = \"address_match_string\")"
   ]
  },
  {
   "cell_type": "code",
   "execution_count": null,
   "id": "dd8a74ad-e42a-4fc6-a7b9-632dbc29e187",
   "metadata": {},
   "outputs": [],
   "source": [
    "len(data_london)"
   ]
  },
  {
   "cell_type": "code",
   "execution_count": null,
   "id": "1a0a6ae8-43a4-4e23-bc9d-5cb2ca455a0c",
   "metadata": {},
   "outputs": [],
   "source": [
    "match_rate = (len(data_london[data_london[\"TOTAL_FLOOR_AREA\"].notna()])/len(data_london))"
   ]
  },
  {
   "cell_type": "code",
   "execution_count": null,
   "id": "4c376bb9-0ca9-4fe8-be47-d2623d48b532",
   "metadata": {},
   "outputs": [],
   "source": [
    "print(f'Match Rate: {round(match_rate*100)}%')"
   ]
  },
  {
   "cell_type": "code",
   "execution_count": null,
   "id": "e37993d7-44d1-49d5-b3f4-afbe3ebb65d6",
   "metadata": {},
   "outputs": [],
   "source": [
    "data_london = data_london.drop(transformed_cols_pp+[\"address_match_string\"],axis=1)"
   ]
  },
  {
   "cell_type": "code",
   "execution_count": null,
   "id": "9ed5e8f0-3224-472b-af0e-9743ee69c417",
   "metadata": {},
   "outputs": [],
   "source": [
    "data_london[\"PARTIAL_POSTCODE\"] = data_london[\"POSTCODE\"].str.split(expand=True)[0]"
   ]
  },
  {
   "cell_type": "code",
   "execution_count": null,
   "id": "da62b40c-b9cf-437f-a26a-6e2f70d56963",
   "metadata": {},
   "outputs": [],
   "source": [
    "data_london.info()"
   ]
  },
  {
   "cell_type": "code",
   "execution_count": null,
   "id": "84cfc8f2-dc94-4c9b-822d-d2c66cec51d2",
   "metadata": {},
   "outputs": [],
   "source": [
    "pp_dictionary"
   ]
  },
  {
   "cell_type": "code",
   "execution_count": null,
   "id": "29424f63-8b0d-4cf5-b4bc-541727c2a285",
   "metadata": {},
   "outputs": [],
   "source": [
    "pp_dictionary[pp_dictionary[\"Data item\"]==\"Record Status - monthly file only\"][\"Explanation (where appropriate)\"].values"
   ]
  },
  {
   "cell_type": "code",
   "execution_count": null,
   "id": "762fdce6-41cd-4950-af07-27c4cb43bc71",
   "metadata": {},
   "outputs": [],
   "source": [
    "PROPERTY_TYPE_labels = {\n",
    "    \"D\" : \"Detached\",\n",
    "    \"S\" : \"Semi-Detached\",\n",
    "    \"T\" : \"Terraced\",\n",
    "    \"F\" : \"Flats/Maisonettes\",\n",
    "    \"O\" : \"Other\"\n",
    "}\n",
    "\n",
    "data_london[\"PROPERTY_TYPE\"] = data_london[\"PROPERTY_TYPE\"].map(PROPERTY_TYPE_labels)"
   ]
  },
  {
   "cell_type": "code",
   "execution_count": null,
   "id": "92091453-9904-4fbe-9b87-85a93afad941",
   "metadata": {},
   "outputs": [],
   "source": [
    "old_new_labels = {\n",
    "    \"Y\":\"newly built\",\n",
    "    \"N\":\"old\"\n",
    "}\n",
    "data_london[\"OLD_NEW\"] = data_london[\"OLD_NEW\"].map(old_new_labels )"
   ]
  },
  {
   "cell_type": "code",
   "execution_count": null,
   "id": "1178e22e-e88e-44e7-90f0-89bfe8656e4d",
   "metadata": {},
   "outputs": [],
   "source": [
    "duration_labels = {\n",
    "    \"F\" : \"Freehold\", \n",
    "    \"L\" : \"Leasehold\"\n",
    "}\n",
    "\n",
    "data_london[\"DURATION\"] = data_london[\"DURATION\"].map(duration_labels)"
   ]
  },
  {
   "cell_type": "code",
   "execution_count": null,
   "id": "583b6611-ff11-41b7-8159-543888710f55",
   "metadata": {},
   "outputs": [],
   "source": [
    "# data_london.to_parquet(\"data/london.gzip\")\n",
    "data_london.to_csv(\"data/london.csv\", index=None)"
   ]
  },
  {
   "cell_type": "code",
   "execution_count": null,
   "id": "ecb0edfd-5f5e-435d-8840-8b2978ee65b5",
   "metadata": {},
   "outputs": [],
   "source": [
    "spark.stop()"
   ]
  },
  {
   "cell_type": "code",
   "execution_count": null,
   "id": "4c9cdeca-75d5-4867-bc43-175b7b6a25db",
   "metadata": {},
   "outputs": [],
   "source": []
  },
  {
   "cell_type": "code",
   "execution_count": null,
   "id": "e7e8cc61-422b-4fcf-8f34-a0d84836258c",
   "metadata": {},
   "outputs": [],
   "source": []
  },
  {
   "cell_type": "code",
   "execution_count": null,
   "id": "2b2d1c16-33b4-4b83-a264-0ccf9dbf5d1a",
   "metadata": {},
   "outputs": [],
   "source": []
  }
 ],
 "metadata": {
  "kernelspec": {
   "display_name": "Python 3 (ipykernel)",
   "language": "python",
   "name": "python3"
  },
  "language_info": {
   "codemirror_mode": {
    "name": "ipython",
    "version": 3
   },
   "file_extension": ".py",
   "mimetype": "text/x-python",
   "name": "python",
   "nbconvert_exporter": "python",
   "pygments_lexer": "ipython3",
   "version": "3.10.12"
  }
 },
 "nbformat": 4,
 "nbformat_minor": 5
}
